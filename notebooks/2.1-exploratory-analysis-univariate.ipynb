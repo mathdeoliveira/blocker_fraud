{
 "cells": [
  {
   "cell_type": "markdown",
   "id": "8fe8321b",
   "metadata": {},
   "source": [
    "# 1. Blocker Fraud Company\n",
    " <font size=\"2\"> Dados e problema negócio hipotéticos</font>\n",
    " \n",
    "A Blocker Fraud Company é uma empresa especializada na detecção de fraudes em transações financeiras feitas atravś de dispositivos móveis.\n",
    "\n",
    "O modelo de negócio da empresa é do tipo Serviço com a monetização feita por performance do serviço prestado, ou seja, o usuário paga uma taxa fixa sobre o sucesso da detecção de fraude das transações.\n",
    "\n",
    "## 1.1. Estratégia de expansão\n",
    "\n",
    "A Blocker Fraud Company está em fase de expansão no Brasil e para adquirir clientes mais rapidamente, ela adotou uma estratégia muito agressiva. A estratégia funciona da seguinte forma:\n",
    "\n",
    "1. A empresa vai receber 25% do valor de cada transação detectada verdadeiramente como fraude.\n",
    "2. A empresa vai receber 5% do valor de cada transação detectada como fraude, porém a transação é verdadeiramente legítima.\n",
    "3. A empresa vai devolver 100% do valor para o cliente, a cada transação detectada como legítima, porém a transação é verdadeiramente uma fraude.\n",
    "\n",
    "Com essa estratégia agressiva a empresa assume os riscos em falhar na detecção de fraude e é remunerada na detecção assertiva das fraudes.\n",
    "\n",
    "## 1.2. Objetivo\n",
    "\n",
    "Criar um modelo de alta precisão e acurácia na detecção de fraudes de transações feitas através de dispositivos móveis.\n",
    "\n",
    "### 1.2.1. Entregáveis\n",
    "\n",
    "Modelo em produção no qual seu acesso será feito via API, ou seja, os clientes enviarão suas transações via API para que o seu modelo as classifique como fraudulentas ou legítimas.\n",
    "\n",
    "Além disso, você precisará entregar um relatório reportando a performance e os resultados do seu modelo em relação ao lucro e prejuízo que a empresa terá ao usar o modelo que você produziu. No seu relatório deve conter as respostas para as seguintes perguntas:\n",
    "\n",
    "1. Qual a Precisão e Acurácia do modelo?\n",
    "2. Qual a Confiabilidade do modelo em classificar as transações como legítimas ou fraudulentas?\n",
    "3. Qual o Faturamento Esperado pela Empresa se classificarmos 100% das transações com o modelo?\n",
    "4. Qual o Prejuízo Esperado pela Empresa em caso de falha do modelo?\n",
    "5. Qual o Lucro Esperado pela Blocker Fraud Company ao utilizar o modelo?\n"
   ]
  },
  {
   "cell_type": "markdown",
   "id": "ef472ae8",
   "metadata": {},
   "source": [
    "# 2. Imports"
   ]
  },
  {
   "cell_type": "code",
   "execution_count": 1,
   "id": "be62b7af",
   "metadata": {
    "ExecuteTime": {
     "end_time": "2022-04-29T17:40:21.025369Z",
     "start_time": "2022-04-29T17:40:20.073318Z"
    }
   },
   "outputs": [],
   "source": [
    "import numpy as np\n",
    "import pandas as pd\n",
    "import matplotlib.pyplot as plt\n",
    "import seaborn as sns\n",
    "\n",
    "#display\n",
    "pd.set_option('display.float_format', lambda x: '%.5f' % x)"
   ]
  },
  {
   "cell_type": "markdown",
   "id": "f60674db",
   "metadata": {
    "heading_collapsed": true
   },
   "source": [
    "## 2.1. Utils functions"
   ]
  },
  {
   "cell_type": "markdown",
   "id": "04cb3a11",
   "metadata": {},
   "source": [
    "# 3. Data"
   ]
  },
  {
   "cell_type": "markdown",
   "id": "f49dc166",
   "metadata": {},
   "source": [
    "## 3.1. Load dataset"
   ]
  },
  {
   "cell_type": "code",
   "execution_count": 2,
   "id": "5128588c",
   "metadata": {
    "ExecuteTime": {
     "end_time": "2022-04-29T17:40:25.844865Z",
     "start_time": "2022-04-29T17:40:21.026528Z"
    }
   },
   "outputs": [],
   "source": [
    "df = pd.read_parquet('../data/raw/df_train.parquet.gzip')"
   ]
  },
  {
   "cell_type": "code",
   "execution_count": 3,
   "id": "08d89079",
   "metadata": {
    "ExecuteTime": {
     "end_time": "2022-04-29T17:40:25.856983Z",
     "start_time": "2022-04-29T17:40:25.846221Z"
    }
   },
   "outputs": [
    {
     "data": {
      "text/html": [
       "<div>\n",
       "<style scoped>\n",
       "    .dataframe tbody tr th:only-of-type {\n",
       "        vertical-align: middle;\n",
       "    }\n",
       "\n",
       "    .dataframe tbody tr th {\n",
       "        vertical-align: top;\n",
       "    }\n",
       "\n",
       "    .dataframe thead th {\n",
       "        text-align: right;\n",
       "    }\n",
       "</style>\n",
       "<table border=\"1\" class=\"dataframe\">\n",
       "  <thead>\n",
       "    <tr style=\"text-align: right;\">\n",
       "      <th></th>\n",
       "      <th>step</th>\n",
       "      <th>type</th>\n",
       "      <th>amount</th>\n",
       "      <th>nameOrig</th>\n",
       "      <th>oldbalanceOrg</th>\n",
       "      <th>newbalanceOrig</th>\n",
       "      <th>nameDest</th>\n",
       "      <th>oldbalanceDest</th>\n",
       "      <th>newbalanceDest</th>\n",
       "      <th>isFraud</th>\n",
       "      <th>isFlaggedFraud</th>\n",
       "    </tr>\n",
       "  </thead>\n",
       "  <tbody>\n",
       "    <tr>\n",
       "      <th>0</th>\n",
       "      <td>1</td>\n",
       "      <td>PAYMENT</td>\n",
       "      <td>9839.64000</td>\n",
       "      <td>C1231006815</td>\n",
       "      <td>170136.00000</td>\n",
       "      <td>160296.36000</td>\n",
       "      <td>M1979787155</td>\n",
       "      <td>0.00000</td>\n",
       "      <td>0.00000</td>\n",
       "      <td>0</td>\n",
       "      <td>0</td>\n",
       "    </tr>\n",
       "    <tr>\n",
       "      <th>1</th>\n",
       "      <td>1</td>\n",
       "      <td>PAYMENT</td>\n",
       "      <td>1864.28000</td>\n",
       "      <td>C1666544295</td>\n",
       "      <td>21249.00000</td>\n",
       "      <td>19384.72000</td>\n",
       "      <td>M2044282225</td>\n",
       "      <td>0.00000</td>\n",
       "      <td>0.00000</td>\n",
       "      <td>0</td>\n",
       "      <td>0</td>\n",
       "    </tr>\n",
       "    <tr>\n",
       "      <th>2</th>\n",
       "      <td>1</td>\n",
       "      <td>TRANSFER</td>\n",
       "      <td>181.00000</td>\n",
       "      <td>C1305486145</td>\n",
       "      <td>181.00000</td>\n",
       "      <td>0.00000</td>\n",
       "      <td>C553264065</td>\n",
       "      <td>0.00000</td>\n",
       "      <td>0.00000</td>\n",
       "      <td>1</td>\n",
       "      <td>0</td>\n",
       "    </tr>\n",
       "    <tr>\n",
       "      <th>3</th>\n",
       "      <td>1</td>\n",
       "      <td>CASH_OUT</td>\n",
       "      <td>181.00000</td>\n",
       "      <td>C840083671</td>\n",
       "      <td>181.00000</td>\n",
       "      <td>0.00000</td>\n",
       "      <td>C38997010</td>\n",
       "      <td>21182.00000</td>\n",
       "      <td>0.00000</td>\n",
       "      <td>1</td>\n",
       "      <td>0</td>\n",
       "    </tr>\n",
       "    <tr>\n",
       "      <th>4</th>\n",
       "      <td>1</td>\n",
       "      <td>PAYMENT</td>\n",
       "      <td>11668.14000</td>\n",
       "      <td>C2048537720</td>\n",
       "      <td>41554.00000</td>\n",
       "      <td>29885.86000</td>\n",
       "      <td>M1230701703</td>\n",
       "      <td>0.00000</td>\n",
       "      <td>0.00000</td>\n",
       "      <td>0</td>\n",
       "      <td>0</td>\n",
       "    </tr>\n",
       "  </tbody>\n",
       "</table>\n",
       "</div>"
      ],
      "text/plain": [
       "   step      type      amount     nameOrig  oldbalanceOrg  newbalanceOrig  \\\n",
       "0     1   PAYMENT  9839.64000  C1231006815   170136.00000    160296.36000   \n",
       "1     1   PAYMENT  1864.28000  C1666544295    21249.00000     19384.72000   \n",
       "2     1  TRANSFER   181.00000  C1305486145      181.00000         0.00000   \n",
       "3     1  CASH_OUT   181.00000   C840083671      181.00000         0.00000   \n",
       "4     1   PAYMENT 11668.14000  C2048537720    41554.00000     29885.86000   \n",
       "\n",
       "      nameDest  oldbalanceDest  newbalanceDest  isFraud  isFlaggedFraud  \n",
       "0  M1979787155         0.00000         0.00000        0               0  \n",
       "1  M2044282225         0.00000         0.00000        0               0  \n",
       "2   C553264065         0.00000         0.00000        1               0  \n",
       "3    C38997010     21182.00000         0.00000        1               0  \n",
       "4  M1230701703         0.00000         0.00000        0               0  "
      ]
     },
     "execution_count": 3,
     "metadata": {},
     "output_type": "execute_result"
    }
   ],
   "source": [
    "df.head()"
   ]
  },
  {
   "cell_type": "markdown",
   "id": "1fff2fe2",
   "metadata": {},
   "source": [
    "# 4 Exploratory data analysis"
   ]
  },
  {
   "cell_type": "markdown",
   "id": "166a5a5a",
   "metadata": {},
   "source": [
    "## 4.1. Data types"
   ]
  },
  {
   "cell_type": "code",
   "execution_count": 4,
   "id": "29c18456",
   "metadata": {
    "ExecuteTime": {
     "end_time": "2022-04-29T17:40:27.640279Z",
     "start_time": "2022-04-29T17:40:25.858228Z"
    }
   },
   "outputs": [
    {
     "name": "stdout",
     "output_type": "stream",
     "text": [
      "<class 'pandas.core.frame.DataFrame'>\n",
      "Int64Index: 6298994 entries, 0 to 6362619\n",
      "Data columns (total 11 columns):\n",
      " #   Column          Non-Null Count    Dtype  \n",
      "---  ------          --------------    -----  \n",
      " 0   step            6298994 non-null  int64  \n",
      " 1   type            6298994 non-null  object \n",
      " 2   amount          6298994 non-null  float64\n",
      " 3   nameOrig        6298994 non-null  object \n",
      " 4   oldbalanceOrg   6298994 non-null  float64\n",
      " 5   newbalanceOrig  6298994 non-null  float64\n",
      " 6   nameDest        6298994 non-null  object \n",
      " 7   oldbalanceDest  6298994 non-null  float64\n",
      " 8   newbalanceDest  6298994 non-null  float64\n",
      " 9   isFraud         6298994 non-null  int64  \n",
      " 10  isFlaggedFraud  6298994 non-null  int64  \n",
      "dtypes: float64(5), int64(3), object(3)\n",
      "memory usage: 576.7+ MB\n"
     ]
    }
   ],
   "source": [
    "df.info(show_counts=True)"
   ]
  },
  {
   "cell_type": "markdown",
   "id": "70b3edba",
   "metadata": {},
   "source": [
    "Como vimos no notebook anterior, percebemos que o dataset não possui valores nulos, olhando também os tipos das variáveis podemos definir que os tipos estão corretos, não existe a necessidade de trocar algum tipo atual para outro desejado."
   ]
  },
  {
   "cell_type": "markdown",
   "id": "7419335b",
   "metadata": {},
   "source": [
    "## 4.2. Analysis"
   ]
  },
  {
   "cell_type": "code",
   "execution_count": 5,
   "id": "716693bb",
   "metadata": {
    "ExecuteTime": {
     "end_time": "2022-04-29T17:40:27.643881Z",
     "start_time": "2022-04-29T17:40:27.641550Z"
    }
   },
   "outputs": [],
   "source": [
    "num_attributes = df.select_dtypes( include=['int64', 'float64'] )"
   ]
  },
  {
   "cell_type": "code",
   "execution_count": 6,
   "id": "372f4889",
   "metadata": {
    "ExecuteTime": {
     "end_time": "2022-04-29T17:40:33.948860Z",
     "start_time": "2022-04-29T17:40:27.644856Z"
    }
   },
   "outputs": [
    {
     "data": {
      "text/html": [
       "<div>\n",
       "<style scoped>\n",
       "    .dataframe tbody tr th:only-of-type {\n",
       "        vertical-align: middle;\n",
       "    }\n",
       "\n",
       "    .dataframe tbody tr th {\n",
       "        vertical-align: top;\n",
       "    }\n",
       "\n",
       "    .dataframe thead th {\n",
       "        text-align: right;\n",
       "    }\n",
       "</style>\n",
       "<table border=\"1\" class=\"dataframe\">\n",
       "  <thead>\n",
       "    <tr style=\"text-align: right;\">\n",
       "      <th></th>\n",
       "      <th>attributes</th>\n",
       "      <th>min</th>\n",
       "      <th>max</th>\n",
       "      <th>range</th>\n",
       "      <th>mean</th>\n",
       "      <th>median</th>\n",
       "      <th>std</th>\n",
       "      <th>skew</th>\n",
       "      <th>kurtosis</th>\n",
       "    </tr>\n",
       "  </thead>\n",
       "  <tbody>\n",
       "    <tr>\n",
       "      <th>0</th>\n",
       "      <td>step</td>\n",
       "      <td>1.00000</td>\n",
       "      <td>743.00000</td>\n",
       "      <td>742.00000</td>\n",
       "      <td>243.39388</td>\n",
       "      <td>239.00000</td>\n",
       "      <td>142.33325</td>\n",
       "      <td>0.37531</td>\n",
       "      <td>0.32919</td>\n",
       "    </tr>\n",
       "    <tr>\n",
       "      <th>1</th>\n",
       "      <td>amount</td>\n",
       "      <td>0.00000</td>\n",
       "      <td>92445516.64000</td>\n",
       "      <td>92445516.64000</td>\n",
       "      <td>179858.47592</td>\n",
       "      <td>74857.85500</td>\n",
       "      <td>604367.91687</td>\n",
       "      <td>31.07136</td>\n",
       "      <td>1805.42315</td>\n",
       "    </tr>\n",
       "    <tr>\n",
       "      <th>2</th>\n",
       "      <td>oldbalanceOrg</td>\n",
       "      <td>0.00000</td>\n",
       "      <td>59585040.37000</td>\n",
       "      <td>59585040.37000</td>\n",
       "      <td>833819.93275</td>\n",
       "      <td>14210.98500</td>\n",
       "      <td>2887940.20645</td>\n",
       "      <td>5.24905</td>\n",
       "      <td>32.96327</td>\n",
       "    </tr>\n",
       "    <tr>\n",
       "      <th>3</th>\n",
       "      <td>newbalanceOrig</td>\n",
       "      <td>0.00000</td>\n",
       "      <td>49585040.37000</td>\n",
       "      <td>49585040.37000</td>\n",
       "      <td>855054.43253</td>\n",
       "      <td>0.00000</td>\n",
       "      <td>2923734.60445</td>\n",
       "      <td>5.17670</td>\n",
       "      <td>32.06363</td>\n",
       "    </tr>\n",
       "    <tr>\n",
       "      <th>4</th>\n",
       "      <td>oldbalanceDest</td>\n",
       "      <td>0.00000</td>\n",
       "      <td>356015889.35000</td>\n",
       "      <td>356015889.35000</td>\n",
       "      <td>1100603.99191</td>\n",
       "      <td>132714.48500</td>\n",
       "      <td>3396637.14713</td>\n",
       "      <td>19.83437</td>\n",
       "      <td>939.63179</td>\n",
       "    </tr>\n",
       "    <tr>\n",
       "      <th>5</th>\n",
       "      <td>newbalanceDest</td>\n",
       "      <td>0.00000</td>\n",
       "      <td>356179278.92000</td>\n",
       "      <td>356179278.92000</td>\n",
       "      <td>1224920.84889</td>\n",
       "      <td>214639.38500</td>\n",
       "      <td>3672694.80057</td>\n",
       "      <td>19.29652</td>\n",
       "      <td>856.34156</td>\n",
       "    </tr>\n",
       "    <tr>\n",
       "      <th>6</th>\n",
       "      <td>isFraud</td>\n",
       "      <td>0.00000</td>\n",
       "      <td>1.00000</td>\n",
       "      <td>1.00000</td>\n",
       "      <td>0.00129</td>\n",
       "      <td>0.00000</td>\n",
       "      <td>0.03589</td>\n",
       "      <td>27.78961</td>\n",
       "      <td>770.26270</td>\n",
       "    </tr>\n",
       "    <tr>\n",
       "      <th>7</th>\n",
       "      <td>isFlaggedFraud</td>\n",
       "      <td>0.00000</td>\n",
       "      <td>1.00000</td>\n",
       "      <td>1.00000</td>\n",
       "      <td>0.00000</td>\n",
       "      <td>0.00000</td>\n",
       "      <td>0.00159</td>\n",
       "      <td>627.44268</td>\n",
       "      <td>393682.43750</td>\n",
       "    </tr>\n",
       "  </tbody>\n",
       "</table>\n",
       "</div>"
      ],
      "text/plain": [
       "       attributes     min             max           range          mean  \\\n",
       "0            step 1.00000       743.00000       742.00000     243.39388   \n",
       "1          amount 0.00000  92445516.64000  92445516.64000  179858.47592   \n",
       "2   oldbalanceOrg 0.00000  59585040.37000  59585040.37000  833819.93275   \n",
       "3  newbalanceOrig 0.00000  49585040.37000  49585040.37000  855054.43253   \n",
       "4  oldbalanceDest 0.00000 356015889.35000 356015889.35000 1100603.99191   \n",
       "5  newbalanceDest 0.00000 356179278.92000 356179278.92000 1224920.84889   \n",
       "6         isFraud 0.00000         1.00000         1.00000       0.00129   \n",
       "7  isFlaggedFraud 0.00000         1.00000         1.00000       0.00000   \n",
       "\n",
       "        median           std      skew     kurtosis  \n",
       "0    239.00000     142.33325   0.37531      0.32919  \n",
       "1  74857.85500  604367.91687  31.07136   1805.42315  \n",
       "2  14210.98500 2887940.20645   5.24905     32.96327  \n",
       "3      0.00000 2923734.60445   5.17670     32.06363  \n",
       "4 132714.48500 3396637.14713  19.83437    939.63179  \n",
       "5 214639.38500 3672694.80057  19.29652    856.34156  \n",
       "6      0.00000       0.03589  27.78961    770.26270  \n",
       "7      0.00000       0.00159 627.44268 393682.43750  "
      ]
     },
     "execution_count": 6,
     "metadata": {},
     "output_type": "execute_result"
    }
   ],
   "source": [
    "# Central Tendency - mean, meadina \n",
    "ct1 = pd.DataFrame( num_attributes.apply( np.mean ) ).T\n",
    "ct2 = pd.DataFrame( num_attributes.apply( np.median ) ).T\n",
    "\n",
    "# dispersion - std, min, max, range, skew, kurtosis\n",
    "d1 = pd.DataFrame( num_attributes.apply( np.std ) ).T \n",
    "d2 = pd.DataFrame( num_attributes.apply( min ) ).T \n",
    "d3 = pd.DataFrame( num_attributes.apply( max ) ).T \n",
    "d4 = pd.DataFrame( num_attributes.apply( lambda x: x.max() - x.min() ) ).T \n",
    "d5 = pd.DataFrame( num_attributes.apply( lambda x: x.skew() ) ).T \n",
    "d6 = pd.DataFrame( num_attributes.apply( lambda x: x.kurtosis() ) ).T \n",
    "\n",
    "# concatenar\n",
    "m = pd.concat( [d2, d3, d4, ct1, ct2, d1, d5, d6] ).T.reset_index()\n",
    "m.columns = ['attributes', 'min', 'max', 'range', 'mean', 'median', 'std', 'skew', 'kurtosis']\n",
    "m"
   ]
  },
  {
   "cell_type": "markdown",
   "id": "e2aabbdb",
   "metadata": {},
   "source": [
    "Como vimos no notebook anterior temos o resumo estatísticos das variáveis númericas, adicionamos aqui a análise das skewness e kurtosis, com isso possuimos:\n",
    "\n",
    "Skewness: é a medida do quanto uma distribuição de dados desvia de uma distribuição normal, sendo que a normal não possui skewness, ou seja, os dados estão distribuídos perfeitamento ao redor da média. Uma skewness positiva é quando a mediana é menor que a média, sendo um deslocamento para a esquerda e quando for negativa encontramos a mediana maior que a média e um deslocamento para a direita, assim nos mostrando a onde os dados estão concentrados. \n",
    "\n",
    "Kurtosis: descreve a distribuição dos dados em torno da média, evidenciando assim a distribuição de caudas longas (mostra a probabilidade baixa e/ou alta de acontecer valores extremos).\n",
    "\n",
    "- **step**: Como é um valor incremental temos valores baixos de skew e kurtosis sobre a distribuição dos dados, ficando bem próximo de uma normal.\n",
    "- **amount**: Valores extremamente altos tanto para skew e para kurtosis, deslocando a distribuição para a esquerda e kurtosis evidenciando uma calda longa, a distribuição será bastante concentrada no começo da distribuição.\n",
    "- **oldbalanceOrg**: Segue os valores altos para a skew nos mostrando um deslocamento para a esquerda evidenciando uma concentração de dados no início da distribuição e sendo constituído por uma calda longa.\n",
    "- **newbalanceOrig**: Segue os valores altos para a skew nos mostrando um deslocamento para a esquerda evidenciando uma concentração de dados no início da distribuição e sendo constituído por uma calda longa.\n",
    "- **oldbalanceDest**: Segue os valores altos para a skew nos mostrando um deslocamento para a esquerda evidenciando uma concentração de dados no início da distribuição e sendo constituído por uma calda longa.\n",
    "- **newbalanceDest**: Segue os valores altos para a skew nos mostrando um deslocamento para a esquerda evidenciando uma concentração de dados no início da distribuição e sendo constituído por uma calda longa.\n",
    "- **isFraud**: Pelo valores podemos perceber a falta de balanceamento, sendo assim vai ser necessário alguma transformação para que o algoritmo escolhido seja eficiente em identificar padrões. Fazeremos dessa variável o nosso target, aquele que queremos prever.\n",
    "- **isFlaggedFraud**: Identifica uma concentração de valores no inicio evidenciando assim um deslocamento para a esquerda e constituído por uma calda longa."
   ]
  },
  {
   "cell_type": "markdown",
   "id": "8e1ba0ab",
   "metadata": {},
   "source": [
    "**Análises dos valores**\n",
    "\n",
    "Será de importância a transformação dessas variáveis númericas, pois é evidenciado que os valores não seguem uma distribuição normal, além disso é indicado o tratamento da variável resposta pelo motivo dela não ser balanceado e sendo assim a probabilidade de o algoritmo não identificar corretamente os padrões.\n",
    "\n",
    "Nas próximas seções iremos analisar as variáveis de forma univariada e multivariada (próximo notebook)."
   ]
  },
  {
   "cell_type": "markdown",
   "id": "bddd5f9c",
   "metadata": {},
   "source": [
    "### 4.2.1. Univariate analysis"
   ]
  },
  {
   "cell_type": "markdown",
   "id": "da3a09ff",
   "metadata": {},
   "source": [
    "Na etapa da estatística descritivas percebemos que as variáveis possuem uma distribuição não ideal para o objetivo que temos, para isso vamos analisar individualmente as variáveis para que seja possível extrair insights e aprendizado sobre elas."
   ]
  },
  {
   "cell_type": "code",
   "execution_count": 7,
   "id": "30554875",
   "metadata": {
    "ExecuteTime": {
     "end_time": "2022-04-29T17:40:35.592223Z",
     "start_time": "2022-04-29T17:40:33.950075Z"
    }
   },
   "outputs": [
    {
     "data": {
      "image/png": "[encoded data removed]",
      "text/plain": [
       "<Figure size 720x864 with 9 Axes>"
      ]
     },
     "metadata": {
      "needs_background": "light"
     },
     "output_type": "display_data"
    }
   ],
   "source": [
    "df.hist(figsize=(10, 12), bins=50, xlabelsize=8, ylabelsize=8);"
   ]
  },
  {
   "cell_type": "code",
   "execution_count": 8,
   "id": "ce57aba6",
   "metadata": {
    "ExecuteTime": {
     "end_time": "2022-04-29T17:40:37.805814Z",
     "start_time": "2022-04-29T17:40:35.593930Z"
    }
   },
   "outputs": [
    {
     "data": {
      "image/png": "[encoded data removed]",
      "text/plain": [
       "<Figure size 576x360 with 1 Axes>"
      ]
     },
     "metadata": {
      "needs_background": "light"
     },
     "output_type": "display_data"
    }
   ],
   "source": [
    "plt.subplots(figsize=(8,5))\n",
    "sns.countplot(x='type', data=df)\n",
    "plt.tight_layout()"
   ]
  },
  {
   "cell_type": "code",
   "execution_count": 9,
   "id": "1d4b3207",
   "metadata": {
    "ExecuteTime": {
     "end_time": "2022-04-29T17:40:38.187711Z",
     "start_time": "2022-04-29T17:40:37.807249Z"
    }
   },
   "outputs": [
    {
     "data": {
      "image/png": "[encoded data removed]",
      "text/plain": [
       "<Figure size 576x360 with 1 Axes>"
      ]
     },
     "metadata": {
      "needs_background": "light"
     },
     "output_type": "display_data"
    }
   ],
   "source": [
    "plt.subplots(figsize=(8,5))\n",
    "sns.barplot(x='type', y='amount', data=df.groupby('type').agg({'amount':'sum'}).reset_index().sort_values('amount', ascending=False))\n",
    "plt.tight_layout()"
   ]
  },
  {
   "cell_type": "code",
   "execution_count": 10,
   "id": "3b0ebb96",
   "metadata": {
    "ExecuteTime": {
     "end_time": "2022-04-29T17:41:04.172400Z",
     "start_time": "2022-04-29T17:40:38.188684Z"
    }
   },
   "outputs": [
    {
     "data": {
      "image/png": "[encoded data removed]",
      "text/plain": [
       "<Figure size 576x360 with 1 Axes>"
      ]
     },
     "metadata": {
      "needs_background": "light"
     },
     "output_type": "display_data"
    }
   ],
   "source": [
    "plt.subplots(figsize=(8,5))\n",
    "sns.countplot(x='nameOrig', data=df,\n",
    "              order=df.nameOrig.value_counts().iloc[:5].index)\n",
    "plt.tight_layout()"
   ]
  },
  {
   "cell_type": "code",
   "execution_count": 11,
   "id": "d9eaca62",
   "metadata": {
    "ExecuteTime": {
     "end_time": "2022-04-29T17:41:16.999680Z",
     "start_time": "2022-04-29T17:41:04.173491Z"
    }
   },
   "outputs": [
    {
     "data": {
      "image/png": "[encoded data removed]",
      "text/plain": [
       "<Figure size 576x360 with 1 Axes>"
      ]
     },
     "metadata": {
      "needs_background": "light"
     },
     "output_type": "display_data"
    }
   ],
   "source": [
    "plt.subplots(figsize=(8,5))\n",
    "sns.countplot(x='nameDest', data=df,\n",
    "              order=df.nameDest.value_counts().iloc[:5].index)\n",
    "plt.tight_layout()"
   ]
  },
  {
   "cell_type": "code",
   "execution_count": 12,
   "id": "881a00a0",
   "metadata": {
    "ExecuteTime": {
     "end_time": "2022-04-29T17:41:18.480455Z",
     "start_time": "2022-04-29T17:41:17.000662Z"
    }
   },
   "outputs": [
    {
     "data": {
      "text/plain": [
       "0"
      ]
     },
     "execution_count": 12,
     "metadata": {},
     "output_type": "execute_result"
    }
   ],
   "source": [
    "df['nameOrig'].str.contains('M').sum()"
   ]
  },
  {
   "cell_type": "code",
   "execution_count": 13,
   "id": "6b785423",
   "metadata": {
    "ExecuteTime": {
     "end_time": "2022-04-29T17:41:20.832977Z",
     "start_time": "2022-04-29T17:41:18.481582Z"
    }
   },
   "outputs": [
    {
     "data": {
      "text/plain": [
       "2129934"
      ]
     },
     "execution_count": 13,
     "metadata": {},
     "output_type": "execute_result"
    }
   ],
   "source": [
    "df['nameDest'].str.contains('M').sum()"
   ]
  },
  {
   "cell_type": "markdown",
   "id": "8dc7b704",
   "metadata": {},
   "source": [
    "**Análise dos valores**\n",
    "\n",
    "- **step**: Existe uma concentração no inicio, porém após aparentemente se assimilia à uma normal, mas vemos uma queda acentuada após o step aproximado de 50, voltando no step aproximademente 100. Após esse período vemos alguns picos e quedas de transações efetuadas. Após o o step aproximado de 400 existe outra queda e se mantém com um número de transações bem abaixo dos períodos anteriores. \n",
    "- **Restante das variáveis númericas**: só mostra graficamente o que já sabemos a partir da skewness e kurtosis, uma alta concentração no início e uma calda longa.\n",
    "- **type**: o método TRANSFER e CASH_OUT são de longe os mais utilizados pelos usuários e o método DEBIT o menos utilizado. Além disso o método TRANSFER é aquele que tem o maior soma de transações.\n",
    "- **nameDest e nameOrig**: Verificamos os usuários que mais utilizam o serviço, e aparentemente os usuários marcados com M não são os top 5 e também não temos usuários de origem rotulados com M.\n",
    "\n",
    "Aqui podemos identificar algumas coisas para os passos futuros, falando da etapa de *feature engineering*, podemos criar uma relacionado ao balanços onde fazeremos a diferença entre os balanços com a transação efetuada, resultado no valor de origem e repetindo o processo para os de destino.\n",
    "Olhando as variáveis categóricas, devemos criar uma variável onde identificamos aqueles usuários que são rotulados com o M para diferenciar do restante.\n",
    "\n",
    "Também podemos verificar quais **type** mais se relaciona com a fraude, quais são os usuários que tiveram transações rotuladas como fraude pelo sistema, etc. Essa etapa será realizada na etapa de Hypothesis List."
   ]
  },
  {
   "cell_type": "markdown",
   "id": "040dafd2",
   "metadata": {},
   "source": [
    "# 5. Conclusão"
   ]
  },
  {
   "cell_type": "markdown",
   "id": "90b405df",
   "metadata": {},
   "source": [
    "Em uma análise mais aprofundada individuamente, vemos a importância que será a aplicação de tratamento das variáveis para que seja possível usar no poder preditivo do algoritmo. Também podemos concluir que a variável resposta está extremamente não balanceada e será necessário o balanceamento.\n",
    "\n",
    "Dado isso, podemos avançar para a criação de hipóteses dos dados para que seja possível também a análise multivariada das variáveis e seus valores, gerando valor para a empresa e aumentando a confiança nos dados para as etapas de modelagem e aplicação de algoritmos de machine learning."
   ]
  }
 ],
 "metadata": {
  "kernelspec": {
   "display_name": "Python 3 (ipykernel)",
   "language": "python",
   "name": "python3"
  },
  "language_info": {
   "codemirror_mode": {
    "name": "ipython",
    "version": 3
   },
   "file_extension": ".py",
   "mimetype": "text/x-python",
   "name": "python",
   "nbconvert_exporter": "python",
   "pygments_lexer": "ipython3",
   "version": "3.9.7"
  },
  "notify_time": "5",
  "toc": {
   "base_numbering": 1,
   "nav_menu": {},
   "number_sections": true,
   "sideBar": true,
   "skip_h1_title": false,
   "title_cell": "Table of Contents",
   "title_sidebar": "Contents",
   "toc_cell": false,
   "toc_position": {},
   "toc_section_display": true,
   "toc_window_display": false
  },
  "varInspector": {
   "cols": {
    "lenName": 16,
    "lenType": 16,
    "lenVar": 40
   },
   "kernels_config": {
    "python": {
     "delete_cmd_postfix": "",
     "delete_cmd_prefix": "del ",
     "library": "var_list.py",
     "varRefreshCmd": "print(var_dic_list())"
    },
    "r": {
     "delete_cmd_postfix": ") ",
     "delete_cmd_prefix": "rm(",
     "library": "var_list.r",
     "varRefreshCmd": "cat(var_dic_list()) "
    }
   },
   "types_to_exclude": [
    "module",
    "function",
    "builtin_function_or_method",
    "instance",
    "_Feature"
   ],
   "window_display": false
  }
 },
 "nbformat": 4,
 "nbformat_minor": 5
}
