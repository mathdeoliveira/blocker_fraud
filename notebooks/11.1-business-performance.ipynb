{
 "cells": [
  {
   "cell_type": "markdown",
   "id": "69529bde",
   "metadata": {},
   "source": [
    "# 1. Blocker Fraud Company\n",
    " <font size=\"2\"> Dados e problema negócio hipotéticos</font>\n",
    " \n",
    "A Blocker Fraud Company é uma empresa especializada na detecção de fraudes em transações financeiras feitas atravś de dispositivos móveis.\n",
    "\n",
    "O modelo de negócio da empresa é do tipo Serviço com a monetização feita por performance do serviço prestado, ou seja, o usuário paga uma taxa fixa sobre o sucesso da detecção de fraude das transações.\n",
    "\n",
    "## 1.1. Estratégia de expansão\n",
    "\n",
    "A Blocker Fraud Company está em fase de expansão no Brasil e para adquirir clientes mais rapidamente, ela adotou uma estratégia muito agressiva. A estratégia funciona da seguinte forma:\n",
    "\n",
    "1. A empresa vai receber 25% do valor de cada transação detectada verdadeiramente como fraude.\n",
    "2. A empresa vai receber 5% do valor de cada transação detectada como fraude, porém a transação é verdadeiramente legítima.\n",
    "3. A empresa vai devolver 100% do valor para o cliente, a cada transação detectada como legítima, porém a transação é verdadeiramente uma fraude.\n",
    "\n",
    "Com essa estratégia agressiva a empresa assume os riscos em falhar na detecção de fraude e é remunerada na detecção assertiva das fraudes.\n",
    "\n",
    "## 1.2. Objetivo\n",
    "\n",
    "Criar um modelo de alta precisão e acurácia na detecção de fraudes de transações feitas através de dispositivos móveis.\n",
    "\n",
    "### 1.2.1. Entregáveis\n",
    "\n",
    "Modelo em produção no qual seu acesso será feito via API, ou seja, os clientes enviarão suas transações via API para que o seu modelo as classifique como fraudulentas ou legítimas.\n",
    "\n",
    "Além disso, você precisará entregar um relatório reportando a performance e os resultados do seu modelo em relação ao lucro e prejuízo que a empresa terá ao usar o modelo que você produziu. No seu relatório deve conter as respostas para as seguintes perguntas:\n",
    "\n",
    "1. Qual a Precisão e Acurácia do modelo?\n",
    "2. Qual a Confiabilidade do modelo em classificar as transações como legítimas ou fraudulentas?\n",
    "3. Qual o Faturamento Esperado pela Empresa se classificarmos 100% das transações com o modelo?\n",
    "4. Qual o Prejuízo Esperado pela Empresa em caso de falha do modelo?\n",
    "5. Qual o Lucro Esperado pela Blocker Fraud Company ao utilizar o modelo?\n"
   ]
  },
  {
   "cell_type": "markdown",
   "id": "46c0254d",
   "metadata": {},
   "source": [
    "# 2. Imports"
   ]
  },
  {
   "cell_type": "code",
   "execution_count": 1,
   "id": "c6675b59",
   "metadata": {
    "ExecuteTime": {
     "end_time": "2022-05-20T11:18:25.504583Z",
     "start_time": "2022-05-20T11:18:24.934365Z"
    }
   },
   "outputs": [],
   "source": [
    "import joblib\n",
    "import pandas as pd\n",
    "import numpy as np"
   ]
  },
  {
   "cell_type": "markdown",
   "id": "f60674db",
   "metadata": {},
   "source": [
    "## 2.1. Utils functions"
   ]
  },
  {
   "cell_type": "code",
   "execution_count": 39,
   "id": "dd7c0b49",
   "metadata": {
    "ExecuteTime": {
     "end_time": "2022-05-20T11:47:30.631142Z",
     "start_time": "2022-05-20T11:47:30.599965Z"
    }
   },
   "outputs": [],
   "source": [
    "def calculate_value_transaction_as_fraud(percentage: float, df:pd.DataFrame) -> float:\n",
    "    \"\"\"\n",
    "        Cálculo da: empresa vai receber 25% do valor de cada transação detectada verdadeiramente como fraude.\n",
    "\n",
    "        Parameters\n",
    "        ----------\n",
    "        percentage: float \n",
    "        df: Pandas DataFrame\n",
    "\n",
    "        Returns\n",
    "        -------\n",
    "        value_to_receive: float \n",
    "            Valor calculado que a empresa vai receber com as fraudes detectadas\n",
    "    \"\"\"\n",
    "    fraud_detected = df[(df['isFraud'] == 1) & (df['predictions'] == 1)]\n",
    "    fraud_detected_amount = fraud_detected[['amount', 'isFraud', 'predictions']].groupby(['isFraud', 'predictions']).sum().reset_index()\n",
    "    fraud_detected_amount['to_receive'] = fraud_detected_amount['amount']*percentage\n",
    "    value_to_receive = fraud_detected_amount['to_receive'][0]\n",
    "    return value_to_receive\n",
    "\n",
    "\n",
    "def calculate_legitimate_as_fraud(percentage: float, df:pd.DataFrame) -> float:\n",
    "    \"\"\"\n",
    "        Cálculo da: A empresa vai receber 5% do valor de cada transação detectada como fraude, porém a transação é verdadeiramente legítima.\n",
    "\n",
    "        Parameters\n",
    "        ----------\n",
    "        percentage: float \n",
    "        df: Pandas DataFrame\n",
    "\n",
    "        Returns\n",
    "        -------\n",
    "        value_to_receive: float \n",
    "            Valor calculado que a empresa vai receber com as fraudes legítimas detectadas\n",
    "    \"\"\"\n",
    "    fraud_detected_leg = df[(df['isFraud'] == 0) & (df['predictions'] == 1)]\n",
    "    fraud_detected_leg_amount = fraud_detected_leg[['amount', 'isFraud', 'predictions']].groupby(['isFraud', 'predictions']).sum().reset_index()\n",
    "    fraud_detected_leg_amount['to_receive'] = fraud_detected_leg_amount['amount']*percentage\n",
    "    value_to_receive = fraud_detected_leg_amount['to_receive'][0]\n",
    "    return value_to_receive\n",
    "\n",
    "def calculate_refund_to_customer(df:pd.DataFrame) -> float:\n",
    "    \"\"\"\n",
    "        Cálculo da: A empresa vai devolver 100% do valor para o cliente, a cada transação detectada como legítima, porém a transação é verdadeiramente uma fraude.\n",
    "        Parameters\n",
    "        ----------\n",
    "        df: Pandas DataFrame\n",
    "\n",
    "        Returns\n",
    "        -------\n",
    "        value_refund: float \n",
    "            Valor calculado que a empresa vai devolver ao cliente\n",
    "    \"\"\"\n",
    "\n",
    "    fraud_not_detected = df[(df['isFraud'] == 1) & (df['predictions'] == 0)]\n",
    "    fraud_not_detected_amount = fraud_not_detected[['amount', 'isFraud', 'predictions']].groupby(['isFraud', 'predictions']).sum().reset_index()\n",
    "    value_refund = fraud_not_detected_amount['amount'][0]\n",
    "    return value_refund\n",
    "\n",
    "def create_features(df: pd.DataFrame) -> pd.DataFrame:\n",
    "    \"\"\"\n",
    "        Cria as novas features a partir dos dados de entrada\n",
    "        Parameters\n",
    "        ----------\n",
    "        df: Pandas DataFrame\n",
    "\n",
    "        Returns\n",
    "        -------\n",
    "        df: Pandas DataFrame\n",
    "            Novo dataframe com as features inseridas.\n",
    "    \"\"\"\n",
    "    df['is_high_amount'] = define_high_amount(df, 179000)\n",
    "    df['is_M_customer'] = define_merchant_customer(df)\n",
    "    df['is_new_balance_orig_zero'] =  define_is_balance_zero(df, 'newbalanceOrig')\n",
    "    df['is_new_balance_dest_zero'] = define_is_balance_zero(df, 'newbalanceDest')\n",
    "    df['diff_orig'] = difference_between_two_columns(df, 'oldbalanceOrg', 'newbalanceOrig')\n",
    "    df['diff_dest'] = difference_between_two_columns(df, 'oldbalanceDest', 'newbalanceDest')\n",
    "    df['is_orig_old_balance_greater_new'] = define_column_is_greater(df, 'oldbalanceOrg','newbalanceOrig')\n",
    "    df['is_dest_old_balance_greater_new'] = define_column_is_greater(df, 'oldbalanceDest','newbalanceDest')\n",
    "    return df\n",
    "\n",
    "def define_high_amount(df: pd.DataFrame, value: int) -> np.array:\n",
    "    is_high_amount = np.where(df['amount']>=value, 1, 0)\n",
    "    return is_high_amount\n",
    "\n",
    "def define_merchant_customer(df: pd.DataFrame) -> np.array:\n",
    "    is_merchant_customer = np.where(df['nameDest'].str.contains('M'), 1, 0)\n",
    "    return is_merchant_customer\n",
    "\n",
    "def define_is_balance_zero(df: pd.DataFrame, column: str) -> np.array:\n",
    "    is_column_balance_zero = np.where(df[column]==0, 1, 0)\n",
    "    return is_column_balance_zero\n",
    "\n",
    "def difference_between_two_columns(df: pd.DataFrame, left_column: str, right_column: str) -> pd.Series:\n",
    "    difference_result = df[left_column]-df[right_column]\n",
    "    return difference_result\n",
    "\n",
    "def define_column_is_greater(df: pd.DataFrame, left_column: str, right_column: str) -> np.array:\n",
    "    is_greater_result = np.where(df[left_column]>df[right_column], 1, 0)\n",
    "    return is_greater_result\n",
    "\n",
    "def define_final_data_to_model(df: pd.DataFrame) -> pd.DataFrame:\n",
    "    cols_to_include = ['isFlaggedFraud', 'is_high_amount', 'is_M_customer', \n",
    "                   'is_new_balance_orig_zero', 'is_orig_old_balance_greater_new',\n",
    "                   'is_new_balance_dest_zero', 'is_dest_old_balance_greater_new']\n",
    "\n",
    "    columns_drop = ['nameOrig', 'nameDest']\n",
    "\n",
    "    for col in cols_to_include:\n",
    "        df[col] = df[col].astype('category')\n",
    "\n",
    "    df.drop(columns_drop, axis=1, inplace=True)\n",
    "    return df\n",
    "\n",
    "def predict(data, model):   \n",
    "    predicted = model.predict(data)    \n",
    "    return int(predicted[0])"
   ]
  },
  {
   "cell_type": "markdown",
   "id": "af460229",
   "metadata": {
    "heading_collapsed": true
   },
   "source": [
    "# 3. Load model"
   ]
  },
  {
   "cell_type": "code",
   "execution_count": 4,
   "id": "cb5ea8c8",
   "metadata": {
    "ExecuteTime": {
     "end_time": "2022-05-20T11:18:34.074488Z",
     "start_time": "2022-05-20T11:18:33.263297Z"
    },
    "hidden": true
   },
   "outputs": [],
   "source": [
    "model = joblib.load('../models/model_cicle_1.pkl')"
   ]
  },
  {
   "cell_type": "code",
   "execution_count": 5,
   "id": "45964e4b",
   "metadata": {
    "ExecuteTime": {
     "end_time": "2022-05-20T11:18:47.808096Z",
     "start_time": "2022-05-20T11:18:47.797821Z"
    },
    "hidden": true
   },
   "outputs": [
    {
     "data": {
      "text/plain": [
       "Pipeline(steps=[('enconding_rare',\n",
       "                 RareLabelEncoder(variables=['type', 'isFlaggedFraud'])),\n",
       "                ('enconding_cat',\n",
       "                 CountFrequencyEncoder(variables=['is_new_balance_dest_zero',\n",
       "                                                  'type',\n",
       "                                                  'is_orig_old_balance_greater_new',\n",
       "                                                  'is_M_customer',\n",
       "                                                  'is_high_amount',\n",
       "                                                  'is_new_balance_orig_zero',\n",
       "                                                  'is_dest_old_balance_greater_new',\n",
       "                                                  'isFlaggedFraud'])),\n",
       "                ('enconding_num',\n",
       "                 SklearnTransformerWrapper(transformer=StandardScaler(),\n",
       "                                           variables=['amount', 'oldbalanceOrg',\n",
       "                                                      'newbalanceOrig',\n",
       "                                                      'oldbalanceDest',\n",
       "                                                      'newbalanceDest',\n",
       "                                                      'diff_orig',\n",
       "                                                      'diff_dest'])),\n",
       "                ('model', RandomForestClassifier(n_jobs=-1, random_state=42))])"
      ]
     },
     "execution_count": 5,
     "metadata": {},
     "output_type": "execute_result"
    }
   ],
   "source": [
    "model"
   ]
  },
  {
   "cell_type": "markdown",
   "id": "c7e374a9",
   "metadata": {
    "heading_collapsed": true
   },
   "source": [
    "# 4. Load test dataset"
   ]
  },
  {
   "cell_type": "code",
   "execution_count": 21,
   "id": "331a4de9",
   "metadata": {
    "ExecuteTime": {
     "end_time": "2022-05-20T11:28:01.245732Z",
     "start_time": "2022-05-20T11:28:01.190534Z"
    },
    "hidden": true
   },
   "outputs": [],
   "source": [
    "df_test = pd.read_parquet('../data/raw/df_applied_features_test.parquet.gzip') \n",
    "df_test_y_real = df_test.isFraud.values\n",
    "df_test.drop('isFraud', axis=1, inplace=True)"
   ]
  },
  {
   "cell_type": "code",
   "execution_count": 22,
   "id": "51a3c215",
   "metadata": {
    "ExecuteTime": {
     "end_time": "2022-05-20T11:28:01.460587Z",
     "start_time": "2022-05-20T11:28:01.415223Z"
    },
    "hidden": true
   },
   "outputs": [
    {
     "data": {
      "text/html": [
       "<div>\n",
       "<style scoped>\n",
       "    .dataframe tbody tr th:only-of-type {\n",
       "        vertical-align: middle;\n",
       "    }\n",
       "\n",
       "    .dataframe tbody tr th {\n",
       "        vertical-align: top;\n",
       "    }\n",
       "\n",
       "    .dataframe thead th {\n",
       "        text-align: right;\n",
       "    }\n",
       "</style>\n",
       "<table border=\"1\" class=\"dataframe\">\n",
       "  <thead>\n",
       "    <tr style=\"text-align: right;\">\n",
       "      <th></th>\n",
       "      <th>step</th>\n",
       "      <th>type</th>\n",
       "      <th>amount</th>\n",
       "      <th>oldbalanceOrg</th>\n",
       "      <th>newbalanceOrig</th>\n",
       "      <th>oldbalanceDest</th>\n",
       "      <th>newbalanceDest</th>\n",
       "      <th>isFlaggedFraud</th>\n",
       "      <th>is_high_amount</th>\n",
       "      <th>is_M_customer</th>\n",
       "      <th>is_new_balance_orig_zero</th>\n",
       "      <th>is_new_balance_dest_zero</th>\n",
       "      <th>diff_orig</th>\n",
       "      <th>diff_dest</th>\n",
       "      <th>is_orig_old_balance_greater_new</th>\n",
       "      <th>is_dest_old_balance_greater_new</th>\n",
       "    </tr>\n",
       "  </thead>\n",
       "  <tbody>\n",
       "    <tr>\n",
       "      <th>3724554</th>\n",
       "      <td>278</td>\n",
       "      <td>PAYMENT</td>\n",
       "      <td>16517.82</td>\n",
       "      <td>4621.74</td>\n",
       "      <td>0.00</td>\n",
       "      <td>0.00</td>\n",
       "      <td>0.00</td>\n",
       "      <td>0</td>\n",
       "      <td>0</td>\n",
       "      <td>1</td>\n",
       "      <td>1</td>\n",
       "      <td>1</td>\n",
       "      <td>4621.74</td>\n",
       "      <td>0.00</td>\n",
       "      <td>1</td>\n",
       "      <td>0</td>\n",
       "    </tr>\n",
       "    <tr>\n",
       "      <th>2007406</th>\n",
       "      <td>179</td>\n",
       "      <td>CASH_OUT</td>\n",
       "      <td>288543.05</td>\n",
       "      <td>0.00</td>\n",
       "      <td>0.00</td>\n",
       "      <td>552863.94</td>\n",
       "      <td>841406.99</td>\n",
       "      <td>0</td>\n",
       "      <td>1</td>\n",
       "      <td>0</td>\n",
       "      <td>1</td>\n",
       "      <td>0</td>\n",
       "      <td>0.00</td>\n",
       "      <td>-288543.05</td>\n",
       "      <td>0</td>\n",
       "      <td>0</td>\n",
       "    </tr>\n",
       "    <tr>\n",
       "      <th>38581</th>\n",
       "      <td>9</td>\n",
       "      <td>PAYMENT</td>\n",
       "      <td>39195.58</td>\n",
       "      <td>21818.00</td>\n",
       "      <td>0.00</td>\n",
       "      <td>0.00</td>\n",
       "      <td>0.00</td>\n",
       "      <td>0</td>\n",
       "      <td>0</td>\n",
       "      <td>1</td>\n",
       "      <td>1</td>\n",
       "      <td>1</td>\n",
       "      <td>21818.00</td>\n",
       "      <td>0.00</td>\n",
       "      <td>1</td>\n",
       "      <td>0</td>\n",
       "    </tr>\n",
       "    <tr>\n",
       "      <th>2332625</th>\n",
       "      <td>188</td>\n",
       "      <td>PAYMENT</td>\n",
       "      <td>2006.64</td>\n",
       "      <td>47440.84</td>\n",
       "      <td>45434.20</td>\n",
       "      <td>0.00</td>\n",
       "      <td>0.00</td>\n",
       "      <td>0</td>\n",
       "      <td>0</td>\n",
       "      <td>1</td>\n",
       "      <td>0</td>\n",
       "      <td>1</td>\n",
       "      <td>2006.64</td>\n",
       "      <td>0.00</td>\n",
       "      <td>1</td>\n",
       "      <td>0</td>\n",
       "    </tr>\n",
       "    <tr>\n",
       "      <th>3572454</th>\n",
       "      <td>261</td>\n",
       "      <td>CASH_IN</td>\n",
       "      <td>233785.38</td>\n",
       "      <td>160279.00</td>\n",
       "      <td>394064.38</td>\n",
       "      <td>3026936.33</td>\n",
       "      <td>2793150.95</td>\n",
       "      <td>0</td>\n",
       "      <td>1</td>\n",
       "      <td>0</td>\n",
       "      <td>0</td>\n",
       "      <td>0</td>\n",
       "      <td>-233785.38</td>\n",
       "      <td>233785.38</td>\n",
       "      <td>0</td>\n",
       "      <td>1</td>\n",
       "    </tr>\n",
       "  </tbody>\n",
       "</table>\n",
       "</div>"
      ],
      "text/plain": [
       "         step      type     amount  oldbalanceOrg  newbalanceOrig  \\\n",
       "3724554   278   PAYMENT   16517.82        4621.74            0.00   \n",
       "2007406   179  CASH_OUT  288543.05           0.00            0.00   \n",
       "38581       9   PAYMENT   39195.58       21818.00            0.00   \n",
       "2332625   188   PAYMENT    2006.64       47440.84        45434.20   \n",
       "3572454   261   CASH_IN  233785.38      160279.00       394064.38   \n",
       "\n",
       "         oldbalanceDest  newbalanceDest isFlaggedFraud is_high_amount  \\\n",
       "3724554            0.00            0.00              0              0   \n",
       "2007406       552863.94       841406.99              0              1   \n",
       "38581              0.00            0.00              0              0   \n",
       "2332625            0.00            0.00              0              0   \n",
       "3572454      3026936.33      2793150.95              0              1   \n",
       "\n",
       "        is_M_customer is_new_balance_orig_zero is_new_balance_dest_zero  \\\n",
       "3724554             1                        1                        1   \n",
       "2007406             0                        1                        0   \n",
       "38581               1                        1                        1   \n",
       "2332625             1                        0                        1   \n",
       "3572454             0                        0                        0   \n",
       "\n",
       "         diff_orig  diff_dest is_orig_old_balance_greater_new  \\\n",
       "3724554    4621.74       0.00                               1   \n",
       "2007406       0.00 -288543.05                               0   \n",
       "38581     21818.00       0.00                               1   \n",
       "2332625    2006.64       0.00                               1   \n",
       "3572454 -233785.38  233785.38                               0   \n",
       "\n",
       "        is_dest_old_balance_greater_new  \n",
       "3724554                               0  \n",
       "2007406                               0  \n",
       "38581                                 0  \n",
       "2332625                               0  \n",
       "3572454                               1  "
      ]
     },
     "execution_count": 22,
     "metadata": {},
     "output_type": "execute_result"
    }
   ],
   "source": [
    "df_test = define_final_data_to_model(create_features(df_test))\n",
    "df_test.head()"
   ]
  },
  {
   "cell_type": "markdown",
   "id": "df9a148f",
   "metadata": {
    "heading_collapsed": true
   },
   "source": [
    "# 5. Predict data"
   ]
  },
  {
   "cell_type": "code",
   "execution_count": 23,
   "id": "a9722c67",
   "metadata": {
    "ExecuteTime": {
     "end_time": "2022-05-20T11:28:02.792986Z",
     "start_time": "2022-05-20T11:28:02.621276Z"
    },
    "hidden": true
   },
   "outputs": [],
   "source": [
    "y_pred = model.predict(df_test) "
   ]
  },
  {
   "cell_type": "markdown",
   "id": "2f2601ee",
   "metadata": {},
   "source": [
    "# 6. Business performance"
   ]
  },
  {
   "cell_type": "code",
   "execution_count": 44,
   "id": "efe6ab87",
   "metadata": {
    "ExecuteTime": {
     "end_time": "2022-05-20T11:50:38.926135Z",
     "start_time": "2022-05-20T11:50:38.911811Z"
    }
   },
   "outputs": [
    {
     "name": "stdout",
     "output_type": "stream",
     "text": [
      "A empresa vai receber 32,536,066.74 devido a transações realmente detectadas como fraude\n",
      "A empresa vai receber 45,439.13 devido a transações detectadas como fraude, mas realmente legítimas\n",
      "A empresa vai devolver 2,846,573.25 devido a transações detectadas como legítimas, mas na verdade era fraude\n"
     ]
    }
   ],
   "source": [
    "df_test['predictions'] = y_pred\n",
    "df_test['isFraud'] = df_test_y_real\n",
    "\n",
    "to_receive = calculate_value_transaction_as_fraud(0.25, df_test)\n",
    "to_receive_legit = calculate_legitimate_as_fraud(0.05, df_test)\n",
    "to_refund = calculate_refund_to_customer(df_test)\n",
    "\n",
    "print('A empresa vai receber {:,.2f} devido a transações realmente detectadas como fraude'.format(to_receive))\n",
    "print('A empresa vai receber {:,.2f} devido a transações detectadas como fraude, mas realmente legítimas'.format(to_receive_legit))\n",
    "print('A empresa vai devolver {:,.2f} devido a transações detectadas como legítimas, mas na verdade era fraude'.format(to_refund))"
   ]
  },
  {
   "cell_type": "markdown",
   "id": "70a58ee4",
   "metadata": {},
   "source": [
    "# 7. Conclusion"
   ]
  },
  {
   "cell_type": "markdown",
   "id": "e5f16a23",
   "metadata": {},
   "source": [
    "Dado a finalização desse ciclo e também o cálculo da performance que o modelo impactará no negócio, podemos então partir para os entregáveis requisitado pela empresa, eles são:\n",
    "\n",
    "1. Qual a Precisão e Acurácia do modelo?\n",
    "2. Qual a Confiabilidade do modelo em classificar as transações como legítimas ou fraudulentas?\n",
    "3. Qual o Faturamento Esperado pela Empresa se classificarmos 100% das transações com o modelo?\n",
    "4. Qual o Prejuízo Esperado pela Empresa em caso de falha do modelo?\n",
    "5. Qual o Lucro Esperado pela Blocker Fraud Company ao utilizar o modelo?"
   ]
  },
  {
   "cell_type": "markdown",
   "id": "a99884da",
   "metadata": {},
   "source": [
    "1. Conferindo o notebook 7-1-model-performance tivemos que o modelo alcançou uma acurácia de 99.95% e um recall de 72.68 e um f1-score de 82.42% sendo essa últimas métricas mais confiáveis do que a acurácia dado a natureza do problema de fraude e por causa dos dados serem bastante desbalanceados.\n",
    "2. A confiabilidade do modelo está em 72.68% em detectar as transações fraudulentas.\n",
    "3. O faturamento esperado olhando os dados de teste foi de 32 milhões.\n",
    "4. O prejuízo está em torno de 2 milhões para as transações que era legítimas mas foram classificadas como fraude.\n",
    "5. O lucro esperado é de 30 milhões, seria o faturamento esperado menos o prejuízo esperado."
   ]
  }
 ],
 "metadata": {
  "kernelspec": {
   "display_name": "Python 3 (ipykernel)",
   "language": "python",
   "name": "python3"
  },
  "language_info": {
   "codemirror_mode": {
    "name": "ipython",
    "version": 3
   },
   "file_extension": ".py",
   "mimetype": "text/x-python",
   "name": "python",
   "nbconvert_exporter": "python",
   "pygments_lexer": "ipython3",
   "version": "3.9.7"
  },
  "varInspector": {
   "cols": {
    "lenName": 16,
    "lenType": 16,
    "lenVar": 40
   },
   "kernels_config": {
    "python": {
     "delete_cmd_postfix": "",
     "delete_cmd_prefix": "del ",
     "library": "var_list.py",
     "varRefreshCmd": "print(var_dic_list())"
    },
    "r": {
     "delete_cmd_postfix": ") ",
     "delete_cmd_prefix": "rm(",
     "library": "var_list.r",
     "varRefreshCmd": "cat(var_dic_list()) "
    }
   },
   "types_to_exclude": [
    "module",
    "function",
    "builtin_function_or_method",
    "instance",
    "_Feature"
   ],
   "window_display": false
  }
 },
 "nbformat": 4,
 "nbformat_minor": 5
}
