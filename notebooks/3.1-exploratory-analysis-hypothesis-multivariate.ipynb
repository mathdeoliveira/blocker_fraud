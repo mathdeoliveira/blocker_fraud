{
 "cells": [
  {
   "cell_type": "markdown",
   "id": "8fe8321b",
   "metadata": {},
   "source": [
    "# 1. Blocker Fraud Company\n",
    " <font size=\"2\"> Dados e problema negócio hipotéticos</font>\n",
    " \n",
    "A Blocker Fraud Company é uma empresa especializada na detecção de fraudes em transações financeiras feitas atravś de dispositivos móveis.\n",
    "\n",
    "O modelo de negócio da empresa é do tipo Serviço com a monetização feita por performance do serviço prestado, ou seja, o usuário paga uma taxa fixa sobre o sucesso da detecção de fraude das transações.\n",
    "\n",
    "## 1.1. Estratégia de expansão\n",
    "\n",
    "A Blocker Fraud Company está em fase de expansão no Brasil e para adquirir clientes mais rapidamente, ela adotou uma estratégia muito agressiva. A estratégia funciona da seguinte forma:\n",
    "\n",
    "1. A empresa vai receber 25% do valor de cada transação detectada verdadeiramente como fraude.\n",
    "2. A empresa vai receber 5% do valor de cada transação detectada como fraude, porém a transação é verdadeiramente legítima.\n",
    "3. A empresa vai devolver 100% do valor para o cliente, a cada transação detectada como legítima, porém a transação é verdadeiramente uma fraude.\n",
    "\n",
    "Com essa estratégia agressiva a empresa assume os riscos em falhar na detecção de fraude e é remunerada na detecção assertiva das fraudes.\n",
    "\n",
    "## 1.2. Objetivo\n",
    "\n",
    "Criar um modelo de alta precisão e acurácia na detecção de fraudes de transações feitas através de dispositivos móveis.\n",
    "\n",
    "### 1.2.1. Entregáveis\n",
    "\n",
    "Modelo em produção no qual seu acesso será feito via API, ou seja, os clientes enviarão suas transações via API para que o seu modelo as classifique como fraudulentas ou legítimas.\n",
    "\n",
    "Além disso, você precisará entregar um relatório reportando a performance e os resultados do seu modelo em relação ao lucro e prejuízo que a empresa terá ao usar o modelo que você produziu. No seu relatório deve conter as respostas para as seguintes perguntas:\n",
    "\n",
    "1. Qual a Precisão e Acurácia do modelo?\n",
    "2. Qual a Confiabilidade do modelo em classificar as transações como legítimas ou fraudulentas?\n",
    "3. Qual o Faturamento Esperado pela Empresa se classificarmos 100% das transações com o modelo?\n",
    "4. Qual o Prejuízo Esperado pela Empresa em caso de falha do modelo?\n",
    "5. Qual o Lucro Esperado pela Blocker Fraud Company ao utilizar o modelo?\n"
   ]
  },
  {
   "cell_type": "markdown",
   "id": "ef472ae8",
   "metadata": {},
   "source": [
    "# 2. Imports"
   ]
  },
  {
   "cell_type": "code",
   "execution_count": 3,
   "id": "be62b7af",
   "metadata": {
    "ExecuteTime": {
     "end_time": "2022-04-29T17:44:13.582437Z",
     "start_time": "2022-04-29T17:44:12.705142Z"
    }
   },
   "outputs": [],
   "source": [
    "import numpy as np\n",
    "import pandas as pd\n",
    "import matplotlib.pyplot as plt\n",
    "import seaborn as sns\n",
    "\n",
    "#display\n",
    "pd.set_option('display.float_format', lambda x: '%.5f' % x)\n",
    "\n",
    "#ignore warnings\n",
    "import warnings\n",
    "warnings.filterwarnings(\"ignore\")"
   ]
  },
  {
   "cell_type": "markdown",
   "id": "f60674db",
   "metadata": {},
   "source": [
    "## 2.1. Utils functions"
   ]
  },
  {
   "cell_type": "markdown",
   "id": "04cb3a11",
   "metadata": {},
   "source": [
    "# 3. Data"
   ]
  },
  {
   "cell_type": "markdown",
   "id": "f49dc166",
   "metadata": {},
   "source": [
    "## 3.1. Load dataset"
   ]
  },
  {
   "cell_type": "code",
   "execution_count": 4,
   "id": "5128588c",
   "metadata": {
    "ExecuteTime": {
     "end_time": "2022-04-29T17:44:19.780764Z",
     "start_time": "2022-04-29T17:44:14.991623Z"
    }
   },
   "outputs": [],
   "source": [
    "df = pd.read_parquet('../data/raw/df_train.parquet.gzip')"
   ]
  },
  {
   "cell_type": "code",
   "execution_count": 5,
   "id": "08d89079",
   "metadata": {
    "ExecuteTime": {
     "end_time": "2022-04-29T17:44:19.812584Z",
     "start_time": "2022-04-29T17:44:19.800852Z"
    }
   },
   "outputs": [
    {
     "data": {
      "text/html": [
       "<div>\n",
       "<style scoped>\n",
       "    .dataframe tbody tr th:only-of-type {\n",
       "        vertical-align: middle;\n",
       "    }\n",
       "\n",
       "    .dataframe tbody tr th {\n",
       "        vertical-align: top;\n",
       "    }\n",
       "\n",
       "    .dataframe thead th {\n",
       "        text-align: right;\n",
       "    }\n",
       "</style>\n",
       "<table border=\"1\" class=\"dataframe\">\n",
       "  <thead>\n",
       "    <tr style=\"text-align: right;\">\n",
       "      <th></th>\n",
       "      <th>step</th>\n",
       "      <th>type</th>\n",
       "      <th>amount</th>\n",
       "      <th>nameOrig</th>\n",
       "      <th>oldbalanceOrg</th>\n",
       "      <th>newbalanceOrig</th>\n",
       "      <th>nameDest</th>\n",
       "      <th>oldbalanceDest</th>\n",
       "      <th>newbalanceDest</th>\n",
       "      <th>isFraud</th>\n",
       "      <th>isFlaggedFraud</th>\n",
       "    </tr>\n",
       "  </thead>\n",
       "  <tbody>\n",
       "    <tr>\n",
       "      <th>0</th>\n",
       "      <td>1</td>\n",
       "      <td>PAYMENT</td>\n",
       "      <td>9839.64000</td>\n",
       "      <td>C1231006815</td>\n",
       "      <td>170136.00000</td>\n",
       "      <td>160296.36000</td>\n",
       "      <td>M1979787155</td>\n",
       "      <td>0.00000</td>\n",
       "      <td>0.00000</td>\n",
       "      <td>0</td>\n",
       "      <td>0</td>\n",
       "    </tr>\n",
       "    <tr>\n",
       "      <th>1</th>\n",
       "      <td>1</td>\n",
       "      <td>PAYMENT</td>\n",
       "      <td>1864.28000</td>\n",
       "      <td>C1666544295</td>\n",
       "      <td>21249.00000</td>\n",
       "      <td>19384.72000</td>\n",
       "      <td>M2044282225</td>\n",
       "      <td>0.00000</td>\n",
       "      <td>0.00000</td>\n",
       "      <td>0</td>\n",
       "      <td>0</td>\n",
       "    </tr>\n",
       "    <tr>\n",
       "      <th>2</th>\n",
       "      <td>1</td>\n",
       "      <td>TRANSFER</td>\n",
       "      <td>181.00000</td>\n",
       "      <td>C1305486145</td>\n",
       "      <td>181.00000</td>\n",
       "      <td>0.00000</td>\n",
       "      <td>C553264065</td>\n",
       "      <td>0.00000</td>\n",
       "      <td>0.00000</td>\n",
       "      <td>1</td>\n",
       "      <td>0</td>\n",
       "    </tr>\n",
       "    <tr>\n",
       "      <th>3</th>\n",
       "      <td>1</td>\n",
       "      <td>CASH_OUT</td>\n",
       "      <td>181.00000</td>\n",
       "      <td>C840083671</td>\n",
       "      <td>181.00000</td>\n",
       "      <td>0.00000</td>\n",
       "      <td>C38997010</td>\n",
       "      <td>21182.00000</td>\n",
       "      <td>0.00000</td>\n",
       "      <td>1</td>\n",
       "      <td>0</td>\n",
       "    </tr>\n",
       "    <tr>\n",
       "      <th>4</th>\n",
       "      <td>1</td>\n",
       "      <td>PAYMENT</td>\n",
       "      <td>11668.14000</td>\n",
       "      <td>C2048537720</td>\n",
       "      <td>41554.00000</td>\n",
       "      <td>29885.86000</td>\n",
       "      <td>M1230701703</td>\n",
       "      <td>0.00000</td>\n",
       "      <td>0.00000</td>\n",
       "      <td>0</td>\n",
       "      <td>0</td>\n",
       "    </tr>\n",
       "  </tbody>\n",
       "</table>\n",
       "</div>"
      ],
      "text/plain": [
       "   step      type      amount     nameOrig  oldbalanceOrg  newbalanceOrig  \\\n",
       "0     1   PAYMENT  9839.64000  C1231006815   170136.00000    160296.36000   \n",
       "1     1   PAYMENT  1864.28000  C1666544295    21249.00000     19384.72000   \n",
       "2     1  TRANSFER   181.00000  C1305486145      181.00000         0.00000   \n",
       "3     1  CASH_OUT   181.00000   C840083671      181.00000         0.00000   \n",
       "4     1   PAYMENT 11668.14000  C2048537720    41554.00000     29885.86000   \n",
       "\n",
       "      nameDest  oldbalanceDest  newbalanceDest  isFraud  isFlaggedFraud  \n",
       "0  M1979787155         0.00000         0.00000        0               0  \n",
       "1  M2044282225         0.00000         0.00000        0               0  \n",
       "2   C553264065         0.00000         0.00000        1               0  \n",
       "3    C38997010     21182.00000         0.00000        1               0  \n",
       "4  M1230701703         0.00000         0.00000        0               0  "
      ]
     },
     "execution_count": 5,
     "metadata": {},
     "output_type": "execute_result"
    }
   ],
   "source": [
    "df.head()"
   ]
  },
  {
   "cell_type": "markdown",
   "id": "a79666e1",
   "metadata": {},
   "source": [
    "# 4. Exploratory data analysis"
   ]
  },
  {
   "cell_type": "markdown",
   "id": "da0276d9",
   "metadata": {},
   "source": [
    "Após as etapas dos notebooks anteriores, iremos agora aprofundar na análise multivariada desenvolvendo hipóteses para testar algumas afirmações e com isso levantarmos alguns insights para a etapa de feature engineering."
   ]
  },
  {
   "cell_type": "markdown",
   "id": "f1eb219d",
   "metadata": {},
   "source": [
    "## 4.1. Hypothesis List"
   ]
  },
  {
   "cell_type": "markdown",
   "id": "f8246062",
   "metadata": {},
   "source": [
    "1. O **type** CASH_OUT é o mais relacionado à fraude.\n",
    "2. O **type** com a maior soma de transação é o que possui mais fraude.\n",
    "3. A fraude ocorre somente para transações maiores.\n",
    "4. Os clientes destino rotulados com M representa acima de 50% do total de transações fraudulentas.\n",
    "5. Fraude somente ocorre quando o novo balanço de destino está zerado.\n",
    "6. Fraude somente ocorre quando o novo balanço de origem está zerado.\n",
    "7. Fraude somente ocorre quando o antigo balanço de destino está zerado.\n",
    "8. Fraude somente ocorre quando o antigo balanço de origem está zerado.\n",
    "9. Clientes que foram classificados como fraude retornam novamente para fraudar.\n",
    "10. Fraude ocorre quando a diferença entre o antigo balanço, a transação e o novo balanço de origem é maior que a diferença entre a transação e o novo balanço de destino."
   ]
  },
  {
   "cell_type": "markdown",
   "id": "ad523c34",
   "metadata": {
    "heading_collapsed": true
   },
   "source": [
    "### 4.1.1. O type CASH_OUT é o mais relacionado à fraude."
   ]
  },
  {
   "cell_type": "code",
   "execution_count": 6,
   "id": "fdd3920a",
   "metadata": {
    "ExecuteTime": {
     "end_time": "2022-04-29T17:44:25.694762Z",
     "start_time": "2022-04-29T17:44:25.054712Z"
    },
    "hidden": true
   },
   "outputs": [
    {
     "data": {
      "text/html": [
       "<div>\n",
       "<style scoped>\n",
       "    .dataframe tbody tr th:only-of-type {\n",
       "        vertical-align: middle;\n",
       "    }\n",
       "\n",
       "    .dataframe tbody tr th {\n",
       "        vertical-align: top;\n",
       "    }\n",
       "\n",
       "    .dataframe thead th {\n",
       "        text-align: right;\n",
       "    }\n",
       "</style>\n",
       "<table border=\"1\" class=\"dataframe\">\n",
       "  <thead>\n",
       "    <tr style=\"text-align: right;\">\n",
       "      <th>isFraud</th>\n",
       "      <th>type</th>\n",
       "      <th>0</th>\n",
       "      <th>1</th>\n",
       "    </tr>\n",
       "  </thead>\n",
       "  <tbody>\n",
       "    <tr>\n",
       "      <th>1</th>\n",
       "      <td>CASH_OUT</td>\n",
       "      <td>2211105</td>\n",
       "      <td>4077</td>\n",
       "    </tr>\n",
       "    <tr>\n",
       "      <th>4</th>\n",
       "      <td>TRANSFER</td>\n",
       "      <td>523440</td>\n",
       "      <td>4048</td>\n",
       "    </tr>\n",
       "    <tr>\n",
       "      <th>0</th>\n",
       "      <td>CASH_IN</td>\n",
       "      <td>1385371</td>\n",
       "      <td>0</td>\n",
       "    </tr>\n",
       "    <tr>\n",
       "      <th>2</th>\n",
       "      <td>DEBIT</td>\n",
       "      <td>41019</td>\n",
       "      <td>0</td>\n",
       "    </tr>\n",
       "    <tr>\n",
       "      <th>3</th>\n",
       "      <td>PAYMENT</td>\n",
       "      <td>2129934</td>\n",
       "      <td>0</td>\n",
       "    </tr>\n",
       "  </tbody>\n",
       "</table>\n",
       "</div>"
      ],
      "text/plain": [
       "isFraud      type        0     1\n",
       "1        CASH_OUT  2211105  4077\n",
       "4        TRANSFER   523440  4048\n",
       "0         CASH_IN  1385371     0\n",
       "2           DEBIT    41019     0\n",
       "3         PAYMENT  2129934     0"
      ]
     },
     "execution_count": 6,
     "metadata": {},
     "output_type": "execute_result"
    }
   ],
   "source": [
    "pd.crosstab(df.type.astype(str), df.isFraud, dropna=False).reset_index().sort_values(1, ascending=False)"
   ]
  },
  {
   "cell_type": "markdown",
   "id": "8038d600",
   "metadata": {
    "hidden": true
   },
   "source": [
    "**Hipótese verdadeira**\n",
    "\n",
    "Podemos ver que o **type** CASH_OUT é aquele que possui a maior quantidade de fraude, seguido pelo TRANSFER. Além disso podemos afirmar que são somente esses dois que possuem registros que foram considerados fraudes."
   ]
  },
  {
   "cell_type": "markdown",
   "id": "6ad4c4fb",
   "metadata": {
    "heading_collapsed": true
   },
   "source": [
    "### 4.1.2. O type com a maior soma de transação é o que possui mais fraude."
   ]
  },
  {
   "cell_type": "code",
   "execution_count": 7,
   "id": "75d98445",
   "metadata": {
    "ExecuteTime": {
     "end_time": "2022-04-29T17:45:15.609740Z",
     "start_time": "2022-04-29T17:45:15.170553Z"
    },
    "hidden": true
   },
   "outputs": [
    {
     "data": {
      "text/html": [
       "<div>\n",
       "<style scoped>\n",
       "    .dataframe tbody tr th:only-of-type {\n",
       "        vertical-align: middle;\n",
       "    }\n",
       "\n",
       "    .dataframe tbody tr th {\n",
       "        vertical-align: top;\n",
       "    }\n",
       "\n",
       "    .dataframe thead th {\n",
       "        text-align: right;\n",
       "    }\n",
       "</style>\n",
       "<table border=\"1\" class=\"dataframe\">\n",
       "  <thead>\n",
       "    <tr style=\"text-align: right;\">\n",
       "      <th></th>\n",
       "      <th>type</th>\n",
       "      <th>qtd_transacao</th>\n",
       "    </tr>\n",
       "  </thead>\n",
       "  <tbody>\n",
       "    <tr>\n",
       "      <th>1</th>\n",
       "      <td>CASH_OUT</td>\n",
       "      <td>2215182</td>\n",
       "    </tr>\n",
       "    <tr>\n",
       "      <th>3</th>\n",
       "      <td>PAYMENT</td>\n",
       "      <td>2129934</td>\n",
       "    </tr>\n",
       "    <tr>\n",
       "      <th>0</th>\n",
       "      <td>CASH_IN</td>\n",
       "      <td>1385371</td>\n",
       "    </tr>\n",
       "    <tr>\n",
       "      <th>4</th>\n",
       "      <td>TRANSFER</td>\n",
       "      <td>527488</td>\n",
       "    </tr>\n",
       "    <tr>\n",
       "      <th>2</th>\n",
       "      <td>DEBIT</td>\n",
       "      <td>41019</td>\n",
       "    </tr>\n",
       "  </tbody>\n",
       "</table>\n",
       "</div>"
      ],
      "text/plain": [
       "       type  qtd_transacao\n",
       "1  CASH_OUT        2215182\n",
       "3   PAYMENT        2129934\n",
       "0   CASH_IN        1385371\n",
       "4  TRANSFER         527488\n",
       "2     DEBIT          41019"
      ]
     },
     "execution_count": 7,
     "metadata": {},
     "output_type": "execute_result"
    }
   ],
   "source": [
    "df.groupby('type').agg(qtd_transacao=('type', 'count')).reset_index().sort_values('qtd_transacao', ascending=False)"
   ]
  },
  {
   "cell_type": "markdown",
   "id": "c3f403c6",
   "metadata": {
    "hidden": true
   },
   "source": [
    "O **type** com a maior soma de transação é o CASH_OUT.\n",
    "\n",
    "**Hipótese Verdadeira**\n",
    "\n",
    "Utilizando a tabela anterior (4.1.1) e acima, podemos identificar que o método CASH_OUT é o que possui maior quantidade de fraude (4077) e também que possui mais transações (2215182)."
   ]
  },
  {
   "cell_type": "markdown",
   "id": "2575d49a",
   "metadata": {
    "heading_collapsed": true
   },
   "source": [
    "### 4.1.3. A fraude ocorre somente para transações maiores. "
   ]
  },
  {
   "cell_type": "markdown",
   "id": "17e8acea",
   "metadata": {
    "hidden": true
   },
   "source": [
    "Para decidir se uma transação representa um alto valor, vamos levar em conta os valores acima da média, que é aproximadamente 179 mil."
   ]
  },
  {
   "cell_type": "code",
   "execution_count": 5,
   "id": "538592d0",
   "metadata": {
    "ExecuteTime": {
     "end_time": "2022-04-29T12:18:25.920219Z",
     "start_time": "2022-04-29T12:18:25.653674Z"
    },
    "hidden": true
   },
   "outputs": [],
   "source": [
    "df_1 = df.copy()\n",
    "df_1['is_high_amount'] = np.where(df_1['amount']>=179000,1,0)"
   ]
  },
  {
   "cell_type": "code",
   "execution_count": 6,
   "id": "6f36be4c",
   "metadata": {
    "ExecuteTime": {
     "end_time": "2022-04-29T12:20:18.544503Z",
     "start_time": "2022-04-29T12:18:25.921281Z"
    },
    "hidden": true
   },
   "outputs": [
    {
     "data": {
      "image/png": "[encoded data removed]",
      "text/plain": [
       "<Figure size 864x432 with 1 Axes>"
      ]
     },
     "metadata": {
      "needs_background": "light"
     },
     "output_type": "display_data"
    }
   ],
   "source": [
    "plt.subplots(figsize=(12,6))\n",
    "sns.barplot(x='isFraud', y='amount', hue='is_high_amount', data=df_1)\n",
    "plt.tight_layout()"
   ]
  },
  {
   "cell_type": "markdown",
   "id": "e2c2a86b",
   "metadata": {
    "hidden": true
   },
   "source": [
    "**Hipótese False**\n",
    "\n",
    "Mesmo que tenhamos uma maior transações fraudulentas com alto valor, também temos as transações não fraudulentas com valores acima da média estipulada."
   ]
  },
  {
   "cell_type": "markdown",
   "id": "932aea26",
   "metadata": {
    "heading_collapsed": true
   },
   "source": [
    "### 4.1.4. Os clientes destino rotulados com M representa acima de 50% do total de transações fraudulentas."
   ]
  },
  {
   "cell_type": "code",
   "execution_count": 7,
   "id": "df7d7d6b",
   "metadata": {
    "ExecuteTime": {
     "end_time": "2022-04-29T12:20:21.049083Z",
     "start_time": "2022-04-29T12:20:18.545764Z"
    },
    "hidden": true
   },
   "outputs": [],
   "source": [
    "df_2 = df.copy()\n",
    "df_2['M_customer'] = np.where(df_2['nameDest'].str.contains('M'), 1,0)"
   ]
  },
  {
   "cell_type": "code",
   "execution_count": 8,
   "id": "e0df9dbb",
   "metadata": {
    "ExecuteTime": {
     "end_time": "2022-04-29T12:20:21.074552Z",
     "start_time": "2022-04-29T12:20:21.050204Z"
    },
    "hidden": true
   },
   "outputs": [
    {
     "data": {
      "text/plain": [
       "0   0.66187\n",
       "1   0.33813\n",
       "Name: M_customer, dtype: float64"
      ]
     },
     "execution_count": 8,
     "metadata": {},
     "output_type": "execute_result"
    }
   ],
   "source": [
    "df_2['M_customer'].value_counts(normalize=True)"
   ]
  },
  {
   "cell_type": "code",
   "execution_count": 9,
   "id": "ad52dca9",
   "metadata": {
    "ExecuteTime": {
     "end_time": "2022-04-29T12:20:23.050239Z",
     "start_time": "2022-04-29T12:20:21.075683Z"
    },
    "hidden": true
   },
   "outputs": [
    {
     "data": {
      "text/html": [
       "<div>\n",
       "<style scoped>\n",
       "    .dataframe tbody tr th:only-of-type {\n",
       "        vertical-align: middle;\n",
       "    }\n",
       "\n",
       "    .dataframe tbody tr th {\n",
       "        vertical-align: top;\n",
       "    }\n",
       "\n",
       "    .dataframe thead th {\n",
       "        text-align: right;\n",
       "    }\n",
       "</style>\n",
       "<table border=\"1\" class=\"dataframe\">\n",
       "  <thead>\n",
       "    <tr style=\"text-align: right;\">\n",
       "      <th>isFraud</th>\n",
       "      <th>0</th>\n",
       "      <th>1</th>\n",
       "    </tr>\n",
       "    <tr>\n",
       "      <th>M_customer</th>\n",
       "      <th></th>\n",
       "      <th></th>\n",
       "    </tr>\n",
       "  </thead>\n",
       "  <tbody>\n",
       "    <tr>\n",
       "      <th>0</th>\n",
       "      <td>3992874</td>\n",
       "      <td>7808</td>\n",
       "    </tr>\n",
       "    <tr>\n",
       "      <th>1</th>\n",
       "      <td>2043807</td>\n",
       "      <td>0</td>\n",
       "    </tr>\n",
       "  </tbody>\n",
       "</table>\n",
       "</div>"
      ],
      "text/plain": [
       "isFraud           0     1\n",
       "M_customer               \n",
       "0           3992874  7808\n",
       "1           2043807     0"
      ]
     },
     "execution_count": 9,
     "metadata": {},
     "output_type": "execute_result"
    }
   ],
   "source": [
    "pd.crosstab(df_2.M_customer.astype(str), df_2.isFraud, dropna=False)"
   ]
  },
  {
   "cell_type": "markdown",
   "id": "fdbdb139",
   "metadata": {
    "hidden": true
   },
   "source": [
    "**Hipótese Falsa**\n",
    "\n",
    "Temos entorno de 33% de clientes destinos rotulados com M, porém nenhum deles foram classificados como fraude."
   ]
  },
  {
   "cell_type": "markdown",
   "id": "4b9dbe8a",
   "metadata": {
    "heading_collapsed": true
   },
   "source": [
    "### 4.1.5. Fraude somente ocorre quando o novo balanço de destino está zerado."
   ]
  },
  {
   "cell_type": "code",
   "execution_count": 10,
   "id": "853c1247",
   "metadata": {
    "ExecuteTime": {
     "end_time": "2022-04-29T12:20:23.294117Z",
     "start_time": "2022-04-29T12:20:23.052897Z"
    },
    "hidden": true
   },
   "outputs": [],
   "source": [
    "df_3 = df.copy()\n",
    "df_3['new_balance_dest_zero'] = np.where(df_3['newbalanceDest']==0, 1, 0)"
   ]
  },
  {
   "cell_type": "code",
   "execution_count": 11,
   "id": "2d6a0f60",
   "metadata": {
    "ExecuteTime": {
     "end_time": "2022-04-29T12:20:25.563188Z",
     "start_time": "2022-04-29T12:20:23.295239Z"
    },
    "hidden": true
   },
   "outputs": [
    {
     "data": {
      "text/html": [
       "<div>\n",
       "<style scoped>\n",
       "    .dataframe tbody tr th:only-of-type {\n",
       "        vertical-align: middle;\n",
       "    }\n",
       "\n",
       "    .dataframe tbody tr th {\n",
       "        vertical-align: top;\n",
       "    }\n",
       "\n",
       "    .dataframe thead th {\n",
       "        text-align: right;\n",
       "    }\n",
       "</style>\n",
       "<table border=\"1\" class=\"dataframe\">\n",
       "  <thead>\n",
       "    <tr style=\"text-align: right;\">\n",
       "      <th>isFraud</th>\n",
       "      <th>0</th>\n",
       "      <th>1</th>\n",
       "    </tr>\n",
       "    <tr>\n",
       "      <th>new_balance_dest_zero</th>\n",
       "      <th></th>\n",
       "      <th></th>\n",
       "    </tr>\n",
       "  </thead>\n",
       "  <tbody>\n",
       "    <tr>\n",
       "      <th>0</th>\n",
       "      <td>3723314</td>\n",
       "      <td>3907</td>\n",
       "    </tr>\n",
       "    <tr>\n",
       "      <th>1</th>\n",
       "      <td>2313367</td>\n",
       "      <td>3901</td>\n",
       "    </tr>\n",
       "  </tbody>\n",
       "</table>\n",
       "</div>"
      ],
      "text/plain": [
       "isFraud                      0     1\n",
       "new_balance_dest_zero               \n",
       "0                      3723314  3907\n",
       "1                      2313367  3901"
      ]
     },
     "execution_count": 11,
     "metadata": {},
     "output_type": "execute_result"
    }
   ],
   "source": [
    "pd.crosstab(df_3.new_balance_dest_zero.astype(str), df_3.isFraud, dropna=False)"
   ]
  },
  {
   "cell_type": "code",
   "execution_count": 12,
   "id": "9821580c",
   "metadata": {
    "ExecuteTime": {
     "end_time": "2022-04-29T12:20:26.278935Z",
     "start_time": "2022-04-29T12:20:25.564371Z"
    },
    "hidden": true
   },
   "outputs": [
    {
     "data": {
      "image/png": "[encoded data removed]",
      "text/plain": [
       "<Figure size 864x432 with 1 Axes>"
      ]
     },
     "metadata": {
      "needs_background": "light"
     },
     "output_type": "display_data"
    }
   ],
   "source": [
    "plt.subplots(figsize=(12,6))\n",
    "sns.countplot(x='isFraud', hue='new_balance_dest_zero', data=df_3)\n",
    "plt.tight_layout()"
   ]
  },
  {
   "cell_type": "markdown",
   "id": "865b6101",
   "metadata": {
    "hidden": true
   },
   "source": [
    "**Hipótese Falsa**\n",
    "\n",
    "Temos fraudes acontecendo quando o novo balanço destino não está zerado."
   ]
  },
  {
   "cell_type": "markdown",
   "id": "a443368d",
   "metadata": {
    "heading_collapsed": true
   },
   "source": [
    "### 4.1.6. Fraude somente ocorre quando o novo balanço de origem está zerado."
   ]
  },
  {
   "cell_type": "code",
   "execution_count": 13,
   "id": "df8d7247",
   "metadata": {
    "ExecuteTime": {
     "end_time": "2022-04-29T12:20:26.569973Z",
     "start_time": "2022-04-29T12:20:26.280192Z"
    },
    "hidden": true
   },
   "outputs": [],
   "source": [
    "df_4 = df.copy()\n",
    "df_4['new_balance_orig_zero'] = np.where(df_4['newbalanceOrig']==0, 1, 0)"
   ]
  },
  {
   "cell_type": "code",
   "execution_count": 14,
   "id": "4fac5c67",
   "metadata": {
    "ExecuteTime": {
     "end_time": "2022-04-29T12:20:28.871314Z",
     "start_time": "2022-04-29T12:20:26.571066Z"
    },
    "hidden": true
   },
   "outputs": [
    {
     "data": {
      "text/html": [
       "<div>\n",
       "<style scoped>\n",
       "    .dataframe tbody tr th:only-of-type {\n",
       "        vertical-align: middle;\n",
       "    }\n",
       "\n",
       "    .dataframe tbody tr th {\n",
       "        vertical-align: top;\n",
       "    }\n",
       "\n",
       "    .dataframe thead th {\n",
       "        text-align: right;\n",
       "    }\n",
       "</style>\n",
       "<table border=\"1\" class=\"dataframe\">\n",
       "  <thead>\n",
       "    <tr style=\"text-align: right;\">\n",
       "      <th>isFraud</th>\n",
       "      <th>0</th>\n",
       "      <th>1</th>\n",
       "    </tr>\n",
       "    <tr>\n",
       "      <th>new_balance_orig_zero</th>\n",
       "      <th></th>\n",
       "      <th></th>\n",
       "    </tr>\n",
       "  </thead>\n",
       "  <tbody>\n",
       "    <tr>\n",
       "      <th>0</th>\n",
       "      <td>2615207</td>\n",
       "      <td>155</td>\n",
       "    </tr>\n",
       "    <tr>\n",
       "      <th>1</th>\n",
       "      <td>3421474</td>\n",
       "      <td>7653</td>\n",
       "    </tr>\n",
       "  </tbody>\n",
       "</table>\n",
       "</div>"
      ],
      "text/plain": [
       "isFraud                      0     1\n",
       "new_balance_orig_zero               \n",
       "0                      2615207   155\n",
       "1                      3421474  7653"
      ]
     },
     "execution_count": 14,
     "metadata": {},
     "output_type": "execute_result"
    }
   ],
   "source": [
    "pd.crosstab(df_4.new_balance_orig_zero.astype(str), df_4.isFraud, dropna=False)"
   ]
  },
  {
   "cell_type": "code",
   "execution_count": 15,
   "id": "2fa0491d",
   "metadata": {
    "ExecuteTime": {
     "end_time": "2022-04-29T12:20:29.634186Z",
     "start_time": "2022-04-29T12:20:28.872427Z"
    },
    "hidden": true
   },
   "outputs": [
    {
     "data": {
      "image/png": "[encoded data removed]",
      "text/plain": [
       "<Figure size 864x432 with 1 Axes>"
      ]
     },
     "metadata": {
      "needs_background": "light"
     },
     "output_type": "display_data"
    }
   ],
   "source": [
    "plt.subplots(figsize=(12,6))\n",
    "sns.countplot(x='isFraud', hue='new_balance_orig_zero', data=df_4)\n",
    "plt.tight_layout()"
   ]
  },
  {
   "cell_type": "markdown",
   "id": "2d449869",
   "metadata": {
    "hidden": true
   },
   "source": [
    "**Hipótese Falsa**\n",
    "\n",
    "Temos fraudes acontecendo quando o novo balanço origem não está zerado."
   ]
  },
  {
   "cell_type": "markdown",
   "id": "a1b22ade",
   "metadata": {
    "heading_collapsed": true
   },
   "source": [
    "### 4.1.7. Fraude somente ocorre quando o antigo balanço de destino está zerado."
   ]
  },
  {
   "cell_type": "code",
   "execution_count": 16,
   "id": "eb1a0ba6",
   "metadata": {
    "ExecuteTime": {
     "end_time": "2022-04-29T12:20:29.940136Z",
     "start_time": "2022-04-29T12:20:29.635204Z"
    },
    "hidden": true
   },
   "outputs": [],
   "source": [
    "df_5 = df.copy()\n",
    "df_5['old_balance_dest_zero'] = np.where(df_5['oldbalanceDest']==0, 1, 0)"
   ]
  },
  {
   "cell_type": "code",
   "execution_count": 17,
   "id": "6b064cde",
   "metadata": {
    "ExecuteTime": {
     "end_time": "2022-04-29T12:20:32.422121Z",
     "start_time": "2022-04-29T12:20:29.941196Z"
    },
    "hidden": true
   },
   "outputs": [
    {
     "data": {
      "text/html": [
       "<div>\n",
       "<style scoped>\n",
       "    .dataframe tbody tr th:only-of-type {\n",
       "        vertical-align: middle;\n",
       "    }\n",
       "\n",
       "    .dataframe tbody tr th {\n",
       "        vertical-align: top;\n",
       "    }\n",
       "\n",
       "    .dataframe thead th {\n",
       "        text-align: right;\n",
       "    }\n",
       "</style>\n",
       "<table border=\"1\" class=\"dataframe\">\n",
       "  <thead>\n",
       "    <tr style=\"text-align: right;\">\n",
       "      <th>isFraud</th>\n",
       "      <th>0</th>\n",
       "      <th>1</th>\n",
       "    </tr>\n",
       "    <tr>\n",
       "      <th>old_balance_dest_zero</th>\n",
       "      <th></th>\n",
       "      <th></th>\n",
       "    </tr>\n",
       "  </thead>\n",
       "  <tbody>\n",
       "    <tr>\n",
       "      <th>0</th>\n",
       "      <td>3472380</td>\n",
       "      <td>2706</td>\n",
       "    </tr>\n",
       "    <tr>\n",
       "      <th>1</th>\n",
       "      <td>2564301</td>\n",
       "      <td>5102</td>\n",
       "    </tr>\n",
       "  </tbody>\n",
       "</table>\n",
       "</div>"
      ],
      "text/plain": [
       "isFraud                      0     1\n",
       "old_balance_dest_zero               \n",
       "0                      3472380  2706\n",
       "1                      2564301  5102"
      ]
     },
     "execution_count": 17,
     "metadata": {},
     "output_type": "execute_result"
    }
   ],
   "source": [
    "pd.crosstab(df_5.old_balance_dest_zero.astype(str), df_5.isFraud, dropna=False)"
   ]
  },
  {
   "cell_type": "code",
   "execution_count": 18,
   "id": "a5b95d0d",
   "metadata": {
    "ExecuteTime": {
     "end_time": "2022-04-29T12:20:33.214326Z",
     "start_time": "2022-04-29T12:20:32.423270Z"
    },
    "hidden": true
   },
   "outputs": [
    {
     "data": {
      "image/png": "[encoded data removed]",
      "text/plain": [
       "<Figure size 864x432 with 1 Axes>"
      ]
     },
     "metadata": {
      "needs_background": "light"
     },
     "output_type": "display_data"
    }
   ],
   "source": [
    "plt.subplots(figsize=(12,6))\n",
    "sns.countplot(x='isFraud', hue='old_balance_dest_zero', data=df_5)\n",
    "plt.tight_layout()"
   ]
  },
  {
   "cell_type": "markdown",
   "id": "b6c362dd",
   "metadata": {
    "hidden": true
   },
   "source": [
    "**Hipótese Falsa**\n",
    "\n",
    "Temos fraudes acontecendo quando o antigo balanço destino não está zerado."
   ]
  },
  {
   "cell_type": "markdown",
   "id": "cf311b16",
   "metadata": {
    "heading_collapsed": true
   },
   "source": [
    "### 4.1.8. Fraude somente ocorre quando o antigo balanço de origem está zerado."
   ]
  },
  {
   "cell_type": "code",
   "execution_count": 19,
   "id": "b72c7bdb",
   "metadata": {
    "ExecuteTime": {
     "end_time": "2022-04-29T12:20:33.514333Z",
     "start_time": "2022-04-29T12:20:33.215442Z"
    },
    "hidden": true
   },
   "outputs": [],
   "source": [
    "df_6 = df.copy()\n",
    "df_6['old_balance_orig_zero'] = np.where(df_6['oldbalanceOrg']==0, 1, 0)"
   ]
  },
  {
   "cell_type": "code",
   "execution_count": 20,
   "id": "0a33455b",
   "metadata": {
    "ExecuteTime": {
     "end_time": "2022-04-29T12:20:42.202186Z",
     "start_time": "2022-04-29T12:20:33.515370Z"
    },
    "hidden": true
   },
   "outputs": [
    {
     "data": {
      "text/html": [
       "<div>\n",
       "<style scoped>\n",
       "    .dataframe tbody tr th:only-of-type {\n",
       "        vertical-align: middle;\n",
       "    }\n",
       "\n",
       "    .dataframe tbody tr th {\n",
       "        vertical-align: top;\n",
       "    }\n",
       "\n",
       "    .dataframe thead th {\n",
       "        text-align: right;\n",
       "    }\n",
       "</style>\n",
       "<table border=\"1\" class=\"dataframe\">\n",
       "  <thead>\n",
       "    <tr style=\"text-align: right;\">\n",
       "      <th>isFraud</th>\n",
       "      <th>0</th>\n",
       "      <th>1</th>\n",
       "    </tr>\n",
       "    <tr>\n",
       "      <th>old_balance_orig_zero</th>\n",
       "      <th></th>\n",
       "      <th></th>\n",
       "    </tr>\n",
       "  </thead>\n",
       "  <tbody>\n",
       "    <tr>\n",
       "      <th>0</th>\n",
       "      <td>4039666</td>\n",
       "      <td>7770</td>\n",
       "    </tr>\n",
       "    <tr>\n",
       "      <th>1</th>\n",
       "      <td>1997015</td>\n",
       "      <td>38</td>\n",
       "    </tr>\n",
       "  </tbody>\n",
       "</table>\n",
       "</div>"
      ],
      "text/plain": [
       "isFraud                      0     1\n",
       "old_balance_orig_zero               \n",
       "0                      4039666  7770\n",
       "1                      1997015    38"
      ]
     },
     "execution_count": 20,
     "metadata": {},
     "output_type": "execute_result"
    }
   ],
   "source": [
    "pd.crosstab(df_6.old_balance_orig_zero.astype(str), df_6.isFraud, dropna=False)"
   ]
  },
  {
   "cell_type": "code",
   "execution_count": 21,
   "id": "21ebf190",
   "metadata": {
    "ExecuteTime": {
     "end_time": "2022-04-29T12:20:43.002504Z",
     "start_time": "2022-04-29T12:20:42.203383Z"
    },
    "hidden": true
   },
   "outputs": [
    {
     "data": {
      "image/png": "[encoded data removed]",
      "text/plain": [
       "<Figure size 864x432 with 1 Axes>"
      ]
     },
     "metadata": {
      "needs_background": "light"
     },
     "output_type": "display_data"
    }
   ],
   "source": [
    "plt.subplots(figsize=(12,6))\n",
    "sns.countplot(x='isFraud', hue='old_balance_orig_zero', data=df_6)\n",
    "plt.tight_layout()"
   ]
  },
  {
   "cell_type": "markdown",
   "id": "1f098d6b",
   "metadata": {
    "hidden": true
   },
   "source": [
    "**Hipótese Falsa**\n",
    "\n",
    "Temos fraudes acontecendo quando o antigo balanço origem não está zerado."
   ]
  },
  {
   "cell_type": "markdown",
   "id": "ecbdbe00",
   "metadata": {
    "heading_collapsed": true
   },
   "source": [
    "### 4.1.9. Clientes que foram classificados como fraude retornam novamente para fraudar."
   ]
  },
  {
   "cell_type": "code",
   "execution_count": 22,
   "id": "651574b0",
   "metadata": {
    "ExecuteTime": {
     "end_time": "2022-04-29T12:20:43.025287Z",
     "start_time": "2022-04-29T12:20:43.003652Z"
    },
    "hidden": true
   },
   "outputs": [
    {
     "data": {
      "text/html": [
       "<div>\n",
       "<style scoped>\n",
       "    .dataframe tbody tr th:only-of-type {\n",
       "        vertical-align: middle;\n",
       "    }\n",
       "\n",
       "    .dataframe tbody tr th {\n",
       "        vertical-align: top;\n",
       "    }\n",
       "\n",
       "    .dataframe thead th {\n",
       "        text-align: right;\n",
       "    }\n",
       "</style>\n",
       "<table border=\"1\" class=\"dataframe\">\n",
       "  <thead>\n",
       "    <tr style=\"text-align: right;\">\n",
       "      <th></th>\n",
       "      <th>step</th>\n",
       "      <th>type</th>\n",
       "      <th>amount</th>\n",
       "      <th>nameOrig</th>\n",
       "      <th>oldbalanceOrg</th>\n",
       "      <th>newbalanceOrig</th>\n",
       "      <th>nameDest</th>\n",
       "      <th>oldbalanceDest</th>\n",
       "      <th>newbalanceDest</th>\n",
       "      <th>isFraud</th>\n",
       "      <th>isFlaggedFraud</th>\n",
       "    </tr>\n",
       "  </thead>\n",
       "  <tbody>\n",
       "    <tr>\n",
       "      <th>2</th>\n",
       "      <td>1</td>\n",
       "      <td>TRANSFER</td>\n",
       "      <td>181.00000</td>\n",
       "      <td>C1305486145</td>\n",
       "      <td>181.00000</td>\n",
       "      <td>0.00000</td>\n",
       "      <td>C553264065</td>\n",
       "      <td>0.00000</td>\n",
       "      <td>0.00000</td>\n",
       "      <td>1</td>\n",
       "      <td>0</td>\n",
       "    </tr>\n",
       "    <tr>\n",
       "      <th>3</th>\n",
       "      <td>1</td>\n",
       "      <td>CASH_OUT</td>\n",
       "      <td>181.00000</td>\n",
       "      <td>C840083671</td>\n",
       "      <td>181.00000</td>\n",
       "      <td>0.00000</td>\n",
       "      <td>C38997010</td>\n",
       "      <td>21182.00000</td>\n",
       "      <td>0.00000</td>\n",
       "      <td>1</td>\n",
       "      <td>0</td>\n",
       "    </tr>\n",
       "    <tr>\n",
       "      <th>251</th>\n",
       "      <td>1</td>\n",
       "      <td>TRANSFER</td>\n",
       "      <td>2806.00000</td>\n",
       "      <td>C1420196421</td>\n",
       "      <td>2806.00000</td>\n",
       "      <td>0.00000</td>\n",
       "      <td>C972765878</td>\n",
       "      <td>0.00000</td>\n",
       "      <td>0.00000</td>\n",
       "      <td>1</td>\n",
       "      <td>0</td>\n",
       "    </tr>\n",
       "    <tr>\n",
       "      <th>680</th>\n",
       "      <td>1</td>\n",
       "      <td>TRANSFER</td>\n",
       "      <td>20128.00000</td>\n",
       "      <td>C137533655</td>\n",
       "      <td>20128.00000</td>\n",
       "      <td>0.00000</td>\n",
       "      <td>C1848415041</td>\n",
       "      <td>0.00000</td>\n",
       "      <td>0.00000</td>\n",
       "      <td>1</td>\n",
       "      <td>0</td>\n",
       "    </tr>\n",
       "    <tr>\n",
       "      <th>681</th>\n",
       "      <td>1</td>\n",
       "      <td>CASH_OUT</td>\n",
       "      <td>20128.00000</td>\n",
       "      <td>C1118430673</td>\n",
       "      <td>20128.00000</td>\n",
       "      <td>0.00000</td>\n",
       "      <td>C339924917</td>\n",
       "      <td>6268.00000</td>\n",
       "      <td>12145.85000</td>\n",
       "      <td>1</td>\n",
       "      <td>0</td>\n",
       "    </tr>\n",
       "  </tbody>\n",
       "</table>\n",
       "</div>"
      ],
      "text/plain": [
       "     step      type      amount     nameOrig  oldbalanceOrg  newbalanceOrig  \\\n",
       "2       1  TRANSFER   181.00000  C1305486145      181.00000         0.00000   \n",
       "3       1  CASH_OUT   181.00000   C840083671      181.00000         0.00000   \n",
       "251     1  TRANSFER  2806.00000  C1420196421     2806.00000         0.00000   \n",
       "680     1  TRANSFER 20128.00000   C137533655    20128.00000         0.00000   \n",
       "681     1  CASH_OUT 20128.00000  C1118430673    20128.00000         0.00000   \n",
       "\n",
       "        nameDest  oldbalanceDest  newbalanceDest  isFraud  isFlaggedFraud  \n",
       "2     C553264065         0.00000         0.00000        1               0  \n",
       "3      C38997010     21182.00000         0.00000        1               0  \n",
       "251   C972765878         0.00000         0.00000        1               0  \n",
       "680  C1848415041         0.00000         0.00000        1               0  \n",
       "681   C339924917      6268.00000     12145.85000        1               0  "
      ]
     },
     "execution_count": 22,
     "metadata": {},
     "output_type": "execute_result"
    }
   ],
   "source": [
    "df_7 = df.loc[df['isFraud']==1].copy()\n",
    "df_7.head()"
   ]
  },
  {
   "cell_type": "code",
   "execution_count": 23,
   "id": "b2fec4df",
   "metadata": {
    "ExecuteTime": {
     "end_time": "2022-04-29T12:20:43.049930Z",
     "start_time": "2022-04-29T12:20:43.026452Z"
    },
    "hidden": true
   },
   "outputs": [],
   "source": [
    "user_orig = df_7.groupby('nameOrig').agg(count_orig=('nameOrig', 'count')).reset_index().sort_values('count_orig', ascending=False)\n",
    "user_dest = df_7.groupby('nameDest').agg(count_dest=('nameDest', 'count')).reset_index().sort_values('count_dest', ascending=False)\n",
    "\n",
    "user_orig = user_orig.loc[user_orig['count_orig']>1]\n",
    "user_dest = user_dest.loc[user_dest['count_dest']>1]"
   ]
  },
  {
   "cell_type": "code",
   "execution_count": 24,
   "id": "87c429b5",
   "metadata": {
    "ExecuteTime": {
     "end_time": "2022-04-29T12:20:43.054663Z",
     "start_time": "2022-04-29T12:20:43.050943Z"
    },
    "hidden": true
   },
   "outputs": [
    {
     "data": {
      "text/plain": [
       "0"
      ]
     },
     "execution_count": 24,
     "metadata": {},
     "output_type": "execute_result"
    }
   ],
   "source": [
    "user_orig.nunique()[0]"
   ]
  },
  {
   "cell_type": "code",
   "execution_count": 25,
   "id": "c5d1e7d7",
   "metadata": {
    "ExecuteTime": {
     "end_time": "2022-04-29T12:20:43.059512Z",
     "start_time": "2022-04-29T12:20:43.055630Z"
    },
    "hidden": true
   },
   "outputs": [
    {
     "data": {
      "text/plain": [
       "42"
      ]
     },
     "execution_count": 25,
     "metadata": {},
     "output_type": "execute_result"
    }
   ],
   "source": [
    "user_dest.nunique()[0]"
   ]
  },
  {
   "cell_type": "markdown",
   "id": "b9a01f4e",
   "metadata": {
    "hidden": true
   },
   "source": [
    "**Hipótese Verdadeira**\n",
    "\n",
    "Em partes, usuários de origem definidos como fraudes não voltam, porém, os usuários de destino voltam mesmo serem considerados fraudulentos anteriormente."
   ]
  },
  {
   "cell_type": "markdown",
   "id": "66f9fcf8",
   "metadata": {
    "heading_collapsed": true
   },
   "source": [
    "### 4.1.10. Fraude ocorre quando a diferença entre o antigo balanço, a transação e o novo balanço de origem é maior que a diferença entre a transação e o novo balanço de destino."
   ]
  },
  {
   "cell_type": "code",
   "execution_count": 26,
   "id": "08e91a60",
   "metadata": {
    "ExecuteTime": {
     "end_time": "2022-04-29T12:20:43.396211Z",
     "start_time": "2022-04-29T12:20:43.060642Z"
    },
    "hidden": true
   },
   "outputs": [],
   "source": [
    "df_8 = df[['step', 'oldbalanceOrg', 'oldbalanceDest', 'amount', 'newbalanceOrig', 'newbalanceDest', 'isFraud']].copy()\n",
    "df_8['diff_orig'] = df_8['oldbalanceOrg'] - df_8['amount'] - df_8['newbalanceOrig']\n",
    "df_8['diff_dest'] = df_8['oldbalanceDest'] + df_8['amount'] - df_8['newbalanceDest']"
   ]
  },
  {
   "cell_type": "code",
   "execution_count": 35,
   "id": "912c177d",
   "metadata": {
    "ExecuteTime": {
     "end_time": "2022-04-29T12:29:37.720765Z",
     "start_time": "2022-04-29T12:27:54.992734Z"
    },
    "hidden": true
   },
   "outputs": [
    {
     "data": {
      "image/png": "[encoded data removed]",
      "text/plain": [
       "<Figure size 864x432 with 1 Axes>"
      ]
     },
     "metadata": {
      "needs_background": "light"
     },
     "output_type": "display_data"
    }
   ],
   "source": [
    "plt.subplots(figsize=(12,6))\n",
    "sns.scatterplot(x='step', y='diff_dest', hue='isFraud', data=df_8)\n",
    "plt.tight_layout()"
   ]
  },
  {
   "cell_type": "markdown",
   "id": "65006810",
   "metadata": {
    "hidden": true
   },
   "source": [
    "**Hipótese Verdadeira**\n",
    "\n",
    "Existem fraudes acontecendo quando a diferença entre o antigo balanço, a transação e o novo balanço de origem é maior que a diferença entre a transação e o novo balanço de destino."
   ]
  },
  {
   "cell_type": "markdown",
   "id": "0ba716f8",
   "metadata": {},
   "source": [
    "### 4.1.11. Hypothesis Summary"
   ]
  },
  {
   "cell_type": "code",
   "execution_count": 8,
   "id": "1dac8f21",
   "metadata": {
    "ExecuteTime": {
     "end_time": "2022-04-29T17:49:38.397529Z",
     "start_time": "2022-04-29T17:49:38.390832Z"
    }
   },
   "outputs": [
    {
     "data": {
      "text/html": [
       "<div>\n",
       "<style scoped>\n",
       "    .dataframe tbody tr th:only-of-type {\n",
       "        vertical-align: middle;\n",
       "    }\n",
       "\n",
       "    .dataframe tbody tr th {\n",
       "        vertical-align: top;\n",
       "    }\n",
       "\n",
       "    .dataframe thead th {\n",
       "        text-align: right;\n",
       "    }\n",
       "</style>\n",
       "<table border=\"1\" class=\"dataframe\">\n",
       "  <thead>\n",
       "    <tr style=\"text-align: right;\">\n",
       "      <th></th>\n",
       "      <th>Hypothesis</th>\n",
       "      <th>True / False</th>\n",
       "    </tr>\n",
       "  </thead>\n",
       "  <tbody>\n",
       "    <tr>\n",
       "      <th>1</th>\n",
       "      <td>O type CASH_OUT é o mais relacionado à fraude.</td>\n",
       "      <td>True</td>\n",
       "    </tr>\n",
       "    <tr>\n",
       "      <th>2</th>\n",
       "      <td>O type com a maior soma de transação é o que possui mais fraude.</td>\n",
       "      <td>True</td>\n",
       "    </tr>\n",
       "    <tr>\n",
       "      <th>3</th>\n",
       "      <td>A fraude ocorre somente para transações maiores.</td>\n",
       "      <td>False</td>\n",
       "    </tr>\n",
       "    <tr>\n",
       "      <th>4</th>\n",
       "      <td>Os clientes destino rotulados com M representa acima de 50% do total de transações fraudulentas.</td>\n",
       "      <td>False</td>\n",
       "    </tr>\n",
       "    <tr>\n",
       "      <th>5</th>\n",
       "      <td>Fraude somente ocorre quando o novo balanço de destino está zerado.</td>\n",
       "      <td>False</td>\n",
       "    </tr>\n",
       "    <tr>\n",
       "      <th>6</th>\n",
       "      <td>Fraude somente ocorre quando o novo balanço de origem está zerado.</td>\n",
       "      <td>False</td>\n",
       "    </tr>\n",
       "    <tr>\n",
       "      <th>7</th>\n",
       "      <td>Fraude somente ocorre quando o antigo balanço de destino está zerado.</td>\n",
       "      <td>False</td>\n",
       "    </tr>\n",
       "    <tr>\n",
       "      <th>8</th>\n",
       "      <td>Fraude somente ocorre quando o antigo balanço de origem está zerado.</td>\n",
       "      <td>False</td>\n",
       "    </tr>\n",
       "    <tr>\n",
       "      <th>9</th>\n",
       "      <td>Clientes que foram classificados como fraude retornam novamente para fraudar.</td>\n",
       "      <td>True</td>\n",
       "    </tr>\n",
       "    <tr>\n",
       "      <th>10</th>\n",
       "      <td>Fraude ocorre quando a diferença entre o antigo balanço, a transação e o novo balanço de origem é maior que a diferença entre a transação e o novo balanço de destino.</td>\n",
       "      <td>True</td>\n",
       "    </tr>\n",
       "  </tbody>\n",
       "</table>\n",
       "</div>"
      ],
      "text/plain": [
       "                                                                                                                                                                Hypothesis  \\\n",
       "1                                                                                                                           O type CASH_OUT é o mais relacionado à fraude.   \n",
       "2                                                                                                         O type com a maior soma de transação é o que possui mais fraude.   \n",
       "3                                                                                                                         A fraude ocorre somente para transações maiores.   \n",
       "4                                                                         Os clientes destino rotulados com M representa acima de 50% do total de transações fraudulentas.   \n",
       "5                                                                                                      Fraude somente ocorre quando o novo balanço de destino está zerado.   \n",
       "6                                                                                                       Fraude somente ocorre quando o novo balanço de origem está zerado.   \n",
       "7                                                                                                    Fraude somente ocorre quando o antigo balanço de destino está zerado.   \n",
       "8                                                                                                     Fraude somente ocorre quando o antigo balanço de origem está zerado.   \n",
       "9                                                                                            Clientes que foram classificados como fraude retornam novamente para fraudar.   \n",
       "10  Fraude ocorre quando a diferença entre o antigo balanço, a transação e o novo balanço de origem é maior que a diferença entre a transação e o novo balanço de destino.   \n",
       "\n",
       "   True / False  \n",
       "1          True  \n",
       "2          True  \n",
       "3         False  \n",
       "4         False  \n",
       "5         False  \n",
       "6         False  \n",
       "7         False  \n",
       "8         False  \n",
       "9          True  \n",
       "10         True  "
      ]
     },
     "execution_count": 8,
     "metadata": {},
     "output_type": "execute_result"
    }
   ],
   "source": [
    "# Hypothesis Summary dataframe\n",
    "pd.set_option('display.max_colwidth', None)\n",
    "summary = pd.DataFrame({'Hypothesis':['O type CASH_OUT é o mais relacionado à fraude.',\n",
    "                                      'O type com a maior soma de transação é o que possui mais fraude.',\n",
    "                                      'A fraude ocorre somente para transações maiores.',\n",
    "                                      'Os clientes destino rotulados com M representa acima de 50% do total de transações fraudulentas.',\n",
    "                                      'Fraude somente ocorre quando o novo balanço de destino está zerado.',\n",
    "                                      'Fraude somente ocorre quando o novo balanço de origem está zerado.',\n",
    "                                      'Fraude somente ocorre quando o antigo balanço de destino está zerado.',\n",
    "                                      'Fraude somente ocorre quando o antigo balanço de origem está zerado.',\n",
    "                                      'Clientes que foram classificados como fraude retornam novamente para fraudar.',\n",
    "                                      'Fraude ocorre quando a diferença entre o antigo balanço, a transação e o novo balanço de origem é maior que a diferença entre a transação e o novo balanço de destino.',\n",
    "                                      ],\n",
    "                        'True / False':['True', 'True', 'False', 'False', 'False', 'False', 'False', 'False', 'True',\n",
    "                                        'True']}, \n",
    "                        index=[1, 2, 3, 4, 5, 6, 7, 8, 9, 10])\n",
    "summary"
   ]
  },
  {
   "cell_type": "markdown",
   "id": "22e0b064",
   "metadata": {},
   "source": [
    "## 4.2. Multivariate analysis"
   ]
  },
  {
   "cell_type": "markdown",
   "id": "554509ce",
   "metadata": {},
   "source": [
    "### 4.2.1. Correlation numerical features"
   ]
  },
  {
   "cell_type": "code",
   "execution_count": 9,
   "id": "628bd78a",
   "metadata": {
    "ExecuteTime": {
     "end_time": "2022-04-29T17:49:43.023357Z",
     "start_time": "2022-04-29T17:49:42.199160Z"
    }
   },
   "outputs": [
    {
     "data": {
      "image/png": "[encoded data removed]",
      "text/plain": [
       "<Figure size 864x720 with 2 Axes>"
      ]
     },
     "metadata": {
      "needs_background": "light"
     },
     "output_type": "display_data"
    }
   ],
   "source": [
    "numerical_features = df[['step', 'amount', 'oldbalanceOrg', 'newbalanceOrig', 'oldbalanceDest', 'newbalanceDest']]\n",
    "correlations = numerical_features.corr()\n",
    "\n",
    "# uses the variable ax for single Axes\n",
    "fig, ax = plt.subplots()\n",
    "\n",
    "# sets the figure size in inches\n",
    "ax.figure.set_size_inches(12, 10)\n",
    "\n",
    "# generates a mask for the upper triangle\n",
    "mask = np.triu(np.ones_like(correlations, dtype=np.bool))\n",
    "\n",
    "# generates a custom diverging colormap\n",
    "cmap = sns.diverging_palette(220, 10, as_cmap=True)\n",
    "\n",
    "# plots the heatmap\n",
    "sns.heatmap(correlations, cmap=cmap, mask=mask, linewidth=.5, annot=True)\n",
    "\n",
    "# rotates the axes ticks\n",
    "plt.xticks(rotation=45)\n",
    "plt.yticks(rotation=0)\n",
    "\n",
    "# displays the plot\n",
    "plt.show()"
   ]
  },
  {
   "cell_type": "markdown",
   "id": "03ddc728",
   "metadata": {},
   "source": [
    "## 4.3. Conclusion"
   ]
  },
  {
   "cell_type": "markdown",
   "id": "ce522455",
   "metadata": {},
   "source": [
    "Dado as conclusões das hipóteses podemos definir que na próxima etapa de Feature Engineering teremos que criar novas features afim de beneficiar o modelo de machine learning para ele aprender com os inputs, por exemplo, por agora podemos confirmar que a diferença de saldo antes com o novo condiz com fraude. Além disso, podemos pensar em diversas novas formas de arranjar os dados, até por causa de que os dados da variável alvo está bem desbalanceado.\n",
    "\n",
    "Olhando as correlações, podemos destacar as correlações:\n",
    "- newbalanceOrig x oldbalanceOrg: possuindo uma correlação perfeita positiva\n",
    "- newbalanceDest x oldbalanceDest: possuindo uma correlação quase perfeita positiva\n",
    "\n",
    "É necessário prestar atenção nessas variáveis, podendo ser levadas ao modelo e não ter a performance esperada, pois temos uma alta correlação e ser possível identificar colinearidade das variáveis."
   ]
  }
 ],
 "metadata": {
  "kernelspec": {
   "display_name": "Python 3 (ipykernel)",
   "language": "python",
   "name": "python3"
  },
  "language_info": {
   "codemirror_mode": {
    "name": "ipython",
    "version": 3
   },
   "file_extension": ".py",
   "mimetype": "text/x-python",
   "name": "python",
   "nbconvert_exporter": "python",
   "pygments_lexer": "ipython3",
   "version": "3.9.7"
  },
  "notify_time": "5",
  "toc": {
   "base_numbering": 1,
   "nav_menu": {},
   "number_sections": true,
   "sideBar": true,
   "skip_h1_title": false,
   "title_cell": "Table of Contents",
   "title_sidebar": "Contents",
   "toc_cell": false,
   "toc_position": {},
   "toc_section_display": true,
   "toc_window_display": false
  },
  "varInspector": {
   "cols": {
    "lenName": 16,
    "lenType": 16,
    "lenVar": 40
   },
   "kernels_config": {
    "python": {
     "delete_cmd_postfix": "",
     "delete_cmd_prefix": "del ",
     "library": "var_list.py",
     "varRefreshCmd": "print(var_dic_list())"
    },
    "r": {
     "delete_cmd_postfix": ") ",
     "delete_cmd_prefix": "rm(",
     "library": "var_list.r",
     "varRefreshCmd": "cat(var_dic_list()) "
    }
   },
   "types_to_exclude": [
    "module",
    "function",
    "builtin_function_or_method",
    "instance",
    "_Feature"
   ],
   "window_display": false
  }
 },
 "nbformat": 4,
 "nbformat_minor": 5
}
