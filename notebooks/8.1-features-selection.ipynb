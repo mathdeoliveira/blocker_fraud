{
 "cells": [
  {
   "cell_type": "markdown",
   "id": "8fe8321b",
   "metadata": {
    "heading_collapsed": true
   },
   "source": [
    "# 1. Blocker Fraud Company\n",
    " <font size=\"2\"> Dados e problema negócio hipotéticos</font>\n",
    " \n",
    "A Blocker Fraud Company é uma empresa especializada na detecção de fraudes em transações financeiras feitas atravś de dispositivos móveis.\n",
    "\n",
    "O modelo de negócio da empresa é do tipo Serviço com a monetização feita por performance do serviço prestado, ou seja, o usuário paga uma taxa fixa sobre o sucesso da detecção de fraude das transações.\n",
    "\n",
    "## 1.1. Estratégia de expansão\n",
    "\n",
    "A Blocker Fraud Company está em fase de expansão no Brasil e para adquirir clientes mais rapidamente, ela adotou uma estratégia muito agressiva. A estratégia funciona da seguinte forma:\n",
    "\n",
    "1. A empresa vai receber 25% do valor de cada transação detectada verdadeiramente como fraude.\n",
    "2. A empresa vai receber 5% do valor de cada transação detectada como fraude, porém a transação é verdadeiramente legítima.\n",
    "3. A empresa vai devolver 100% do valor para o cliente, a cada transação detectada como legítima, porém a transação é verdadeiramente uma fraude.\n",
    "\n",
    "Com essa estratégia agressiva a empresa assume os riscos em falhar na detecção de fraude e é remunerada na detecção assertiva das fraudes.\n",
    "\n",
    "## 1.2. Objetivo\n",
    "\n",
    "Criar um modelo de alta precisão e acurácia na detecção de fraudes de transações feitas através de dispositivos móveis.\n",
    "\n",
    "### 1.2.1. Entregáveis\n",
    "\n",
    "Modelo em produção no qual seu acesso será feito via API, ou seja, os clientes enviarão suas transações via API para que o seu modelo as classifique como fraudulentas ou legítimas.\n",
    "\n",
    "Além disso, você precisará entregar um relatório reportando a performance e os resultados do seu modelo em relação ao lucro e prejuízo que a empresa terá ao usar o modelo que você produziu. No seu relatório deve conter as respostas para as seguintes perguntas:\n",
    "\n",
    "1. Qual a Precisão e Acurácia do modelo?\n",
    "2. Qual a Confiabilidade do modelo em classificar as transações como legítimas ou fraudulentas?\n",
    "3. Qual o Faturamento Esperado pela Empresa se classificarmos 100% das transações com o modelo?\n",
    "4. Qual o Prejuízo Esperado pela Empresa em caso de falha do modelo?\n",
    "5. Qual o Lucro Esperado pela Blocker Fraud Company ao utilizar o modelo?\n"
   ]
  },
  {
   "cell_type": "markdown",
   "id": "ef472ae8",
   "metadata": {},
   "source": [
    "# 2. Imports"
   ]
  },
  {
   "cell_type": "code",
   "execution_count": 13,
   "id": "be62b7af",
   "metadata": {
    "ExecuteTime": {
     "end_time": "2022-05-17T14:18:27.941248Z",
     "start_time": "2022-05-17T14:18:27.934610Z"
    }
   },
   "outputs": [],
   "source": [
    "import numpy as np\n",
    "import pandas as pd\n",
    "import matplotlib.pyplot as plt\n",
    "import joblib\n",
    "\n",
    "#display\n",
    "pd.set_option('display.float_format', lambda x: '%.5f' % x)\n",
    "\n",
    "#ignore warnings\n",
    "import warnings\n",
    "warnings.filterwarnings(\"ignore\")\n",
    "\n",
    "from sklearn import model_selection\n",
    "from sklearn import ensemble\n",
    "from sklearn import tree\n",
    "from sklearn import linear_model\n",
    "from sklearn import pipeline\n",
    "from sklearn import preprocessing\n",
    "\n",
    "from feature_engine import wrappers \n",
    "from feature_engine import selection\n",
    "from feature_engine import imputation\n",
    "from feature_engine import encoding\n",
    "from feature_engine import discretisation\n",
    "\n",
    "from sklearn.metrics import accuracy_score, precision_score, recall_score, f1_score, roc_auc_score,\\\n",
    "confusion_matrix, matthews_corrcoef, make_scorer, roc_curve, precision_recall_curve, classification_report"
   ]
  },
  {
   "cell_type": "markdown",
   "id": "f60674db",
   "metadata": {},
   "source": [
    "## 2.1. Utils functions"
   ]
  },
  {
   "cell_type": "code",
   "execution_count": 2,
   "id": "92a649e3",
   "metadata": {
    "ExecuteTime": {
     "end_time": "2022-05-17T14:09:46.381625Z",
     "start_time": "2022-05-17T14:09:46.360157Z"
    }
   },
   "outputs": [],
   "source": [
    "def performance(model, x_train, y_train):\n",
    "    \n",
    "    scoring = {'accuracy': 'accuracy',\n",
    "               'precision': make_scorer(precision_score),\n",
    "               'recall': make_scorer(recall_score),\n",
    "               'f1_score': make_scorer(f1_score),\n",
    "               'roc_auc_score': make_scorer(roc_auc_score),\n",
    "               'mcc': make_scorer(matthews_corrcoef)}\n",
    "\n",
    "    scores = model_selection.cross_validate(model, x_train, y_train, cv=5, scoring=scoring)\n",
    "\n",
    "    performance = pd.DataFrame.from_dict(scores).drop(['fit_time', 'score_time'], axis=1)\n",
    "    performance = pd.DataFrame(performance.mean()).T\n",
    "    return performance\n",
    "\n",
    "def precision_recall_curve_graph(model, x_train, y_train):\n",
    "    probs = model.predict_proba(x_train)\n",
    "    positive_probs = probs[:, 1]\n",
    "    \n",
    "    precision, recall, _ = precision_recall_curve(y_train, positive_probs)\n",
    "    no_skill = len(y_train[y_train==1]) / len(y_train)\n",
    "    plt.plot([0, 1], [no_skill, no_skill], linestyle='--', label='No Skill')\n",
    "    plt.plot(recall, precision, marker='.', label='Model')\n",
    "\n",
    "    plt.xlabel('Recall')\n",
    "    plt.ylabel('Precision')\n",
    "\n",
    "    plt.legend()\n",
    "\n",
    "    plt.show()\n",
    "    \n",
    "def roc_curve_graph(model, x_train, y_train):\n",
    "    ns_probs = [0 for _ in range(len(y_train))]\n",
    "\n",
    "    probs = model.predict_proba(x_train)\n",
    "    positive_probs = probs[:, 1]\n",
    "    \n",
    "    \n",
    "    ns_auc = roc_auc_score(y_train, ns_probs)\n",
    "    roc_auc = roc_auc_score(y_train, positive_probs)\n",
    "\n",
    "    print('No Skill: ROC AUC=%.3f' % (ns_auc))\n",
    "    print('Model: ROC AUC=%.3f' % (roc_auc))\n",
    "\n",
    "    ns_fpr, ns_tpr, _ = roc_curve(y_train, ns_probs)\n",
    "    model_fpr, model_tpr, _ = roc_curve(y_train, positive_probs)\n",
    "\n",
    "    plt.plot(ns_fpr, ns_tpr, linestyle='--', label='No Skill')\n",
    "    plt.plot(model_fpr, model_tpr, marker='.', label='Model')\n",
    "\n",
    "    plt.xlabel('False Positive Rate')\n",
    "    plt.ylabel('True Positive Rate')\n",
    "\n",
    "    plt.legend()\n",
    "\n",
    "    plt.show()\n",
    "    \n",
    "def create_classification_report(model, x_train, y_train):\n",
    "    y_pred = model.predict(x_train)\n",
    "    return print(classification_report(y_train, y_pred))"
   ]
  },
  {
   "cell_type": "markdown",
   "id": "04cb3a11",
   "metadata": {},
   "source": [
    "# 3. Data"
   ]
  },
  {
   "cell_type": "markdown",
   "id": "f49dc166",
   "metadata": {},
   "source": [
    "## 3.1. Load dataset"
   ]
  },
  {
   "cell_type": "code",
   "execution_count": 3,
   "id": "5128588c",
   "metadata": {
    "ExecuteTime": {
     "end_time": "2022-05-17T14:09:53.156007Z",
     "start_time": "2022-05-17T14:09:47.761590Z"
    }
   },
   "outputs": [],
   "source": [
    "df = pd.read_parquet('../data/raw/df_applied_features.parquet.gzip') "
   ]
  },
  {
   "cell_type": "code",
   "execution_count": 4,
   "id": "144e4f27",
   "metadata": {
    "ExecuteTime": {
     "end_time": "2022-05-17T14:09:53.238536Z",
     "start_time": "2022-05-17T14:09:53.175647Z"
    }
   },
   "outputs": [],
   "source": [
    "df_test = pd.read_parquet('../data/raw/df_applied_features_test.parquet.gzip') "
   ]
  },
  {
   "cell_type": "markdown",
   "id": "02fe42a3",
   "metadata": {},
   "source": [
    "# 4. Model"
   ]
  },
  {
   "cell_type": "markdown",
   "id": "f9f0d271",
   "metadata": {},
   "source": [
    "## 4.1. Define feature and target"
   ]
  },
  {
   "cell_type": "code",
   "execution_count": 5,
   "id": "9510cfcd",
   "metadata": {
    "ExecuteTime": {
     "end_time": "2022-05-17T14:09:53.654438Z",
     "start_time": "2022-05-17T14:09:53.265677Z"
    }
   },
   "outputs": [],
   "source": [
    "features = df.drop('isFraud', axis=1).columns.tolist()\n",
    "target = 'isFraud'"
   ]
  },
  {
   "cell_type": "markdown",
   "id": "4441a69d",
   "metadata": {},
   "source": [
    "## 4.2. Split data into train and valid"
   ]
  },
  {
   "cell_type": "code",
   "execution_count": 6,
   "id": "41e62146",
   "metadata": {
    "ExecuteTime": {
     "end_time": "2022-05-17T14:09:58.457903Z",
     "start_time": "2022-05-17T14:09:53.680765Z"
    }
   },
   "outputs": [],
   "source": [
    "X = df[features]\n",
    "y = df[target].values\n",
    "\n",
    "X_train, X_valid, y_train, y_valid = model_selection.train_test_split(X,\n",
    "                                                                      y,\n",
    "                                                                      random_state=42,\n",
    "                                                                      test_size=0.3,\n",
    "                                                                      stratify=y)"
   ]
  },
  {
   "cell_type": "code",
   "execution_count": 7,
   "id": "972a35e0",
   "metadata": {
    "ExecuteTime": {
     "end_time": "2022-05-17T14:09:59.328810Z",
     "start_time": "2022-05-17T14:09:58.513209Z"
    }
   },
   "outputs": [],
   "source": [
    "cols_to_include = ['isFlaggedFraud', 'is_high_amount', 'is_M_customer', \n",
    "                   'is_new_balance_orig_zero', 'is_orig_old_balance_greater_new',\n",
    "                   'is_new_balance_dest_zero', 'is_dest_old_balance_greater_new']\n",
    "\n",
    "columns_drop = ['nameOrig', 'nameDest']\n",
    "\n",
    "for col in cols_to_include:\n",
    "    X_train[col] = X_train[col].astype('category')\n",
    "    X_valid[col] = X_valid[col].astype('category')\n",
    "    \n",
    "X_train.drop(columns_drop, axis=1, inplace=True)\n",
    "X_valid.drop(columns_drop, axis=1, inplace=True)"
   ]
  },
  {
   "cell_type": "code",
   "execution_count": 8,
   "id": "74bcc575",
   "metadata": {
    "ExecuteTime": {
     "end_time": "2022-05-17T14:09:59.401047Z",
     "start_time": "2022-05-17T14:09:59.385597Z"
    }
   },
   "outputs": [],
   "source": [
    "X_test = df_test[features].copy()\n",
    "y_test = df_test[target]\n",
    "\n",
    "\n",
    "for col in cols_to_include:\n",
    "    X_test[col] = X_test[col].astype('category')\n",
    "    \n",
    "X_test.drop(columns_drop, axis=1, inplace=True)"
   ]
  },
  {
   "cell_type": "markdown",
   "id": "c39576c5",
   "metadata": {},
   "source": [
    "## 4.4. Load pipeline"
   ]
  },
  {
   "cell_type": "code",
   "execution_count": 9,
   "id": "70697ca5",
   "metadata": {
    "ExecuteTime": {
     "end_time": "2022-05-17T14:09:59.551059Z",
     "start_time": "2022-05-17T14:09:59.467444Z"
    }
   },
   "outputs": [],
   "source": [
    "pipe = joblib.load('../models/model_cicle_1.pkl')"
   ]
  },
  {
   "cell_type": "markdown",
   "id": "a5c3a2fd",
   "metadata": {},
   "source": [
    "# 5. Feature selection"
   ]
  },
  {
   "cell_type": "markdown",
   "id": "f0df91dd",
   "metadata": {},
   "source": [
    "## 5.1. Feature selection by random forest importances"
   ]
  },
  {
   "cell_type": "code",
   "execution_count": 10,
   "id": "73db95dc",
   "metadata": {
    "ExecuteTime": {
     "end_time": "2022-05-17T14:09:59.637506Z",
     "start_time": "2022-05-17T14:09:59.621786Z"
    }
   },
   "outputs": [],
   "source": [
    "important_features = pd.Series(data=pipe.named_steps['model'].feature_importances_,index=X_train.columns)\n",
    "important_features.sort_values(ascending=False,inplace=True)"
   ]
  },
  {
   "cell_type": "code",
   "execution_count": 11,
   "id": "f922bcb4",
   "metadata": {
    "ExecuteTime": {
     "end_time": "2022-05-17T14:09:59.883274Z",
     "start_time": "2022-05-17T14:09:59.708514Z"
    }
   },
   "outputs": [
    {
     "data": {
      "image/png": "[encoded data removed]",
      "text/plain": [
       "<Figure size 576x432 with 1 Axes>"
      ]
     },
     "metadata": {
      "needs_background": "light"
     },
     "output_type": "display_data"
    }
   ],
   "source": [
    "plt.subplots(figsize=(8,6))\n",
    "important_features.plot(kind='bar')\n",
    "plt.tight_layout()"
   ]
  },
  {
   "cell_type": "code",
   "execution_count": 15,
   "id": "e52fdcc4",
   "metadata": {
    "ExecuteTime": {
     "end_time": "2022-05-17T14:22:08.126534Z",
     "start_time": "2022-05-17T14:18:47.481093Z"
    }
   },
   "outputs": [
    {
     "data": {
      "text/plain": [
       "Pipeline(steps=[('enconding_rare', RareLabelEncoder(variables=['type'])),\n",
       "                ('enconding_cat',\n",
       "                 CountFrequencyEncoder(variables=['is_new_balance_dest_zero',\n",
       "                                                  'type'])),\n",
       "                ('enconding_num',\n",
       "                 SklearnTransformerWrapper(transformer=StandardScaler(),\n",
       "                                           variables=['diff_orig', 'diff_dest',\n",
       "                                                      'newbalanceDest',\n",
       "                                                      'oldbalanceOrg', 'amount',\n",
       "                                                      'step',\n",
       "                                                      'oldbalanceDest'])),\n",
       "                ('model', RandomForestClassifier(n_jobs=-1, random_state=42))])"
      ]
     },
     "execution_count": 15,
     "metadata": {},
     "output_type": "execute_result"
    }
   ],
   "source": [
    "selected_features = ['diff_orig', 'diff_dest', 'newbalanceDest', 'oldbalanceOrg',\n",
    "                    'amount', 'is_new_balance_dest_zero', 'step', 'type', 'oldbalanceDest']\n",
    "\n",
    "cat_features = ['is_new_balance_dest_zero',\n",
    "                'type']\n",
    "num_features = ['diff_orig', 'diff_dest', 'newbalanceDest', 'oldbalanceOrg',\n",
    "                    'amount', 'step', 'oldbalanceDest']\n",
    "\n",
    "rf_clf = ensemble.RandomForestClassifier(n_jobs=-1,\n",
    "                                         random_state=42)\n",
    "cat_enc = encoding.CountFrequencyEncoder(variables=cat_features)\n",
    "rare_enc = encoding.RareLabelEncoder(variables=['type'])\n",
    "numerical_enc = wrappers.SklearnTransformerWrapper(transformer = preprocessing.StandardScaler(),\n",
    "                                                   variables = num_features)\n",
    "\n",
    "pipe_rf_ft_importance = pipeline.Pipeline(steps = [(\"enconding_rare\", rare_enc),\n",
    "                                  (\"enconding_cat\", cat_enc),\n",
    "                                  (\"enconding_num\", numerical_enc),\n",
    "                                  (\"model\", rf_clf)])\n",
    "\n",
    "pipe_rf_ft_importance.fit(X_train[selected_features], y_train)"
   ]
  },
  {
   "cell_type": "code",
   "execution_count": 16,
   "id": "2b3e1b85",
   "metadata": {
    "ExecuteTime": {
     "end_time": "2022-05-17T14:36:00.859242Z",
     "start_time": "2022-05-17T14:22:08.214426Z"
    }
   },
   "outputs": [
    {
     "data": {
      "text/html": [
       "<div>\n",
       "<style scoped>\n",
       "    .dataframe tbody tr th:only-of-type {\n",
       "        vertical-align: middle;\n",
       "    }\n",
       "\n",
       "    .dataframe tbody tr th {\n",
       "        vertical-align: top;\n",
       "    }\n",
       "\n",
       "    .dataframe thead th {\n",
       "        text-align: right;\n",
       "    }\n",
       "</style>\n",
       "<table border=\"1\" class=\"dataframe\">\n",
       "  <thead>\n",
       "    <tr style=\"text-align: right;\">\n",
       "      <th></th>\n",
       "      <th>test_accuracy</th>\n",
       "      <th>test_precision</th>\n",
       "      <th>test_recall</th>\n",
       "      <th>test_f1_score</th>\n",
       "      <th>test_roc_auc_score</th>\n",
       "      <th>test_mcc</th>\n",
       "    </tr>\n",
       "  </thead>\n",
       "  <tbody>\n",
       "    <tr>\n",
       "      <th>0</th>\n",
       "      <td>0.99968</td>\n",
       "      <td>0.98262</td>\n",
       "      <td>0.76314</td>\n",
       "      <td>0.85902</td>\n",
       "      <td>0.88156</td>\n",
       "      <td>0.86578</td>\n",
       "    </tr>\n",
       "  </tbody>\n",
       "</table>\n",
       "</div>"
      ],
      "text/plain": [
       "   test_accuracy  test_precision  test_recall  test_f1_score  \\\n",
       "0        0.99968         0.98262      0.76314        0.85902   \n",
       "\n",
       "   test_roc_auc_score  test_mcc  \n",
       "0             0.88156   0.86578  "
      ]
     },
     "execution_count": 16,
     "metadata": {},
     "output_type": "execute_result"
    }
   ],
   "source": [
    "performance(pipe_rf_ft_importance, X_train[selected_features], y_train)"
   ]
  },
  {
   "cell_type": "code",
   "execution_count": 17,
   "id": "7d284319",
   "metadata": {
    "ExecuteTime": {
     "end_time": "2022-05-17T14:36:05.338213Z",
     "start_time": "2022-05-17T14:36:00.941855Z"
    }
   },
   "outputs": [
    {
     "data": {
      "text/html": [
       "<div>\n",
       "<style scoped>\n",
       "    .dataframe tbody tr th:only-of-type {\n",
       "        vertical-align: middle;\n",
       "    }\n",
       "\n",
       "    .dataframe tbody tr th {\n",
       "        vertical-align: top;\n",
       "    }\n",
       "\n",
       "    .dataframe thead th {\n",
       "        text-align: right;\n",
       "    }\n",
       "</style>\n",
       "<table border=\"1\" class=\"dataframe\">\n",
       "  <thead>\n",
       "    <tr style=\"text-align: right;\">\n",
       "      <th></th>\n",
       "      <th>test_accuracy</th>\n",
       "      <th>test_precision</th>\n",
       "      <th>test_recall</th>\n",
       "      <th>test_f1_score</th>\n",
       "      <th>test_roc_auc_score</th>\n",
       "      <th>test_mcc</th>\n",
       "    </tr>\n",
       "  </thead>\n",
       "  <tbody>\n",
       "    <tr>\n",
       "      <th>0</th>\n",
       "      <td>0.99956</td>\n",
       "      <td>0.95545</td>\n",
       "      <td>0.71503</td>\n",
       "      <td>0.81594</td>\n",
       "      <td>0.85749</td>\n",
       "      <td>0.82532</td>\n",
       "    </tr>\n",
       "  </tbody>\n",
       "</table>\n",
       "</div>"
      ],
      "text/plain": [
       "   test_accuracy  test_precision  test_recall  test_f1_score  \\\n",
       "0        0.99956         0.95545      0.71503        0.81594   \n",
       "\n",
       "   test_roc_auc_score  test_mcc  \n",
       "0             0.85749   0.82532  "
      ]
     },
     "execution_count": 17,
     "metadata": {},
     "output_type": "execute_result"
    }
   ],
   "source": [
    "performance(pipe_rf_ft_importance, X_test[selected_features], y_test)"
   ]
  },
  {
   "cell_type": "markdown",
   "id": "6287a0b9",
   "metadata": {},
   "source": [
    "# 6. Conclusion"
   ]
  },
  {
   "cell_type": "markdown",
   "id": "f76e0525",
   "metadata": {},
   "source": [
    "Os testes acima de selecionar as variáveis mais úteis para o modelo não tiveram êxito em conseguir um recall maior do que utilizando todas as variáveis (notebook 7 passo 5.3), portanto iremos prosseguir utilizando todas as variáveis na próximas etapas, não sendo necessário atuação, nesse primeiro ciclo."
   ]
  }
 ],
 "metadata": {
  "kernelspec": {
   "display_name": "Python 3 (ipykernel)",
   "language": "python",
   "name": "python3"
  },
  "language_info": {
   "codemirror_mode": {
    "name": "ipython",
    "version": 3
   },
   "file_extension": ".py",
   "mimetype": "text/x-python",
   "name": "python",
   "nbconvert_exporter": "python",
   "pygments_lexer": "ipython3",
   "version": "3.9.7"
  },
  "notify_time": "5",
  "toc": {
   "base_numbering": 1,
   "nav_menu": {},
   "number_sections": true,
   "sideBar": true,
   "skip_h1_title": false,
   "title_cell": "Table of Contents",
   "title_sidebar": "Contents",
   "toc_cell": false,
   "toc_position": {},
   "toc_section_display": true,
   "toc_window_display": false
  },
  "varInspector": {
   "cols": {
    "lenName": 16,
    "lenType": 16,
    "lenVar": 40
   },
   "kernels_config": {
    "python": {
     "delete_cmd_postfix": "",
     "delete_cmd_prefix": "del ",
     "library": "var_list.py",
     "varRefreshCmd": "print(var_dic_list())"
    },
    "r": {
     "delete_cmd_postfix": ") ",
     "delete_cmd_prefix": "rm(",
     "library": "var_list.r",
     "varRefreshCmd": "cat(var_dic_list()) "
    }
   },
   "types_to_exclude": [
    "module",
    "function",
    "builtin_function_or_method",
    "instance",
    "_Feature"
   ],
   "window_display": false
  }
 },
 "nbformat": 4,
 "nbformat_minor": 5
}
