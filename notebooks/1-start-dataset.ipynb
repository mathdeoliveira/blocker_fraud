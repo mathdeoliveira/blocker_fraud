{
 "cells": [
  {
   "cell_type": "markdown",
   "id": "8fe8321b",
   "metadata": {},
   "source": [
    "# 1. Blocker Fraud Company\n",
    " <font size=\"2\"> Dados e problema negócio hipotéticos</font>\n",
    " \n",
    "A Blocker Fraud Company é uma empresa especializada na detecção de fraudes em transações financeiras feitas atravś de dispositivos móveis.\n",
    "\n",
    "O modelo de negócio da empresa é do tipo Serviço com a monetização feita por performance do serviço prestado, ou seja, o usuário paga uma taxa fixa sobre o sucesso da detecção de fraude das transações.\n",
    "\n",
    "## 1.1. Estratégia de expansão\n",
    "\n",
    "A Blocker Fraud Company está em fase de expansão no Brasil e para adquirir clientes mais rapidamente, ela adotou uma estratégia muito agressiva. A estratégia funciona da seguinte forma:\n",
    "\n",
    "1. A empresa vai receber 25% do valor de cada transação detectada verdadeiramente como fraude.\n",
    "2. A empresa vai receber 5% do valor de cada transação detectada como fraude, porém a transação é verdadeiramente legítima.\n",
    "3. A empresa vai devolver 100% do valor para o cliente, a cada transação detectada como legítima, porém a transação é verdadeiramente uma fraude.\n",
    "\n",
    "Com essa estratégia agressiva a empresa assume os riscos em falhar na detecção de fraude e é remunerada na detecção assertiva das fraudes.\n",
    "\n",
    "## 1.2. Objetivo\n",
    "\n",
    "Criar um modelo de alta precisão e acurácia na detecção de fraudes de transações feitas através de dispositivos móveis.\n",
    "\n",
    "### 1.2.1. Entregáveis\n",
    "\n",
    "Modelo em produção no qual seu acesso será feito via API, ou seja, os clientes enviarão suas transações via API para que o seu modelo as classifique como fraudulentas ou legítimas.\n",
    "\n",
    "Além disso, você precisará entregar um relatório reportando a performance e os resultados do seu modelo em relação ao lucro e prejuízo que a empresa terá ao usar o modelo que você produziu. No seu relatório deve conter as respostas para as seguintes perguntas:\n",
    "\n",
    "1. Qual a Precisão e Acurácia do modelo?\n",
    "2. Qual a Confiabilidade do modelo em classificar as transações como legítimas ou fraudulentas?\n",
    "3. Qual o Faturamento Esperado pela Empresa se classificarmos 100% das transações com o modelo?\n",
    "4. Qual o Prejuízo Esperado pela Empresa em caso de falha do modelo?\n",
    "5. Qual o Lucro Esperado pela Blocker Fraud Company ao utilizar o modelo?\n"
   ]
  },
  {
   "cell_type": "markdown",
   "id": "ef472ae8",
   "metadata": {},
   "source": [
    "# 2. Imports"
   ]
  },
  {
   "cell_type": "code",
   "execution_count": 4,
   "id": "be62b7af",
   "metadata": {
    "ExecuteTime": {
     "end_time": "2022-04-25T23:38:59.930808Z",
     "start_time": "2022-04-25T23:38:59.741209Z"
    }
   },
   "outputs": [],
   "source": [
    "import numpy as np\n",
    "import pandas as pd"
   ]
  },
  {
   "cell_type": "markdown",
   "id": "f60674db",
   "metadata": {
    "heading_collapsed": true
   },
   "source": [
    "## 2.1. Utils functions"
   ]
  },
  {
   "cell_type": "markdown",
   "id": "04cb3a11",
   "metadata": {},
   "source": [
    "# 3. Data"
   ]
  },
  {
   "cell_type": "markdown",
   "id": "f49dc166",
   "metadata": {},
   "source": [
    "## 3.1. Load dataset"
   ]
  },
  {
   "cell_type": "code",
   "execution_count": 5,
   "id": "5128588c",
   "metadata": {
    "ExecuteTime": {
     "end_time": "2022-04-25T23:39:08.378750Z",
     "start_time": "2022-04-25T23:39:00.875169Z"
    }
   },
   "outputs": [],
   "source": [
    "df = pd.read_csv('data.csv')"
   ]
  },
  {
   "cell_type": "code",
   "execution_count": 3,
   "id": "08d89079",
   "metadata": {
    "ExecuteTime": {
     "end_time": "2022-03-13T11:49:38.453264Z",
     "start_time": "2022-03-13T11:49:38.438827Z"
    }
   },
   "outputs": [
    {
     "data": {
      "text/html": [
       "<div>\n",
       "<style scoped>\n",
       "    .dataframe tbody tr th:only-of-type {\n",
       "        vertical-align: middle;\n",
       "    }\n",
       "\n",
       "    .dataframe tbody tr th {\n",
       "        vertical-align: top;\n",
       "    }\n",
       "\n",
       "    .dataframe thead th {\n",
       "        text-align: right;\n",
       "    }\n",
       "</style>\n",
       "<table border=\"1\" class=\"dataframe\">\n",
       "  <thead>\n",
       "    <tr style=\"text-align: right;\">\n",
       "      <th></th>\n",
       "      <th>step</th>\n",
       "      <th>type</th>\n",
       "      <th>amount</th>\n",
       "      <th>nameOrig</th>\n",
       "      <th>oldbalanceOrg</th>\n",
       "      <th>newbalanceOrig</th>\n",
       "      <th>nameDest</th>\n",
       "      <th>oldbalanceDest</th>\n",
       "      <th>newbalanceDest</th>\n",
       "      <th>isFraud</th>\n",
       "      <th>isFlaggedFraud</th>\n",
       "    </tr>\n",
       "  </thead>\n",
       "  <tbody>\n",
       "    <tr>\n",
       "      <th>0</th>\n",
       "      <td>1</td>\n",
       "      <td>PAYMENT</td>\n",
       "      <td>9839.64</td>\n",
       "      <td>C1231006815</td>\n",
       "      <td>170136.0</td>\n",
       "      <td>160296.36</td>\n",
       "      <td>M1979787155</td>\n",
       "      <td>0.0</td>\n",
       "      <td>0.0</td>\n",
       "      <td>0</td>\n",
       "      <td>0</td>\n",
       "    </tr>\n",
       "    <tr>\n",
       "      <th>1</th>\n",
       "      <td>1</td>\n",
       "      <td>PAYMENT</td>\n",
       "      <td>1864.28</td>\n",
       "      <td>C1666544295</td>\n",
       "      <td>21249.0</td>\n",
       "      <td>19384.72</td>\n",
       "      <td>M2044282225</td>\n",
       "      <td>0.0</td>\n",
       "      <td>0.0</td>\n",
       "      <td>0</td>\n",
       "      <td>0</td>\n",
       "    </tr>\n",
       "    <tr>\n",
       "      <th>2</th>\n",
       "      <td>1</td>\n",
       "      <td>TRANSFER</td>\n",
       "      <td>181.00</td>\n",
       "      <td>C1305486145</td>\n",
       "      <td>181.0</td>\n",
       "      <td>0.00</td>\n",
       "      <td>C553264065</td>\n",
       "      <td>0.0</td>\n",
       "      <td>0.0</td>\n",
       "      <td>1</td>\n",
       "      <td>0</td>\n",
       "    </tr>\n",
       "    <tr>\n",
       "      <th>3</th>\n",
       "      <td>1</td>\n",
       "      <td>CASH_OUT</td>\n",
       "      <td>181.00</td>\n",
       "      <td>C840083671</td>\n",
       "      <td>181.0</td>\n",
       "      <td>0.00</td>\n",
       "      <td>C38997010</td>\n",
       "      <td>21182.0</td>\n",
       "      <td>0.0</td>\n",
       "      <td>1</td>\n",
       "      <td>0</td>\n",
       "    </tr>\n",
       "    <tr>\n",
       "      <th>4</th>\n",
       "      <td>1</td>\n",
       "      <td>PAYMENT</td>\n",
       "      <td>11668.14</td>\n",
       "      <td>C2048537720</td>\n",
       "      <td>41554.0</td>\n",
       "      <td>29885.86</td>\n",
       "      <td>M1230701703</td>\n",
       "      <td>0.0</td>\n",
       "      <td>0.0</td>\n",
       "      <td>0</td>\n",
       "      <td>0</td>\n",
       "    </tr>\n",
       "  </tbody>\n",
       "</table>\n",
       "</div>"
      ],
      "text/plain": [
       "   step      type    amount     nameOrig  oldbalanceOrg  newbalanceOrig  \\\n",
       "0     1   PAYMENT   9839.64  C1231006815       170136.0       160296.36   \n",
       "1     1   PAYMENT   1864.28  C1666544295        21249.0        19384.72   \n",
       "2     1  TRANSFER    181.00  C1305486145          181.0            0.00   \n",
       "3     1  CASH_OUT    181.00   C840083671          181.0            0.00   \n",
       "4     1   PAYMENT  11668.14  C2048537720        41554.0        29885.86   \n",
       "\n",
       "      nameDest  oldbalanceDest  newbalanceDest  isFraud  isFlaggedFraud  \n",
       "0  M1979787155             0.0             0.0        0               0  \n",
       "1  M2044282225             0.0             0.0        0               0  \n",
       "2   C553264065             0.0             0.0        1               0  \n",
       "3    C38997010         21182.0             0.0        1               0  \n",
       "4  M1230701703             0.0             0.0        0               0  "
      ]
     },
     "execution_count": 3,
     "metadata": {},
     "output_type": "execute_result"
    }
   ],
   "source": [
    "df.head()"
   ]
  },
  {
   "cell_type": "markdown",
   "id": "00ada211",
   "metadata": {},
   "source": [
    "### 3.1.1. Dataset description"
   ]
  },
  {
   "cell_type": "code",
   "execution_count": 5,
   "id": "64475f10",
   "metadata": {
    "ExecuteTime": {
     "end_time": "2022-03-12T18:18:29.620743Z",
     "start_time": "2022-03-12T18:18:29.612528Z"
    }
   },
   "outputs": [
    {
     "data": {
      "text/plain": [
       "(6362620, 11)"
      ]
     },
     "execution_count": 5,
     "metadata": {},
     "output_type": "execute_result"
    }
   ],
   "source": [
    "df.shape"
   ]
  },
  {
   "cell_type": "markdown",
   "id": "bdf3e573",
   "metadata": {},
   "source": [
    "Vemos que o nosso dataset é composto por 6.362.620 registros e 11 colunas."
   ]
  },
  {
   "cell_type": "code",
   "execution_count": 4,
   "id": "99d2e61e",
   "metadata": {
    "ExecuteTime": {
     "end_time": "2022-03-13T11:49:47.915027Z",
     "start_time": "2022-03-13T11:49:46.325343Z"
    }
   },
   "outputs": [
    {
     "data": {
      "text/plain": [
       "step              0\n",
       "type              0\n",
       "amount            0\n",
       "nameOrig          0\n",
       "oldbalanceOrg     0\n",
       "newbalanceOrig    0\n",
       "nameDest          0\n",
       "oldbalanceDest    0\n",
       "newbalanceDest    0\n",
       "isFraud           0\n",
       "isFlaggedFraud    0\n",
       "dtype: int64"
      ]
     },
     "execution_count": 4,
     "metadata": {},
     "output_type": "execute_result"
    }
   ],
   "source": [
    "df.isna().sum()"
   ]
  },
  {
   "cell_type": "code",
   "execution_count": 15,
   "id": "4e957796",
   "metadata": {
    "ExecuteTime": {
     "end_time": "2022-03-12T18:25:46.184881Z",
     "start_time": "2022-03-12T18:25:44.988286Z"
    }
   },
   "outputs": [
    {
     "data": {
      "text/html": [
       "<div>\n",
       "<style scoped>\n",
       "    .dataframe tbody tr th:only-of-type {\n",
       "        vertical-align: middle;\n",
       "    }\n",
       "\n",
       "    .dataframe tbody tr th {\n",
       "        vertical-align: top;\n",
       "    }\n",
       "\n",
       "    .dataframe thead th {\n",
       "        text-align: right;\n",
       "    }\n",
       "</style>\n",
       "<table border=\"1\" class=\"dataframe\">\n",
       "  <thead>\n",
       "    <tr style=\"text-align: right;\">\n",
       "      <th></th>\n",
       "      <th>step</th>\n",
       "      <th>amount</th>\n",
       "      <th>oldbalanceOrg</th>\n",
       "      <th>newbalanceOrig</th>\n",
       "      <th>oldbalanceDest</th>\n",
       "      <th>newbalanceDest</th>\n",
       "      <th>isFraud</th>\n",
       "      <th>isFlaggedFraud</th>\n",
       "    </tr>\n",
       "  </thead>\n",
       "  <tbody>\n",
       "    <tr>\n",
       "      <th>count</th>\n",
       "      <td>6362620.000</td>\n",
       "      <td>6362620.000</td>\n",
       "      <td>6362620.000</td>\n",
       "      <td>6362620.000</td>\n",
       "      <td>6362620.000</td>\n",
       "      <td>6362620.000</td>\n",
       "      <td>6362620.000</td>\n",
       "      <td>6362620.000</td>\n",
       "    </tr>\n",
       "    <tr>\n",
       "      <th>mean</th>\n",
       "      <td>243.397</td>\n",
       "      <td>179861.904</td>\n",
       "      <td>833883.104</td>\n",
       "      <td>855113.669</td>\n",
       "      <td>1100701.667</td>\n",
       "      <td>1224996.398</td>\n",
       "      <td>0.001</td>\n",
       "      <td>0.000</td>\n",
       "    </tr>\n",
       "    <tr>\n",
       "      <th>std</th>\n",
       "      <td>142.332</td>\n",
       "      <td>603858.231</td>\n",
       "      <td>2888242.673</td>\n",
       "      <td>2924048.503</td>\n",
       "      <td>3399180.113</td>\n",
       "      <td>3674128.942</td>\n",
       "      <td>0.036</td>\n",
       "      <td>0.002</td>\n",
       "    </tr>\n",
       "    <tr>\n",
       "      <th>min</th>\n",
       "      <td>1.000</td>\n",
       "      <td>0.000</td>\n",
       "      <td>0.000</td>\n",
       "      <td>0.000</td>\n",
       "      <td>0.000</td>\n",
       "      <td>0.000</td>\n",
       "      <td>0.000</td>\n",
       "      <td>0.000</td>\n",
       "    </tr>\n",
       "    <tr>\n",
       "      <th>25%</th>\n",
       "      <td>156.000</td>\n",
       "      <td>13389.570</td>\n",
       "      <td>0.000</td>\n",
       "      <td>0.000</td>\n",
       "      <td>0.000</td>\n",
       "      <td>0.000</td>\n",
       "      <td>0.000</td>\n",
       "      <td>0.000</td>\n",
       "    </tr>\n",
       "    <tr>\n",
       "      <th>50%</th>\n",
       "      <td>239.000</td>\n",
       "      <td>74871.940</td>\n",
       "      <td>14208.000</td>\n",
       "      <td>0.000</td>\n",
       "      <td>132705.665</td>\n",
       "      <td>214661.440</td>\n",
       "      <td>0.000</td>\n",
       "      <td>0.000</td>\n",
       "    </tr>\n",
       "    <tr>\n",
       "      <th>75%</th>\n",
       "      <td>335.000</td>\n",
       "      <td>208721.478</td>\n",
       "      <td>107315.175</td>\n",
       "      <td>144258.410</td>\n",
       "      <td>943036.708</td>\n",
       "      <td>1111909.250</td>\n",
       "      <td>0.000</td>\n",
       "      <td>0.000</td>\n",
       "    </tr>\n",
       "    <tr>\n",
       "      <th>max</th>\n",
       "      <td>743.000</td>\n",
       "      <td>92445516.640</td>\n",
       "      <td>59585040.370</td>\n",
       "      <td>49585040.370</td>\n",
       "      <td>356015889.350</td>\n",
       "      <td>356179278.920</td>\n",
       "      <td>1.000</td>\n",
       "      <td>1.000</td>\n",
       "    </tr>\n",
       "  </tbody>\n",
       "</table>\n",
       "</div>"
      ],
      "text/plain": [
       "              step        amount oldbalanceOrg newbalanceOrig oldbalanceDest  \\\n",
       "count  6362620.000   6362620.000   6362620.000    6362620.000    6362620.000   \n",
       "mean       243.397    179861.904    833883.104     855113.669    1100701.667   \n",
       "std        142.332    603858.231   2888242.673    2924048.503    3399180.113   \n",
       "min          1.000         0.000         0.000          0.000          0.000   \n",
       "25%        156.000     13389.570         0.000          0.000          0.000   \n",
       "50%        239.000     74871.940     14208.000          0.000     132705.665   \n",
       "75%        335.000    208721.478    107315.175     144258.410     943036.708   \n",
       "max        743.000  92445516.640  59585040.370   49585040.370  356015889.350   \n",
       "\n",
       "      newbalanceDest      isFraud isFlaggedFraud  \n",
       "count    6362620.000  6362620.000    6362620.000  \n",
       "mean     1224996.398        0.001          0.000  \n",
       "std      3674128.942        0.036          0.002  \n",
       "min            0.000        0.000          0.000  \n",
       "25%            0.000        0.000          0.000  \n",
       "50%       214661.440        0.000          0.000  \n",
       "75%      1111909.250        0.000          0.000  \n",
       "max    356179278.920        1.000          1.000  "
      ]
     },
     "execution_count": 15,
     "metadata": {},
     "output_type": "execute_result"
    }
   ],
   "source": [
    "df.describe().applymap(lambda x: f\"{x:0.3f}\")"
   ]
  },
  {
   "cell_type": "code",
   "execution_count": 5,
   "id": "56b3f63c",
   "metadata": {
    "ExecuteTime": {
     "end_time": "2022-03-13T11:50:02.555964Z",
     "start_time": "2022-03-13T11:49:55.475887Z"
    }
   },
   "outputs": [
    {
     "data": {
      "text/html": [
       "<div>\n",
       "<style scoped>\n",
       "    .dataframe tbody tr th:only-of-type {\n",
       "        vertical-align: middle;\n",
       "    }\n",
       "\n",
       "    .dataframe tbody tr th {\n",
       "        vertical-align: top;\n",
       "    }\n",
       "\n",
       "    .dataframe thead th {\n",
       "        text-align: right;\n",
       "    }\n",
       "</style>\n",
       "<table border=\"1\" class=\"dataframe\">\n",
       "  <thead>\n",
       "    <tr style=\"text-align: right;\">\n",
       "      <th></th>\n",
       "      <th>type</th>\n",
       "      <th>nameOrig</th>\n",
       "      <th>nameDest</th>\n",
       "    </tr>\n",
       "  </thead>\n",
       "  <tbody>\n",
       "    <tr>\n",
       "      <th>count</th>\n",
       "      <td>6362620</td>\n",
       "      <td>6362620</td>\n",
       "      <td>6362620</td>\n",
       "    </tr>\n",
       "    <tr>\n",
       "      <th>unique</th>\n",
       "      <td>5</td>\n",
       "      <td>6353307</td>\n",
       "      <td>2722362</td>\n",
       "    </tr>\n",
       "    <tr>\n",
       "      <th>top</th>\n",
       "      <td>CASH_OUT</td>\n",
       "      <td>C1902386530</td>\n",
       "      <td>C1286084959</td>\n",
       "    </tr>\n",
       "    <tr>\n",
       "      <th>freq</th>\n",
       "      <td>2237500</td>\n",
       "      <td>3</td>\n",
       "      <td>113</td>\n",
       "    </tr>\n",
       "  </tbody>\n",
       "</table>\n",
       "</div>"
      ],
      "text/plain": [
       "            type     nameOrig     nameDest\n",
       "count    6362620      6362620      6362620\n",
       "unique         5      6353307      2722362\n",
       "top     CASH_OUT  C1902386530  C1286084959\n",
       "freq     2237500            3          113"
      ]
     },
     "execution_count": 5,
     "metadata": {},
     "output_type": "execute_result"
    }
   ],
   "source": [
    "df.describe(include='O')"
   ]
  },
  {
   "cell_type": "markdown",
   "id": "00593ffd",
   "metadata": {},
   "source": [
    "1. Variáveis númericas\n",
    "- **step**: representa o tempo no mundo real no qual o registro foi armazenado, cada 1 representa 1 hora.\n",
    "- **amount**: representa o valor da transação, podemos ver que o intervalo de valores inicia em 0 até aproximadamente 92 milhões, com uma média de aproximadamente 179 mil com a mediana se encontrando em 74 mil.\n",
    "- **oldbalanceOrg**: é o balanço da conta antes da transação, se encontra em um intervalo de valores entre 0 e aproximadamente 59 milhões, com uma mediana de aproximadamente 14 mil.\n",
    "- **newbalanceOrig**: o balanço após a transação, se encontra em um intervalo de valores entre 0 e aproximadamente 49 milhões, com uma mediana de 0.\n",
    "- **oldbalanceDest**: é o destinatário do saldo inicial antes da transação, os usuários que iniciam o nome com M, o valor é zerado, a variável encontra em um intervalo de valores entre 0 e aproximadamente 356 milhões, com uma mediana de aproximadamente 132 mil.\n",
    "- **newbalanceDest**: é o novo dsetinatário do saldo após a transação, os usuários que iniciam o nome com M, o valor é zerado, a variável encontra em um intervalo de valores entre 0 e aproximadamente 356 milhões, com uma mediana de aproximadamente 132 mil.\n",
    "- **isFraud**: essa transação foi rotulada como fraude, é uma variável booleana.\n",
    "- **isFlaggedFraud**: o sistema rotula uma possível fraude quando houver uma tentativa de transferir mais de 200 mil em uma única transação, é uma variável booleana.\n",
    "\n",
    "2. Variáveis categóricas\n",
    "- **type**: tipo da transação, temos 5 valores únicos sendo o tipo CASH_OUT o mais frequente, representando aproximadamente 26% de todo os registros.\n",
    "- **nameOrig**: cliente que iniciou a transação, vemos que temos clientes que fizeram mais de uma transação sendo o mais frequente efetuado 3 transações.\n",
    "- **nameDest**: cliente que é o destinatário da transação."
   ]
  },
  {
   "cell_type": "markdown",
   "id": "c6fe9b9a",
   "metadata": {},
   "source": [
    "**Análises dos valores**\n",
    "\n",
    "Não temos valores negativos nas transações, porém existe valores negativos podendo indicar:\n",
    "- possivelmente algum problema em ser nulos \n",
    "- verificar se essas transações são válidas\n",
    "\n",
    "Portanto, vimos que o dataset não possui nulos, fica a ver para os próximos passos lidar com esse tipo de dados zerados nas transações."
   ]
  },
  {
   "cell_type": "markdown",
   "id": "a5f6771a",
   "metadata": {
    "heading_collapsed": true
   },
   "source": [
    "### 3.1.2. Verificando os dados de fraude"
   ]
  },
  {
   "cell_type": "code",
   "execution_count": 19,
   "id": "7bc69c46",
   "metadata": {
    "ExecuteTime": {
     "end_time": "2022-03-12T18:43:32.930542Z",
     "start_time": "2022-03-12T18:43:32.875146Z"
    },
    "hidden": true
   },
   "outputs": [
    {
     "data": {
      "text/plain": [
       "0    6354407\n",
       "1       8213\n",
       "Name: isFraud, dtype: int64"
      ]
     },
     "execution_count": 19,
     "metadata": {},
     "output_type": "execute_result"
    }
   ],
   "source": [
    "df.isFraud.value_counts()"
   ]
  },
  {
   "cell_type": "code",
   "execution_count": 20,
   "id": "de4e62c5",
   "metadata": {
    "ExecuteTime": {
     "end_time": "2022-03-12T18:43:47.349068Z",
     "start_time": "2022-03-12T18:43:47.295157Z"
    },
    "hidden": true
   },
   "outputs": [
    {
     "data": {
      "text/plain": [
       "0    6362604\n",
       "1         16\n",
       "Name: isFlaggedFraud, dtype: int64"
      ]
     },
     "execution_count": 20,
     "metadata": {},
     "output_type": "execute_result"
    }
   ],
   "source": [
    "df.isFlaggedFraud.value_counts()"
   ]
  },
  {
   "cell_type": "code",
   "execution_count": 23,
   "id": "71ce1cb7",
   "metadata": {
    "ExecuteTime": {
     "end_time": "2022-03-12T18:48:55.710352Z",
     "start_time": "2022-03-12T18:48:55.700958Z"
    },
    "hidden": true
   },
   "outputs": [
    {
     "data": {
      "text/plain": [
       "0.000251468734577894"
      ]
     },
     "execution_count": 23,
     "metadata": {},
     "output_type": "execute_result"
    }
   ],
   "source": [
    "(16/(6362604+16))*100"
   ]
  },
  {
   "cell_type": "markdown",
   "id": "8bb28770",
   "metadata": {
    "hidden": true
   },
   "source": [
    "**Análises dos valores**\n",
    "\n",
    "Nosso dataset é extremamente não balanceado, somente 0.13% foram transações rotuladas como fraude, isso se segue para aquelas que o próprio sistema configurou como fraude, somente 0.00025%."
   ]
  },
  {
   "cell_type": "markdown",
   "id": "a68eae4c",
   "metadata": {},
   "source": [
    "# 4. Defining traning, testing and validation dataset"
   ]
  },
  {
   "cell_type": "code",
   "execution_count": 9,
   "id": "a2999fc3",
   "metadata": {
    "ExecuteTime": {
     "end_time": "2022-04-25T23:41:38.425317Z",
     "start_time": "2022-04-25T23:41:37.665861Z"
    }
   },
   "outputs": [],
   "source": [
    "df_validation = df[df[\"step\"].isin([740,741,742,743])].copy()\n",
    "df_train = df[~df[\"step\"].isin([740,741,742,743])].copy()"
   ]
  },
  {
   "cell_type": "code",
   "execution_count": 11,
   "id": "80a1870c",
   "metadata": {
    "ExecuteTime": {
     "end_time": "2022-04-25T23:44:53.216713Z",
     "start_time": "2022-04-25T23:44:22.783041Z"
    }
   },
   "outputs": [],
   "source": [
    "df_validation.to_parquet('df_validation.parquet.gzip',\n",
    "              compression='gzip')\n",
    "\n",
    "df_train.to_parquet('df_train.parquet.gzip',\n",
    "              compression='gzip')"
   ]
  },
  {
   "cell_type": "markdown",
   "id": "0d16318b",
   "metadata": {},
   "source": [
    "# 5. Conclusão\n",
    "\n",
    "Fizemos uma análise superficial acerca dos dados recebidos do cliente, entendemos a dimensão dos nossos dados, verificamos se existe a presença de campos nulos que não foi encontrado e partimos para analisar os valores contidos nas variáveis para ajudar a entender a descrição de cada campo, com isso tempos que:\n",
    "- Nos campos de transações existem valores zerados, com isso abriu a dúvida se esse valor está correto ou podemos considerar como nulo\n",
    "- Existem variáveis categóricas bem frequentes e além disso temos clientes considerados Merchants que não possuímos informações sobre o balanço dele.\n",
    "\n",
    "Concluimos que a próxima etapa devemos executar uma análise exploratória mais aprofundada para que possamos entender os padrões sobre os nossos dados, com isso podemos retirar insights que venha a ajudar a modelar os dados para o nosso problema de negócio."
   ]
  }
 ],
 "metadata": {
  "kernelspec": {
   "display_name": "Python 3 (ipykernel)",
   "language": "python",
   "name": "python3"
  },
  "language_info": {
   "codemirror_mode": {
    "name": "ipython",
    "version": 3
   },
   "file_extension": ".py",
   "mimetype": "text/x-python",
   "name": "python",
   "nbconvert_exporter": "python",
   "pygments_lexer": "ipython3",
   "version": "3.9.7"
  },
  "notify_time": "5",
  "toc": {
   "base_numbering": 1,
   "nav_menu": {},
   "number_sections": true,
   "sideBar": true,
   "skip_h1_title": false,
   "title_cell": "Table of Contents",
   "title_sidebar": "Contents",
   "toc_cell": false,
   "toc_position": {},
   "toc_section_display": true,
   "toc_window_display": false
  },
  "varInspector": {
   "cols": {
    "lenName": 16,
    "lenType": 16,
    "lenVar": 40
   },
   "kernels_config": {
    "python": {
     "delete_cmd_postfix": "",
     "delete_cmd_prefix": "del ",
     "library": "var_list.py",
     "varRefreshCmd": "print(var_dic_list())"
    },
    "r": {
     "delete_cmd_postfix": ") ",
     "delete_cmd_prefix": "rm(",
     "library": "var_list.r",
     "varRefreshCmd": "cat(var_dic_list()) "
    }
   },
   "types_to_exclude": [
    "module",
    "function",
    "builtin_function_or_method",
    "instance",
    "_Feature"
   ],
   "window_display": false
  }
 },
 "nbformat": 4,
 "nbformat_minor": 5
}
