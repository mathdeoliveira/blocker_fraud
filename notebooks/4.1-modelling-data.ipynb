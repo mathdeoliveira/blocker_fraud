{
 "cells": [
  {
   "cell_type": "markdown",
   "id": "8fe8321b",
   "metadata": {
    "heading_collapsed": true
   },
   "source": [
    "# 1. Blocker Fraud Company\n",
    " <font size=\"2\"> Dados e problema negócio hipotéticos</font>\n",
    " \n",
    "A Blocker Fraud Company é uma empresa especializada na detecção de fraudes em transações financeiras feitas atravś de dispositivos móveis.\n",
    "\n",
    "O modelo de negócio da empresa é do tipo Serviço com a monetização feita por performance do serviço prestado, ou seja, o usuário paga uma taxa fixa sobre o sucesso da detecção de fraude das transações.\n",
    "\n",
    "## 1.1. Estratégia de expansão\n",
    "\n",
    "A Blocker Fraud Company está em fase de expansão no Brasil e para adquirir clientes mais rapidamente, ela adotou uma estratégia muito agressiva. A estratégia funciona da seguinte forma:\n",
    "\n",
    "1. A empresa vai receber 25% do valor de cada transação detectada verdadeiramente como fraude.\n",
    "2. A empresa vai receber 5% do valor de cada transação detectada como fraude, porém a transação é verdadeiramente legítima.\n",
    "3. A empresa vai devolver 100% do valor para o cliente, a cada transação detectada como legítima, porém a transação é verdadeiramente uma fraude.\n",
    "\n",
    "Com essa estratégia agressiva a empresa assume os riscos em falhar na detecção de fraude e é remunerada na detecção assertiva das fraudes.\n",
    "\n",
    "## 1.2. Objetivo\n",
    "\n",
    "Criar um modelo de alta precisão e acurácia na detecção de fraudes de transações feitas através de dispositivos móveis.\n",
    "\n",
    "### 1.2.1. Entregáveis\n",
    "\n",
    "Modelo em produção no qual seu acesso será feito via API, ou seja, os clientes enviarão suas transações via API para que o seu modelo as classifique como fraudulentas ou legítimas.\n",
    "\n",
    "Além disso, você precisará entregar um relatório reportando a performance e os resultados do seu modelo em relação ao lucro e prejuízo que a empresa terá ao usar o modelo que você produziu. No seu relatório deve conter as respostas para as seguintes perguntas:\n",
    "\n",
    "1. Qual a Precisão e Acurácia do modelo?\n",
    "2. Qual a Confiabilidade do modelo em classificar as transações como legítimas ou fraudulentas?\n",
    "3. Qual o Faturamento Esperado pela Empresa se classificarmos 100% das transações com o modelo?\n",
    "4. Qual o Prejuízo Esperado pela Empresa em caso de falha do modelo?\n",
    "5. Qual o Lucro Esperado pela Blocker Fraud Company ao utilizar o modelo?\n"
   ]
  },
  {
   "cell_type": "markdown",
   "id": "ef472ae8",
   "metadata": {},
   "source": [
    "# 2. Imports"
   ]
  },
  {
   "cell_type": "code",
   "execution_count": 1,
   "id": "be62b7af",
   "metadata": {
    "ExecuteTime": {
     "end_time": "2022-04-29T17:51:01.240768Z",
     "start_time": "2022-04-29T17:51:00.275971Z"
    }
   },
   "outputs": [],
   "source": [
    "import numpy as np\n",
    "import pandas as pd\n",
    "import matplotlib.pyplot as plt\n",
    "import seaborn as sns\n",
    "\n",
    "#display\n",
    "pd.set_option('display.float_format', lambda x: '%.5f' % x)\n",
    "\n",
    "#ignore warnings\n",
    "import warnings\n",
    "warnings.filterwarnings(\"ignore\")"
   ]
  },
  {
   "cell_type": "markdown",
   "id": "f60674db",
   "metadata": {},
   "source": [
    "## 2.1. Utils functions"
   ]
  },
  {
   "cell_type": "code",
   "execution_count": 2,
   "id": "ad73d052",
   "metadata": {
    "ExecuteTime": {
     "end_time": "2022-04-29T17:51:01.247693Z",
     "start_time": "2022-04-29T17:51:01.241884Z"
    }
   },
   "outputs": [],
   "source": [
    "def create_features(df: pd.DataFrame) -> pd.DataFrame:\n",
    "    \"\"\"\n",
    "        Cria as novas features a partir dos dados de entrada\n",
    "        Parameters\n",
    "        ----------\n",
    "        df: Pandas DataFrame\n",
    "\n",
    "        Returns\n",
    "        -------\n",
    "        df: Pandas DataFrame\n",
    "            Novo dataframe com as features inseridas.\n",
    "    \"\"\"\n",
    "    df['is_high_amount'] = define_high_amount(df, 179000)\n",
    "    df['is_M_customer'] = define_merchant_customer(df)\n",
    "    df['is_new_balance_orig_zero'] =  define_is_balance_zero(df, 'newbalanceOrig')\n",
    "    df['is_new_balance_dest_zero'] = define_is_balance_zero(df, 'newbalanceDest')\n",
    "    df['diff_orig'] = difference_between_two_columns(df, 'oldbalanceOrg', 'newbalanceOrig')\n",
    "    df['diff_dest'] = difference_between_two_columns(df, 'oldbalanceDest', 'newbalanceDest')\n",
    "    df['is_orig_old_balance_greater_new'] = define_column_is_greater(df, 'oldbalanceOrg','newbalanceOrig')\n",
    "    df['is_dest_old_balance_greater_new'] = define_column_is_greater(df, 'oldbalanceDest','newbalanceDest')\n",
    "    return df\n",
    "\n",
    "def define_high_amount(df: pd.DataFrame, value: int) -> np.array:\n",
    "    is_high_amount = np.where(df['amount']>=value, 1, 0)\n",
    "    return is_high_amount\n",
    "\n",
    "def define_merchant_customer(df: pd.DataFrame) -> np.array:\n",
    "    is_merchant_customer = np.where(df['nameDest'].str.contains('M'), 1, 0)\n",
    "    return is_merchant_customer\n",
    "\n",
    "def define_is_balance_zero(df: pd.DataFrame, column: str) -> np.array:\n",
    "    is_column_balance_zero = np.where(df[column]==0, 1, 0)\n",
    "    return is_column_balance_zero\n",
    "\n",
    "def difference_between_two_columns(df: pd.DataFrame, left_column: str, right_column: str) -> pd.Series:\n",
    "    difference_result = df[left_column]-df[right_column]\n",
    "    return difference_result\n",
    "\n",
    "def define_column_is_greater(df: pd.DataFrame, left_column: str, right_column: str) -> np.array:\n",
    "    is_greater_result = np.where(df[left_column]>df[right_column], 1, 0)\n",
    "    return is_greater_result"
   ]
  },
  {
   "cell_type": "markdown",
   "id": "04cb3a11",
   "metadata": {},
   "source": [
    "# 3. Data"
   ]
  },
  {
   "cell_type": "markdown",
   "id": "f49dc166",
   "metadata": {},
   "source": [
    "## 3.1. Load dataset"
   ]
  },
  {
   "cell_type": "code",
   "execution_count": 3,
   "id": "5128588c",
   "metadata": {
    "ExecuteTime": {
     "end_time": "2022-04-29T17:51:06.012697Z",
     "start_time": "2022-04-29T17:51:01.249127Z"
    }
   },
   "outputs": [],
   "source": [
    "df = pd.read_parquet('../data/raw/df_train.parquet.gzip')"
   ]
  },
  {
   "cell_type": "code",
   "execution_count": 4,
   "id": "25225712",
   "metadata": {
    "ExecuteTime": {
     "end_time": "2022-04-29T17:51:06.074023Z",
     "start_time": "2022-04-29T17:51:06.013744Z"
    }
   },
   "outputs": [],
   "source": [
    "df_test = pd.read_parquet('../data/raw/df_test.parquet.gzip') "
   ]
  },
  {
   "cell_type": "code",
   "execution_count": 5,
   "id": "08d89079",
   "metadata": {
    "ExecuteTime": {
     "end_time": "2022-04-29T17:51:06.084913Z",
     "start_time": "2022-04-29T17:51:06.075172Z"
    }
   },
   "outputs": [
    {
     "data": {
      "text/html": [
       "<div>\n",
       "<style scoped>\n",
       "    .dataframe tbody tr th:only-of-type {\n",
       "        vertical-align: middle;\n",
       "    }\n",
       "\n",
       "    .dataframe tbody tr th {\n",
       "        vertical-align: top;\n",
       "    }\n",
       "\n",
       "    .dataframe thead th {\n",
       "        text-align: right;\n",
       "    }\n",
       "</style>\n",
       "<table border=\"1\" class=\"dataframe\">\n",
       "  <thead>\n",
       "    <tr style=\"text-align: right;\">\n",
       "      <th></th>\n",
       "      <th>step</th>\n",
       "      <th>type</th>\n",
       "      <th>amount</th>\n",
       "      <th>nameOrig</th>\n",
       "      <th>oldbalanceOrg</th>\n",
       "      <th>newbalanceOrig</th>\n",
       "      <th>nameDest</th>\n",
       "      <th>oldbalanceDest</th>\n",
       "      <th>newbalanceDest</th>\n",
       "      <th>isFraud</th>\n",
       "      <th>isFlaggedFraud</th>\n",
       "    </tr>\n",
       "  </thead>\n",
       "  <tbody>\n",
       "    <tr>\n",
       "      <th>0</th>\n",
       "      <td>1</td>\n",
       "      <td>PAYMENT</td>\n",
       "      <td>9839.64000</td>\n",
       "      <td>C1231006815</td>\n",
       "      <td>170136.00000</td>\n",
       "      <td>160296.36000</td>\n",
       "      <td>M1979787155</td>\n",
       "      <td>0.00000</td>\n",
       "      <td>0.00000</td>\n",
       "      <td>0</td>\n",
       "      <td>0</td>\n",
       "    </tr>\n",
       "    <tr>\n",
       "      <th>1</th>\n",
       "      <td>1</td>\n",
       "      <td>PAYMENT</td>\n",
       "      <td>1864.28000</td>\n",
       "      <td>C1666544295</td>\n",
       "      <td>21249.00000</td>\n",
       "      <td>19384.72000</td>\n",
       "      <td>M2044282225</td>\n",
       "      <td>0.00000</td>\n",
       "      <td>0.00000</td>\n",
       "      <td>0</td>\n",
       "      <td>0</td>\n",
       "    </tr>\n",
       "    <tr>\n",
       "      <th>2</th>\n",
       "      <td>1</td>\n",
       "      <td>TRANSFER</td>\n",
       "      <td>181.00000</td>\n",
       "      <td>C1305486145</td>\n",
       "      <td>181.00000</td>\n",
       "      <td>0.00000</td>\n",
       "      <td>C553264065</td>\n",
       "      <td>0.00000</td>\n",
       "      <td>0.00000</td>\n",
       "      <td>1</td>\n",
       "      <td>0</td>\n",
       "    </tr>\n",
       "    <tr>\n",
       "      <th>3</th>\n",
       "      <td>1</td>\n",
       "      <td>CASH_OUT</td>\n",
       "      <td>181.00000</td>\n",
       "      <td>C840083671</td>\n",
       "      <td>181.00000</td>\n",
       "      <td>0.00000</td>\n",
       "      <td>C38997010</td>\n",
       "      <td>21182.00000</td>\n",
       "      <td>0.00000</td>\n",
       "      <td>1</td>\n",
       "      <td>0</td>\n",
       "    </tr>\n",
       "    <tr>\n",
       "      <th>4</th>\n",
       "      <td>1</td>\n",
       "      <td>PAYMENT</td>\n",
       "      <td>11668.14000</td>\n",
       "      <td>C2048537720</td>\n",
       "      <td>41554.00000</td>\n",
       "      <td>29885.86000</td>\n",
       "      <td>M1230701703</td>\n",
       "      <td>0.00000</td>\n",
       "      <td>0.00000</td>\n",
       "      <td>0</td>\n",
       "      <td>0</td>\n",
       "    </tr>\n",
       "  </tbody>\n",
       "</table>\n",
       "</div>"
      ],
      "text/plain": [
       "   step      type      amount     nameOrig  oldbalanceOrg  newbalanceOrig  \\\n",
       "0     1   PAYMENT  9839.64000  C1231006815   170136.00000    160296.36000   \n",
       "1     1   PAYMENT  1864.28000  C1666544295    21249.00000     19384.72000   \n",
       "2     1  TRANSFER   181.00000  C1305486145      181.00000         0.00000   \n",
       "3     1  CASH_OUT   181.00000   C840083671      181.00000         0.00000   \n",
       "4     1   PAYMENT 11668.14000  C2048537720    41554.00000     29885.86000   \n",
       "\n",
       "      nameDest  oldbalanceDest  newbalanceDest  isFraud  isFlaggedFraud  \n",
       "0  M1979787155         0.00000         0.00000        0               0  \n",
       "1  M2044282225         0.00000         0.00000        0               0  \n",
       "2   C553264065         0.00000         0.00000        1               0  \n",
       "3    C38997010     21182.00000         0.00000        1               0  \n",
       "4  M1230701703         0.00000         0.00000        0               0  "
      ]
     },
     "execution_count": 5,
     "metadata": {},
     "output_type": "execute_result"
    }
   ],
   "source": [
    "df.head()"
   ]
  },
  {
   "cell_type": "markdown",
   "id": "240b915a",
   "metadata": {},
   "source": [
    "# 4. Modelling Data\n",
    "\n",
    "A partir do momento que identificamos alguns insights da etapa anterior, análise exploratória, partimos então para a modelagem dos dados atuais para que seja possível a inserção de novas variáveis afim de auxiliar os algoritmos a entenderem o espaço de features e com isso aumentando a sua possibilidade de prever se a transação foi fraudulenta ou não."
   ]
  },
  {
   "cell_type": "markdown",
   "id": "b03dc04d",
   "metadata": {},
   "source": [
    "## 4.1. Applying utils functions\n",
    "\n",
    "Foi desenvolvido uma função onde foi reunido algumas manipulações para a criação de novas features. Favor verificar na seção ``` 2.1. Utils functions```  sobre essa função."
   ]
  },
  {
   "cell_type": "markdown",
   "id": "37c84eb6",
   "metadata": {},
   "source": [
    "### 4.1.1. Train dataset"
   ]
  },
  {
   "cell_type": "code",
   "execution_count": 6,
   "id": "14617d5a",
   "metadata": {
    "ExecuteTime": {
     "end_time": "2022-04-29T17:51:06.304147Z",
     "start_time": "2022-04-29T17:51:06.086150Z"
    }
   },
   "outputs": [],
   "source": [
    "df_new = df.copy()"
   ]
  },
  {
   "cell_type": "code",
   "execution_count": 7,
   "id": "3c2b788c",
   "metadata": {
    "ExecuteTime": {
     "end_time": "2022-04-29T17:51:08.922440Z",
     "start_time": "2022-04-29T17:51:06.305248Z"
    }
   },
   "outputs": [],
   "source": [
    "df_applied_features = create_features(df_new)"
   ]
  },
  {
   "cell_type": "code",
   "execution_count": 8,
   "id": "e675eec1",
   "metadata": {
    "ExecuteTime": {
     "end_time": "2022-04-29T17:51:08.934193Z",
     "start_time": "2022-04-29T17:51:08.923532Z"
    }
   },
   "outputs": [
    {
     "data": {
      "text/html": [
       "<div>\n",
       "<style scoped>\n",
       "    .dataframe tbody tr th:only-of-type {\n",
       "        vertical-align: middle;\n",
       "    }\n",
       "\n",
       "    .dataframe tbody tr th {\n",
       "        vertical-align: top;\n",
       "    }\n",
       "\n",
       "    .dataframe thead th {\n",
       "        text-align: right;\n",
       "    }\n",
       "</style>\n",
       "<table border=\"1\" class=\"dataframe\">\n",
       "  <thead>\n",
       "    <tr style=\"text-align: right;\">\n",
       "      <th></th>\n",
       "      <th>step</th>\n",
       "      <th>type</th>\n",
       "      <th>amount</th>\n",
       "      <th>nameOrig</th>\n",
       "      <th>oldbalanceOrg</th>\n",
       "      <th>newbalanceOrig</th>\n",
       "      <th>nameDest</th>\n",
       "      <th>oldbalanceDest</th>\n",
       "      <th>newbalanceDest</th>\n",
       "      <th>isFraud</th>\n",
       "      <th>isFlaggedFraud</th>\n",
       "      <th>is_high_amount</th>\n",
       "      <th>is_M_customer</th>\n",
       "      <th>is_new_balance_orig_zero</th>\n",
       "      <th>is_new_balance_dest_zero</th>\n",
       "      <th>diff_orig</th>\n",
       "      <th>diff_dest</th>\n",
       "      <th>is_orig_old_balance_greater_new</th>\n",
       "      <th>is_dest_old_balance_greater_new</th>\n",
       "    </tr>\n",
       "  </thead>\n",
       "  <tbody>\n",
       "    <tr>\n",
       "      <th>0</th>\n",
       "      <td>1</td>\n",
       "      <td>PAYMENT</td>\n",
       "      <td>9839.64000</td>\n",
       "      <td>C1231006815</td>\n",
       "      <td>170136.00000</td>\n",
       "      <td>160296.36000</td>\n",
       "      <td>M1979787155</td>\n",
       "      <td>0.00000</td>\n",
       "      <td>0.00000</td>\n",
       "      <td>0</td>\n",
       "      <td>0</td>\n",
       "      <td>0</td>\n",
       "      <td>1</td>\n",
       "      <td>0</td>\n",
       "      <td>1</td>\n",
       "      <td>9839.64000</td>\n",
       "      <td>0.00000</td>\n",
       "      <td>1</td>\n",
       "      <td>0</td>\n",
       "    </tr>\n",
       "    <tr>\n",
       "      <th>1</th>\n",
       "      <td>1</td>\n",
       "      <td>PAYMENT</td>\n",
       "      <td>1864.28000</td>\n",
       "      <td>C1666544295</td>\n",
       "      <td>21249.00000</td>\n",
       "      <td>19384.72000</td>\n",
       "      <td>M2044282225</td>\n",
       "      <td>0.00000</td>\n",
       "      <td>0.00000</td>\n",
       "      <td>0</td>\n",
       "      <td>0</td>\n",
       "      <td>0</td>\n",
       "      <td>1</td>\n",
       "      <td>0</td>\n",
       "      <td>1</td>\n",
       "      <td>1864.28000</td>\n",
       "      <td>0.00000</td>\n",
       "      <td>1</td>\n",
       "      <td>0</td>\n",
       "    </tr>\n",
       "    <tr>\n",
       "      <th>2</th>\n",
       "      <td>1</td>\n",
       "      <td>TRANSFER</td>\n",
       "      <td>181.00000</td>\n",
       "      <td>C1305486145</td>\n",
       "      <td>181.00000</td>\n",
       "      <td>0.00000</td>\n",
       "      <td>C553264065</td>\n",
       "      <td>0.00000</td>\n",
       "      <td>0.00000</td>\n",
       "      <td>1</td>\n",
       "      <td>0</td>\n",
       "      <td>0</td>\n",
       "      <td>0</td>\n",
       "      <td>1</td>\n",
       "      <td>1</td>\n",
       "      <td>181.00000</td>\n",
       "      <td>0.00000</td>\n",
       "      <td>1</td>\n",
       "      <td>0</td>\n",
       "    </tr>\n",
       "    <tr>\n",
       "      <th>3</th>\n",
       "      <td>1</td>\n",
       "      <td>CASH_OUT</td>\n",
       "      <td>181.00000</td>\n",
       "      <td>C840083671</td>\n",
       "      <td>181.00000</td>\n",
       "      <td>0.00000</td>\n",
       "      <td>C38997010</td>\n",
       "      <td>21182.00000</td>\n",
       "      <td>0.00000</td>\n",
       "      <td>1</td>\n",
       "      <td>0</td>\n",
       "      <td>0</td>\n",
       "      <td>0</td>\n",
       "      <td>1</td>\n",
       "      <td>1</td>\n",
       "      <td>181.00000</td>\n",
       "      <td>21182.00000</td>\n",
       "      <td>1</td>\n",
       "      <td>1</td>\n",
       "    </tr>\n",
       "    <tr>\n",
       "      <th>4</th>\n",
       "      <td>1</td>\n",
       "      <td>PAYMENT</td>\n",
       "      <td>11668.14000</td>\n",
       "      <td>C2048537720</td>\n",
       "      <td>41554.00000</td>\n",
       "      <td>29885.86000</td>\n",
       "      <td>M1230701703</td>\n",
       "      <td>0.00000</td>\n",
       "      <td>0.00000</td>\n",
       "      <td>0</td>\n",
       "      <td>0</td>\n",
       "      <td>0</td>\n",
       "      <td>1</td>\n",
       "      <td>0</td>\n",
       "      <td>1</td>\n",
       "      <td>11668.14000</td>\n",
       "      <td>0.00000</td>\n",
       "      <td>1</td>\n",
       "      <td>0</td>\n",
       "    </tr>\n",
       "  </tbody>\n",
       "</table>\n",
       "</div>"
      ],
      "text/plain": [
       "   step      type      amount     nameOrig  oldbalanceOrg  newbalanceOrig  \\\n",
       "0     1   PAYMENT  9839.64000  C1231006815   170136.00000    160296.36000   \n",
       "1     1   PAYMENT  1864.28000  C1666544295    21249.00000     19384.72000   \n",
       "2     1  TRANSFER   181.00000  C1305486145      181.00000         0.00000   \n",
       "3     1  CASH_OUT   181.00000   C840083671      181.00000         0.00000   \n",
       "4     1   PAYMENT 11668.14000  C2048537720    41554.00000     29885.86000   \n",
       "\n",
       "      nameDest  oldbalanceDest  newbalanceDest  isFraud  isFlaggedFraud  \\\n",
       "0  M1979787155         0.00000         0.00000        0               0   \n",
       "1  M2044282225         0.00000         0.00000        0               0   \n",
       "2   C553264065         0.00000         0.00000        1               0   \n",
       "3    C38997010     21182.00000         0.00000        1               0   \n",
       "4  M1230701703         0.00000         0.00000        0               0   \n",
       "\n",
       "   is_high_amount  is_M_customer  is_new_balance_orig_zero  \\\n",
       "0               0              1                         0   \n",
       "1               0              1                         0   \n",
       "2               0              0                         1   \n",
       "3               0              0                         1   \n",
       "4               0              1                         0   \n",
       "\n",
       "   is_new_balance_dest_zero   diff_orig   diff_dest  \\\n",
       "0                         1  9839.64000     0.00000   \n",
       "1                         1  1864.28000     0.00000   \n",
       "2                         1   181.00000     0.00000   \n",
       "3                         1   181.00000 21182.00000   \n",
       "4                         1 11668.14000     0.00000   \n",
       "\n",
       "   is_orig_old_balance_greater_new  is_dest_old_balance_greater_new  \n",
       "0                                1                                0  \n",
       "1                                1                                0  \n",
       "2                                1                                0  \n",
       "3                                1                                1  \n",
       "4                                1                                0  "
      ]
     },
     "execution_count": 8,
     "metadata": {},
     "output_type": "execute_result"
    }
   ],
   "source": [
    "df_applied_features.head()"
   ]
  },
  {
   "cell_type": "markdown",
   "id": "974ed23e",
   "metadata": {},
   "source": [
    "### 4.1.2. Test dataset"
   ]
  },
  {
   "cell_type": "code",
   "execution_count": 9,
   "id": "4337d945",
   "metadata": {
    "ExecuteTime": {
     "end_time": "2022-04-29T17:51:08.940342Z",
     "start_time": "2022-04-29T17:51:08.936406Z"
    }
   },
   "outputs": [],
   "source": [
    "df_new_test = df_test.copy()"
   ]
  },
  {
   "cell_type": "code",
   "execution_count": 10,
   "id": "d8e4688e",
   "metadata": {
    "ExecuteTime": {
     "end_time": "2022-04-29T17:51:08.966352Z",
     "start_time": "2022-04-29T17:51:08.941712Z"
    }
   },
   "outputs": [],
   "source": [
    "df_applied_features_test = create_features(df_new_test)"
   ]
  },
  {
   "cell_type": "code",
   "execution_count": 11,
   "id": "22e93ec3",
   "metadata": {
    "ExecuteTime": {
     "end_time": "2022-04-29T17:51:08.978061Z",
     "start_time": "2022-04-29T17:51:08.967866Z"
    }
   },
   "outputs": [
    {
     "data": {
      "text/html": [
       "<div>\n",
       "<style scoped>\n",
       "    .dataframe tbody tr th:only-of-type {\n",
       "        vertical-align: middle;\n",
       "    }\n",
       "\n",
       "    .dataframe tbody tr th {\n",
       "        vertical-align: top;\n",
       "    }\n",
       "\n",
       "    .dataframe thead th {\n",
       "        text-align: right;\n",
       "    }\n",
       "</style>\n",
       "<table border=\"1\" class=\"dataframe\">\n",
       "  <thead>\n",
       "    <tr style=\"text-align: right;\">\n",
       "      <th></th>\n",
       "      <th>step</th>\n",
       "      <th>type</th>\n",
       "      <th>amount</th>\n",
       "      <th>nameOrig</th>\n",
       "      <th>oldbalanceOrg</th>\n",
       "      <th>newbalanceOrig</th>\n",
       "      <th>nameDest</th>\n",
       "      <th>oldbalanceDest</th>\n",
       "      <th>newbalanceDest</th>\n",
       "      <th>isFraud</th>\n",
       "      <th>isFlaggedFraud</th>\n",
       "      <th>is_high_amount</th>\n",
       "      <th>is_M_customer</th>\n",
       "      <th>is_new_balance_orig_zero</th>\n",
       "      <th>is_new_balance_dest_zero</th>\n",
       "      <th>diff_orig</th>\n",
       "      <th>diff_dest</th>\n",
       "      <th>is_orig_old_balance_greater_new</th>\n",
       "      <th>is_dest_old_balance_greater_new</th>\n",
       "    </tr>\n",
       "  </thead>\n",
       "  <tbody>\n",
       "    <tr>\n",
       "      <th>3724554</th>\n",
       "      <td>278</td>\n",
       "      <td>PAYMENT</td>\n",
       "      <td>16517.82000</td>\n",
       "      <td>C153708358</td>\n",
       "      <td>4621.74000</td>\n",
       "      <td>0.00000</td>\n",
       "      <td>M2110641840</td>\n",
       "      <td>0.00000</td>\n",
       "      <td>0.00000</td>\n",
       "      <td>0</td>\n",
       "      <td>0</td>\n",
       "      <td>0</td>\n",
       "      <td>1</td>\n",
       "      <td>1</td>\n",
       "      <td>1</td>\n",
       "      <td>4621.74000</td>\n",
       "      <td>0.00000</td>\n",
       "      <td>1</td>\n",
       "      <td>0</td>\n",
       "    </tr>\n",
       "    <tr>\n",
       "      <th>2007406</th>\n",
       "      <td>179</td>\n",
       "      <td>CASH_OUT</td>\n",
       "      <td>288543.05000</td>\n",
       "      <td>C1121182373</td>\n",
       "      <td>0.00000</td>\n",
       "      <td>0.00000</td>\n",
       "      <td>C1786725887</td>\n",
       "      <td>552863.94000</td>\n",
       "      <td>841406.99000</td>\n",
       "      <td>0</td>\n",
       "      <td>0</td>\n",
       "      <td>1</td>\n",
       "      <td>0</td>\n",
       "      <td>1</td>\n",
       "      <td>0</td>\n",
       "      <td>0.00000</td>\n",
       "      <td>-288543.05000</td>\n",
       "      <td>0</td>\n",
       "      <td>0</td>\n",
       "    </tr>\n",
       "    <tr>\n",
       "      <th>38581</th>\n",
       "      <td>9</td>\n",
       "      <td>PAYMENT</td>\n",
       "      <td>39195.58000</td>\n",
       "      <td>C1739621400</td>\n",
       "      <td>21818.00000</td>\n",
       "      <td>0.00000</td>\n",
       "      <td>M279108771</td>\n",
       "      <td>0.00000</td>\n",
       "      <td>0.00000</td>\n",
       "      <td>0</td>\n",
       "      <td>0</td>\n",
       "      <td>0</td>\n",
       "      <td>1</td>\n",
       "      <td>1</td>\n",
       "      <td>1</td>\n",
       "      <td>21818.00000</td>\n",
       "      <td>0.00000</td>\n",
       "      <td>1</td>\n",
       "      <td>0</td>\n",
       "    </tr>\n",
       "    <tr>\n",
       "      <th>2332625</th>\n",
       "      <td>188</td>\n",
       "      <td>PAYMENT</td>\n",
       "      <td>2006.64000</td>\n",
       "      <td>C1368818203</td>\n",
       "      <td>47440.84000</td>\n",
       "      <td>45434.20000</td>\n",
       "      <td>M1435868610</td>\n",
       "      <td>0.00000</td>\n",
       "      <td>0.00000</td>\n",
       "      <td>0</td>\n",
       "      <td>0</td>\n",
       "      <td>0</td>\n",
       "      <td>1</td>\n",
       "      <td>0</td>\n",
       "      <td>1</td>\n",
       "      <td>2006.64000</td>\n",
       "      <td>0.00000</td>\n",
       "      <td>1</td>\n",
       "      <td>0</td>\n",
       "    </tr>\n",
       "    <tr>\n",
       "      <th>3572454</th>\n",
       "      <td>261</td>\n",
       "      <td>CASH_IN</td>\n",
       "      <td>233785.38000</td>\n",
       "      <td>C1144739306</td>\n",
       "      <td>160279.00000</td>\n",
       "      <td>394064.38000</td>\n",
       "      <td>C27642108</td>\n",
       "      <td>3026936.33000</td>\n",
       "      <td>2793150.95000</td>\n",
       "      <td>0</td>\n",
       "      <td>0</td>\n",
       "      <td>1</td>\n",
       "      <td>0</td>\n",
       "      <td>0</td>\n",
       "      <td>0</td>\n",
       "      <td>-233785.38000</td>\n",
       "      <td>233785.38000</td>\n",
       "      <td>0</td>\n",
       "      <td>1</td>\n",
       "    </tr>\n",
       "  </tbody>\n",
       "</table>\n",
       "</div>"
      ],
      "text/plain": [
       "         step      type       amount     nameOrig  oldbalanceOrg  \\\n",
       "3724554   278   PAYMENT  16517.82000   C153708358     4621.74000   \n",
       "2007406   179  CASH_OUT 288543.05000  C1121182373        0.00000   \n",
       "38581       9   PAYMENT  39195.58000  C1739621400    21818.00000   \n",
       "2332625   188   PAYMENT   2006.64000  C1368818203    47440.84000   \n",
       "3572454   261   CASH_IN 233785.38000  C1144739306   160279.00000   \n",
       "\n",
       "         newbalanceOrig     nameDest  oldbalanceDest  newbalanceDest  isFraud  \\\n",
       "3724554         0.00000  M2110641840         0.00000         0.00000        0   \n",
       "2007406         0.00000  C1786725887    552863.94000    841406.99000        0   \n",
       "38581           0.00000   M279108771         0.00000         0.00000        0   \n",
       "2332625     45434.20000  M1435868610         0.00000         0.00000        0   \n",
       "3572454    394064.38000    C27642108   3026936.33000   2793150.95000        0   \n",
       "\n",
       "         isFlaggedFraud  is_high_amount  is_M_customer  \\\n",
       "3724554               0               0              1   \n",
       "2007406               0               1              0   \n",
       "38581                 0               0              1   \n",
       "2332625               0               0              1   \n",
       "3572454               0               1              0   \n",
       "\n",
       "         is_new_balance_orig_zero  is_new_balance_dest_zero     diff_orig  \\\n",
       "3724554                         1                         1    4621.74000   \n",
       "2007406                         1                         0       0.00000   \n",
       "38581                           1                         1   21818.00000   \n",
       "2332625                         0                         1    2006.64000   \n",
       "3572454                         0                         0 -233785.38000   \n",
       "\n",
       "            diff_dest  is_orig_old_balance_greater_new  \\\n",
       "3724554       0.00000                                1   \n",
       "2007406 -288543.05000                                0   \n",
       "38581         0.00000                                1   \n",
       "2332625       0.00000                                1   \n",
       "3572454  233785.38000                                0   \n",
       "\n",
       "         is_dest_old_balance_greater_new  \n",
       "3724554                                0  \n",
       "2007406                                0  \n",
       "38581                                  0  \n",
       "2332625                                0  \n",
       "3572454                                1  "
      ]
     },
     "execution_count": 11,
     "metadata": {},
     "output_type": "execute_result"
    }
   ],
   "source": [
    "df_applied_features_test.head()"
   ]
  },
  {
   "cell_type": "markdown",
   "id": "f2f94f71",
   "metadata": {},
   "source": [
    "## 4.4. Save new dataset"
   ]
  },
  {
   "cell_type": "code",
   "execution_count": 12,
   "id": "e9acacf1",
   "metadata": {
    "ExecuteTime": {
     "end_time": "2022-04-29T17:51:41.916444Z",
     "start_time": "2022-04-29T17:51:08.979042Z"
    }
   },
   "outputs": [],
   "source": [
    "df_applied_features.to_parquet('../data/raw/df_applied_features.parquet.gzip',\n",
    "              compression='gzip')"
   ]
  },
  {
   "cell_type": "code",
   "execution_count": 13,
   "id": "8bcadef1",
   "metadata": {
    "ExecuteTime": {
     "end_time": "2022-04-29T17:51:42.337076Z",
     "start_time": "2022-04-29T17:51:41.917588Z"
    }
   },
   "outputs": [],
   "source": [
    "df_applied_features_test.to_parquet('../data/raw/df_applied_features_test.parquet.gzip',\n",
    "              compression='gzip')"
   ]
  },
  {
   "cell_type": "markdown",
   "id": "8ea6e66f",
   "metadata": {},
   "source": [
    "## 4.3. Conclusion"
   ]
  },
  {
   "cell_type": "markdown",
   "id": "3ec17ea5",
   "metadata": {},
   "source": [
    "Com os dados novos inseridos com as novas features, se faz necessário o salvar desses dados, para tal, foi escolhido salvar no formato parquet e comprimido para que seja possível a diminuição do tamanho do arquivo final, aqui temos uma diminuição de metade comparada com o arquivo csv anterior.\n",
    "\n",
    "A partir de agora, esse novo arquivo será o que usaremos para o restante do processo, inicaremos agora a etapa de preparação de dados e a feature engineering."
   ]
  }
 ],
 "metadata": {
  "kernelspec": {
   "display_name": "Python 3 (ipykernel)",
   "language": "python",
   "name": "python3"
  },
  "language_info": {
   "codemirror_mode": {
    "name": "ipython",
    "version": 3
   },
   "file_extension": ".py",
   "mimetype": "text/x-python",
   "name": "python",
   "nbconvert_exporter": "python",
   "pygments_lexer": "ipython3",
   "version": "3.9.7"
  },
  "notify_time": "5",
  "toc": {
   "base_numbering": 1,
   "nav_menu": {},
   "number_sections": true,
   "sideBar": true,
   "skip_h1_title": false,
   "title_cell": "Table of Contents",
   "title_sidebar": "Contents",
   "toc_cell": false,
   "toc_position": {},
   "toc_section_display": true,
   "toc_window_display": false
  },
  "varInspector": {
   "cols": {
    "lenName": 16,
    "lenType": 16,
    "lenVar": 40
   },
   "kernels_config": {
    "python": {
     "delete_cmd_postfix": "",
     "delete_cmd_prefix": "del ",
     "library": "var_list.py",
     "varRefreshCmd": "print(var_dic_list())"
    },
    "r": {
     "delete_cmd_postfix": ") ",
     "delete_cmd_prefix": "rm(",
     "library": "var_list.r",
     "varRefreshCmd": "cat(var_dic_list()) "
    }
   },
   "types_to_exclude": [
    "module",
    "function",
    "builtin_function_or_method",
    "instance",
    "_Feature"
   ],
   "window_display": false
  }
 },
 "nbformat": 4,
 "nbformat_minor": 5
}
