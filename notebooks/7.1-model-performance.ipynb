{
 "cells": [
  {
   "cell_type": "markdown",
   "id": "8fe8321b",
   "metadata": {
    "heading_collapsed": true
   },
   "source": [
    "# 1. Blocker Fraud Company\n",
    " <font size=\"2\"> Dados e problema negócio hipotéticos</font>\n",
    " \n",
    "A Blocker Fraud Company é uma empresa especializada na detecção de fraudes em transações financeiras feitas atravś de dispositivos móveis.\n",
    "\n",
    "O modelo de negócio da empresa é do tipo Serviço com a monetização feita por performance do serviço prestado, ou seja, o usuário paga uma taxa fixa sobre o sucesso da detecção de fraude das transações.\n",
    "\n",
    "## 1.1. Estratégia de expansão\n",
    "\n",
    "A Blocker Fraud Company está em fase de expansão no Brasil e para adquirir clientes mais rapidamente, ela adotou uma estratégia muito agressiva. A estratégia funciona da seguinte forma:\n",
    "\n",
    "1. A empresa vai receber 25% do valor de cada transação detectada verdadeiramente como fraude.\n",
    "2. A empresa vai receber 5% do valor de cada transação detectada como fraude, porém a transação é verdadeiramente legítima.\n",
    "3. A empresa vai devolver 100% do valor para o cliente, a cada transação detectada como legítima, porém a transação é verdadeiramente uma fraude.\n",
    "\n",
    "Com essa estratégia agressiva a empresa assume os riscos em falhar na detecção de fraude e é remunerada na detecção assertiva das fraudes.\n",
    "\n",
    "## 1.2. Objetivo\n",
    "\n",
    "Criar um modelo de alta precisão e acurácia na detecção de fraudes de transações feitas através de dispositivos móveis.\n",
    "\n",
    "### 1.2.1. Entregáveis\n",
    "\n",
    "Modelo em produção no qual seu acesso será feito via API, ou seja, os clientes enviarão suas transações via API para que o seu modelo as classifique como fraudulentas ou legítimas.\n",
    "\n",
    "Além disso, você precisará entregar um relatório reportando a performance e os resultados do seu modelo em relação ao lucro e prejuízo que a empresa terá ao usar o modelo que você produziu. No seu relatório deve conter as respostas para as seguintes perguntas:\n",
    "\n",
    "1. Qual a Precisão e Acurácia do modelo?\n",
    "2. Qual a Confiabilidade do modelo em classificar as transações como legítimas ou fraudulentas?\n",
    "3. Qual o Faturamento Esperado pela Empresa se classificarmos 100% das transações com o modelo?\n",
    "4. Qual o Prejuízo Esperado pela Empresa em caso de falha do modelo?\n",
    "5. Qual o Lucro Esperado pela Blocker Fraud Company ao utilizar o modelo?\n"
   ]
  },
  {
   "cell_type": "markdown",
   "id": "ef472ae8",
   "metadata": {},
   "source": [
    "# 2. Imports"
   ]
  },
  {
   "cell_type": "code",
   "execution_count": 1,
   "id": "be62b7af",
   "metadata": {
    "ExecuteTime": {
     "end_time": "2022-05-17T13:30:29.335604Z",
     "start_time": "2022-05-17T13:30:28.365634Z"
    }
   },
   "outputs": [],
   "source": [
    "import numpy as np\n",
    "import pandas as pd\n",
    "import matplotlib.pyplot as plt\n",
    "import seaborn as sns\n",
    "import joblib\n",
    "\n",
    "#display\n",
    "pd.set_option('display.float_format', lambda x: '%.5f' % x)\n",
    "\n",
    "#ignore warnings\n",
    "import warnings\n",
    "warnings.filterwarnings(\"ignore\")\n",
    "\n",
    "from sklearn import model_selection\n",
    "from sklearn import ensemble\n",
    "from sklearn import tree\n",
    "from sklearn import linear_model\n",
    "from sklearn import pipeline\n",
    "from sklearn import calibration\n",
    "\n",
    "from feature_engine import imputation\n",
    "from feature_engine import encoding\n",
    "from feature_engine import discretisation\n",
    "\n",
    "from sklearn.metrics import accuracy_score, precision_score, recall_score, f1_score, roc_auc_score,\\\n",
    "confusion_matrix, matthews_corrcoef, make_scorer, roc_curve, precision_recall_curve, classification_report"
   ]
  },
  {
   "cell_type": "markdown",
   "id": "f60674db",
   "metadata": {},
   "source": [
    "## 2.1. Utils functions"
   ]
  },
  {
   "cell_type": "code",
   "execution_count": 2,
   "id": "92a649e3",
   "metadata": {
    "ExecuteTime": {
     "end_time": "2022-05-17T13:30:29.343824Z",
     "start_time": "2022-05-17T13:30:29.336857Z"
    }
   },
   "outputs": [],
   "source": [
    "def performance(model, x_train, y_train):\n",
    "    \n",
    "    scoring = {'accuracy': 'accuracy',\n",
    "               'precision': make_scorer(precision_score),\n",
    "               'recall': make_scorer(recall_score),\n",
    "               'f1_score': make_scorer(f1_score),\n",
    "               'roc_auc_score': make_scorer(roc_auc_score),\n",
    "               'mcc': make_scorer(matthews_corrcoef)}\n",
    "\n",
    "    scores = model_selection.cross_validate(model, x_train, y_train, cv=5, scoring=scoring)\n",
    "\n",
    "    performance = pd.DataFrame.from_dict(scores).drop(['fit_time', 'score_time'], axis=1)\n",
    "    performance = pd.DataFrame(performance.mean()).T\n",
    "    return performance\n",
    "\n",
    "def precision_recall_curve_graph(model, x_train, y_train):\n",
    "    probs = model.predict_proba(x_train)\n",
    "    positive_probs = probs[:, 1]\n",
    "    \n",
    "    precision, recall, _ = precision_recall_curve(y_train, positive_probs)\n",
    "    no_skill = len(y_train[y_train==1]) / len(y_train)\n",
    "    plt.plot([0, 1], [no_skill, no_skill], linestyle='--', label='No Skill')\n",
    "    plt.plot(recall, precision, marker='.', label='Model')\n",
    "\n",
    "    plt.xlabel('Recall')\n",
    "    plt.ylabel('Precision')\n",
    "\n",
    "    plt.legend()\n",
    "\n",
    "    plt.show()\n",
    "    \n",
    "def roc_curve_graph(model, x_train, y_train):\n",
    "    ns_probs = [0 for _ in range(len(y_train))]\n",
    "\n",
    "    probs = model.predict_proba(x_train)\n",
    "    positive_probs = probs[:, 1]\n",
    "    \n",
    "    \n",
    "    ns_auc = roc_auc_score(y_train, ns_probs)\n",
    "    roc_auc = roc_auc_score(y_train, positive_probs)\n",
    "\n",
    "    print('No Skill: ROC AUC=%.3f' % (ns_auc))\n",
    "    print('Model: ROC AUC=%.3f' % (roc_auc))\n",
    "\n",
    "    ns_fpr, ns_tpr, _ = roc_curve(y_train, ns_probs)\n",
    "    model_fpr, model_tpr, _ = roc_curve(y_train, positive_probs)\n",
    "\n",
    "    plt.plot(ns_fpr, ns_tpr, linestyle='--', label='No Skill')\n",
    "    plt.plot(model_fpr, model_tpr, marker='.', label='Model')\n",
    "\n",
    "    plt.xlabel('False Positive Rate')\n",
    "    plt.ylabel('True Positive Rate')\n",
    "\n",
    "    plt.legend()\n",
    "\n",
    "    plt.show()\n",
    "    \n",
    "def create_classification_report(model, x_train, y_train):\n",
    "    y_pred = model.predict(x_train)\n",
    "    return print(classification_report(y_train, y_pred))"
   ]
  },
  {
   "cell_type": "markdown",
   "id": "04cb3a11",
   "metadata": {},
   "source": [
    "# 3. Data"
   ]
  },
  {
   "cell_type": "markdown",
   "id": "f49dc166",
   "metadata": {},
   "source": [
    "## 3.1. Load dataset"
   ]
  },
  {
   "cell_type": "code",
   "execution_count": 3,
   "id": "5128588c",
   "metadata": {
    "ExecuteTime": {
     "end_time": "2022-05-17T13:30:34.577589Z",
     "start_time": "2022-05-17T13:30:29.345257Z"
    }
   },
   "outputs": [],
   "source": [
    "df = pd.read_parquet('../data/raw/df_applied_features.parquet.gzip') "
   ]
  },
  {
   "cell_type": "code",
   "execution_count": 4,
   "id": "f9b3b66b",
   "metadata": {
    "ExecuteTime": {
     "end_time": "2022-05-17T13:30:34.648543Z",
     "start_time": "2022-05-17T13:30:34.578711Z"
    }
   },
   "outputs": [],
   "source": [
    "df_test = pd.read_parquet('../data/raw/df_applied_features_test.parquet.gzip') "
   ]
  },
  {
   "cell_type": "markdown",
   "id": "02fe42a3",
   "metadata": {},
   "source": [
    "# 4. Data preparation"
   ]
  },
  {
   "cell_type": "markdown",
   "id": "f9f0d271",
   "metadata": {},
   "source": [
    "## 4.1. Define feature and target"
   ]
  },
  {
   "cell_type": "code",
   "execution_count": 5,
   "id": "0bc333b0",
   "metadata": {
    "ExecuteTime": {
     "end_time": "2022-05-17T13:30:35.031127Z",
     "start_time": "2022-05-17T13:30:34.649770Z"
    }
   },
   "outputs": [],
   "source": [
    "features = df.drop('isFraud', axis=1).columns.tolist()\n",
    "target = 'isFraud'"
   ]
  },
  {
   "cell_type": "markdown",
   "id": "4441a69d",
   "metadata": {},
   "source": [
    "## 4.2. Split data into train and valid"
   ]
  },
  {
   "cell_type": "code",
   "execution_count": 6,
   "id": "b845088e",
   "metadata": {
    "ExecuteTime": {
     "end_time": "2022-05-17T13:30:39.690936Z",
     "start_time": "2022-05-17T13:30:35.032391Z"
    }
   },
   "outputs": [],
   "source": [
    "X = df[features]\n",
    "y = df[target].values\n",
    "\n",
    "X_train, X_valid, y_train, y_valid = model_selection.train_test_split(X,\n",
    "                                                                      y,\n",
    "                                                                      random_state=42,\n",
    "                                                                      test_size=0.3,\n",
    "                                                                      stratify=y)"
   ]
  },
  {
   "cell_type": "code",
   "execution_count": 7,
   "id": "3b152ed8",
   "metadata": {
    "ExecuteTime": {
     "end_time": "2022-05-17T13:30:40.509234Z",
     "start_time": "2022-05-17T13:30:39.692045Z"
    }
   },
   "outputs": [],
   "source": [
    "cols_to_include = ['isFlaggedFraud', 'is_high_amount', 'is_M_customer', \n",
    "                   'is_new_balance_orig_zero', 'is_orig_old_balance_greater_new',\n",
    "                   'is_new_balance_dest_zero', 'is_dest_old_balance_greater_new']\n",
    "\n",
    "columns_drop = ['nameOrig', 'nameDest']\n",
    "\n",
    "for col in cols_to_include:\n",
    "    X_train[col] = X_train[col].astype('category')\n",
    "    X_valid[col] = X_valid[col].astype('category')\n",
    "    \n",
    "X_train.drop(columns_drop, axis=1, inplace=True)\n",
    "X_valid.drop(columns_drop, axis=1, inplace=True)"
   ]
  },
  {
   "cell_type": "markdown",
   "id": "c39576c5",
   "metadata": {},
   "source": [
    "## 4.4. Load pipeline"
   ]
  },
  {
   "cell_type": "code",
   "execution_count": 8,
   "id": "3ea2d637",
   "metadata": {
    "ExecuteTime": {
     "end_time": "2022-05-17T13:30:40.591340Z",
     "start_time": "2022-05-17T13:30:40.510354Z"
    }
   },
   "outputs": [],
   "source": [
    "pipe = joblib.load('../models/model_cicle_1.pkl')"
   ]
  },
  {
   "cell_type": "markdown",
   "id": "2b42619f",
   "metadata": {},
   "source": [
    "# 5. Performance"
   ]
  },
  {
   "cell_type": "markdown",
   "id": "a17e2924",
   "metadata": {},
   "source": [
    "## 5.1. Performance train dataset"
   ]
  },
  {
   "cell_type": "code",
   "execution_count": 9,
   "id": "7177e955",
   "metadata": {
    "ExecuteTime": {
     "end_time": "2022-05-17T13:43:02.003477Z",
     "start_time": "2022-05-17T13:30:40.593280Z"
    }
   },
   "outputs": [
    {
     "data": {
      "text/html": [
       "<div>\n",
       "<style scoped>\n",
       "    .dataframe tbody tr th:only-of-type {\n",
       "        vertical-align: middle;\n",
       "    }\n",
       "\n",
       "    .dataframe tbody tr th {\n",
       "        vertical-align: top;\n",
       "    }\n",
       "\n",
       "    .dataframe thead th {\n",
       "        text-align: right;\n",
       "    }\n",
       "</style>\n",
       "<table border=\"1\" class=\"dataframe\">\n",
       "  <thead>\n",
       "    <tr style=\"text-align: right;\">\n",
       "      <th></th>\n",
       "      <th>test_accuracy</th>\n",
       "      <th>test_precision</th>\n",
       "      <th>test_recall</th>\n",
       "      <th>test_f1_score</th>\n",
       "      <th>test_roc_auc_score</th>\n",
       "      <th>test_mcc</th>\n",
       "    </tr>\n",
       "  </thead>\n",
       "  <tbody>\n",
       "    <tr>\n",
       "      <th>0</th>\n",
       "      <td>0.99972</td>\n",
       "      <td>0.97208</td>\n",
       "      <td>0.80710</td>\n",
       "      <td>0.88188</td>\n",
       "      <td>0.90354</td>\n",
       "      <td>0.88560</td>\n",
       "    </tr>\n",
       "  </tbody>\n",
       "</table>\n",
       "</div>"
      ],
      "text/plain": [
       "   test_accuracy  test_precision  test_recall  test_f1_score  \\\n",
       "0        0.99972         0.97208      0.80710        0.88188   \n",
       "\n",
       "   test_roc_auc_score  test_mcc  \n",
       "0             0.90354   0.88560  "
      ]
     },
     "execution_count": 9,
     "metadata": {},
     "output_type": "execute_result"
    }
   ],
   "source": [
    "performance(pipe, X_train, y_train)"
   ]
  },
  {
   "cell_type": "code",
   "execution_count": 10,
   "id": "d1478723",
   "metadata": {
    "ExecuteTime": {
     "end_time": "2022-05-17T13:43:13.174455Z",
     "start_time": "2022-05-17T13:43:02.004847Z"
    }
   },
   "outputs": [
    {
     "data": {
      "image/png": "[encoded data removed]",
      "text/plain": [
       "<Figure size 432x288 with 1 Axes>"
      ]
     },
     "metadata": {
      "needs_background": "light"
     },
     "output_type": "display_data"
    }
   ],
   "source": [
    "precision_recall_curve_graph(pipe, X_train, y_train)"
   ]
  },
  {
   "cell_type": "code",
   "execution_count": 11,
   "id": "bf0487d7",
   "metadata": {
    "ExecuteTime": {
     "end_time": "2022-05-17T13:43:25.903182Z",
     "start_time": "2022-05-17T13:43:13.175921Z"
    }
   },
   "outputs": [
    {
     "name": "stdout",
     "output_type": "stream",
     "text": [
      "No Skill: ROC AUC=0.500\n",
      "Model: ROC AUC=1.000\n"
     ]
    },
    {
     "data": {
      "image/png": "[encoded data removed]",
      "text/plain": [
       "<Figure size 432x288 with 1 Axes>"
      ]
     },
     "metadata": {
      "needs_background": "light"
     },
     "output_type": "display_data"
    }
   ],
   "source": [
    "roc_curve_graph(pipe, X_train, y_train)"
   ]
  },
  {
   "cell_type": "code",
   "execution_count": 12,
   "id": "c4cda740",
   "metadata": {
    "ExecuteTime": {
     "end_time": "2022-05-17T13:43:40.866172Z",
     "start_time": "2022-05-17T13:43:25.904605Z"
    }
   },
   "outputs": [
    {
     "name": "stdout",
     "output_type": "stream",
     "text": [
      "              precision    recall  f1-score   support\n",
      "\n",
      "           0       1.00      1.00      1.00   4403608\n",
      "           1       1.00      1.00      1.00      5687\n",
      "\n",
      "    accuracy                           1.00   4409295\n",
      "   macro avg       1.00      1.00      1.00   4409295\n",
      "weighted avg       1.00      1.00      1.00   4409295\n",
      "\n"
     ]
    }
   ],
   "source": [
    "create_classification_report(pipe, X_train, y_train)"
   ]
  },
  {
   "cell_type": "markdown",
   "id": "1f6c8f18",
   "metadata": {},
   "source": [
    "## 5.2. Performance valid dataset"
   ]
  },
  {
   "cell_type": "code",
   "execution_count": 13,
   "id": "12702ad6",
   "metadata": {
    "ExecuteTime": {
     "end_time": "2022-05-17T13:48:15.061145Z",
     "start_time": "2022-05-17T13:43:40.867239Z"
    }
   },
   "outputs": [
    {
     "data": {
      "text/html": [
       "<div>\n",
       "<style scoped>\n",
       "    .dataframe tbody tr th:only-of-type {\n",
       "        vertical-align: middle;\n",
       "    }\n",
       "\n",
       "    .dataframe tbody tr th {\n",
       "        vertical-align: top;\n",
       "    }\n",
       "\n",
       "    .dataframe thead th {\n",
       "        text-align: right;\n",
       "    }\n",
       "</style>\n",
       "<table border=\"1\" class=\"dataframe\">\n",
       "  <thead>\n",
       "    <tr style=\"text-align: right;\">\n",
       "      <th></th>\n",
       "      <th>test_accuracy</th>\n",
       "      <th>test_precision</th>\n",
       "      <th>test_recall</th>\n",
       "      <th>test_f1_score</th>\n",
       "      <th>test_roc_auc_score</th>\n",
       "      <th>test_mcc</th>\n",
       "    </tr>\n",
       "  </thead>\n",
       "  <tbody>\n",
       "    <tr>\n",
       "      <th>0</th>\n",
       "      <td>0.99970</td>\n",
       "      <td>0.96686</td>\n",
       "      <td>0.79162</td>\n",
       "      <td>0.87042</td>\n",
       "      <td>0.89579</td>\n",
       "      <td>0.87467</td>\n",
       "    </tr>\n",
       "  </tbody>\n",
       "</table>\n",
       "</div>"
      ],
      "text/plain": [
       "   test_accuracy  test_precision  test_recall  test_f1_score  \\\n",
       "0        0.99970         0.96686      0.79162        0.87042   \n",
       "\n",
       "   test_roc_auc_score  test_mcc  \n",
       "0             0.89579   0.87467  "
      ]
     },
     "execution_count": 13,
     "metadata": {},
     "output_type": "execute_result"
    }
   ],
   "source": [
    "performance(pipe, X_valid, y_valid)"
   ]
  },
  {
   "cell_type": "code",
   "execution_count": 14,
   "id": "a688c3c7",
   "metadata": {
    "ExecuteTime": {
     "end_time": "2022-05-17T13:48:19.819088Z",
     "start_time": "2022-05-17T13:48:15.062244Z"
    }
   },
   "outputs": [
    {
     "data": {
      "image/png": "[encoded data removed]",
      "text/plain": [
       "<Figure size 432x288 with 1 Axes>"
      ]
     },
     "metadata": {
      "needs_background": "light"
     },
     "output_type": "display_data"
    }
   ],
   "source": [
    "precision_recall_curve_graph(pipe, X_valid, y_valid)"
   ]
  },
  {
   "cell_type": "code",
   "execution_count": 15,
   "id": "99708bda",
   "metadata": {
    "ExecuteTime": {
     "end_time": "2022-05-17T13:48:25.179852Z",
     "start_time": "2022-05-17T13:48:19.820139Z"
    }
   },
   "outputs": [
    {
     "name": "stdout",
     "output_type": "stream",
     "text": [
      "No Skill: ROC AUC=0.500\n",
      "Model: ROC AUC=0.996\n"
     ]
    },
    {
     "data": {
      "image/png": "[encoded data removed]",
      "text/plain": [
       "<Figure size 432x288 with 1 Axes>"
      ]
     },
     "metadata": {
      "needs_background": "light"
     },
     "output_type": "display_data"
    }
   ],
   "source": [
    "roc_curve_graph(pipe, X_valid, y_valid)"
   ]
  },
  {
   "cell_type": "code",
   "execution_count": 16,
   "id": "d9111010",
   "metadata": {
    "ExecuteTime": {
     "end_time": "2022-05-17T13:48:31.287656Z",
     "start_time": "2022-05-17T13:48:25.180873Z"
    }
   },
   "outputs": [
    {
     "name": "stdout",
     "output_type": "stream",
     "text": [
      "              precision    recall  f1-score   support\n",
      "\n",
      "           0       1.00      1.00      1.00   1887261\n",
      "           1       0.97      0.83      0.89      2438\n",
      "\n",
      "    accuracy                           1.00   1889699\n",
      "   macro avg       0.99      0.91      0.95   1889699\n",
      "weighted avg       1.00      1.00      1.00   1889699\n",
      "\n"
     ]
    }
   ],
   "source": [
    "create_classification_report(pipe, X_valid, y_valid)"
   ]
  },
  {
   "cell_type": "markdown",
   "id": "2ab99b26",
   "metadata": {},
   "source": [
    "## 5.3. Performance test dataset"
   ]
  },
  {
   "cell_type": "code",
   "execution_count": 17,
   "id": "b01dc4ae",
   "metadata": {
    "ExecuteTime": {
     "end_time": "2022-05-17T13:48:31.306307Z",
     "start_time": "2022-05-17T13:48:31.288951Z"
    }
   },
   "outputs": [],
   "source": [
    "X_test = df_test[features].copy()\n",
    "y_test = df_test[target]\n",
    "\n",
    "\n",
    "for col in cols_to_include:\n",
    "    X_test[col] = X_test[col].astype('category')\n",
    "    \n",
    "X_test.drop(columns_drop, axis=1, inplace=True)"
   ]
  },
  {
   "cell_type": "code",
   "execution_count": 18,
   "id": "eb11c689",
   "metadata": {
    "ExecuteTime": {
     "end_time": "2022-05-17T13:48:35.378902Z",
     "start_time": "2022-05-17T13:48:31.307446Z"
    }
   },
   "outputs": [
    {
     "data": {
      "text/html": [
       "<div>\n",
       "<style scoped>\n",
       "    .dataframe tbody tr th:only-of-type {\n",
       "        vertical-align: middle;\n",
       "    }\n",
       "\n",
       "    .dataframe tbody tr th {\n",
       "        vertical-align: top;\n",
       "    }\n",
       "\n",
       "    .dataframe thead th {\n",
       "        text-align: right;\n",
       "    }\n",
       "</style>\n",
       "<table border=\"1\" class=\"dataframe\">\n",
       "  <thead>\n",
       "    <tr style=\"text-align: right;\">\n",
       "      <th></th>\n",
       "      <th>test_accuracy</th>\n",
       "      <th>test_precision</th>\n",
       "      <th>test_recall</th>\n",
       "      <th>test_f1_score</th>\n",
       "      <th>test_roc_auc_score</th>\n",
       "      <th>test_mcc</th>\n",
       "    </tr>\n",
       "  </thead>\n",
       "  <tbody>\n",
       "    <tr>\n",
       "      <th>0</th>\n",
       "      <td>0.99958</td>\n",
       "      <td>0.95673</td>\n",
       "      <td>0.72680</td>\n",
       "      <td>0.82421</td>\n",
       "      <td>0.86338</td>\n",
       "      <td>0.83274</td>\n",
       "    </tr>\n",
       "  </tbody>\n",
       "</table>\n",
       "</div>"
      ],
      "text/plain": [
       "   test_accuracy  test_precision  test_recall  test_f1_score  \\\n",
       "0        0.99958         0.95673      0.72680        0.82421   \n",
       "\n",
       "   test_roc_auc_score  test_mcc  \n",
       "0             0.86338   0.83274  "
      ]
     },
     "execution_count": 18,
     "metadata": {},
     "output_type": "execute_result"
    }
   ],
   "source": [
    "performance(pipe, X_test, y_test)"
   ]
  },
  {
   "cell_type": "code",
   "execution_count": 19,
   "id": "1daed7ee",
   "metadata": {
    "ExecuteTime": {
     "end_time": "2022-05-17T13:48:35.618794Z",
     "start_time": "2022-05-17T13:48:35.380031Z"
    }
   },
   "outputs": [
    {
     "data": {
      "image/png": "[encoded data removed]",
      "text/plain": [
       "<Figure size 432x288 with 1 Axes>"
      ]
     },
     "metadata": {
      "needs_background": "light"
     },
     "output_type": "display_data"
    }
   ],
   "source": [
    "precision_recall_curve_graph(pipe, X_test, y_test)"
   ]
  },
  {
   "cell_type": "code",
   "execution_count": 20,
   "id": "f5c0d5fb",
   "metadata": {
    "ExecuteTime": {
     "end_time": "2022-05-17T13:48:35.872556Z",
     "start_time": "2022-05-17T13:48:35.619781Z"
    }
   },
   "outputs": [
    {
     "name": "stdout",
     "output_type": "stream",
     "text": [
      "No Skill: ROC AUC=0.500\n",
      "Model: ROC AUC=0.994\n"
     ]
    },
    {
     "data": {
      "image/png": "[encoded data removed]",
      "text/plain": [
       "<Figure size 432x288 with 1 Axes>"
      ]
     },
     "metadata": {
      "needs_background": "light"
     },
     "output_type": "display_data"
    }
   ],
   "source": [
    "roc_curve_graph(pipe,  X_test, y_test)"
   ]
  },
  {
   "cell_type": "code",
   "execution_count": 21,
   "id": "9a82c27c",
   "metadata": {
    "ExecuteTime": {
     "end_time": "2022-05-17T13:48:36.065278Z",
     "start_time": "2022-05-17T13:48:35.874007Z"
    }
   },
   "outputs": [
    {
     "name": "stdout",
     "output_type": "stream",
     "text": [
      "              precision    recall  f1-score   support\n",
      "\n",
      "           0       1.00      1.00      1.00     63538\n",
      "           1       0.92      0.77      0.84        88\n",
      "\n",
      "    accuracy                           1.00     63626\n",
      "   macro avg       0.96      0.89      0.92     63626\n",
      "weighted avg       1.00      1.00      1.00     63626\n",
      "\n"
     ]
    }
   ],
   "source": [
    "create_classification_report(pipe, X_test, y_test)"
   ]
  },
  {
   "cell_type": "markdown",
   "id": "976d3f02",
   "metadata": {},
   "source": [
    "### 5.3.1. Diagnose calibration"
   ]
  },
  {
   "cell_type": "code",
   "execution_count": 22,
   "id": "9be81591",
   "metadata": {
    "ExecuteTime": {
     "end_time": "2022-05-17T13:48:36.288912Z",
     "start_time": "2022-05-17T13:48:36.066503Z"
    }
   },
   "outputs": [
    {
     "data": {
      "image/png": "[encoded data removed]",
      "text/plain": [
       "<Figure size 432x288 with 1 Axes>"
      ]
     },
     "metadata": {
      "needs_background": "light"
     },
     "output_type": "display_data"
    }
   ],
   "source": [
    "probs = pipe.predict_proba(X_test)[:,1]\n",
    "\n",
    "fop, mpv = calibration.calibration_curve(y_test, probs, n_bins=10, normalize=True)\n",
    "\n",
    "plt.plot([0, 1], [0, 1], linestyle='--')\n",
    "plt.plot(mpv, fop, marker='.')\n",
    "plt.show()"
   ]
  },
  {
   "cell_type": "markdown",
   "id": "cd31f4d5",
   "metadata": {},
   "source": [
    "## 5.4. Calibration classifier"
   ]
  },
  {
   "cell_type": "code",
   "execution_count": 23,
   "id": "48775112",
   "metadata": {
    "ExecuteTime": {
     "end_time": "2022-05-17T14:01:02.746587Z",
     "start_time": "2022-05-17T13:48:36.290115Z"
    }
   },
   "outputs": [
    {
     "data": {
      "text/plain": [
       "CalibratedClassifierCV(base_estimator=Pipeline(steps=[('enconding_rare',\n",
       "                                                       RareLabelEncoder(variables=['type',\n",
       "                                                                                   'isFlaggedFraud'])),\n",
       "                                                      ('enconding_cat',\n",
       "                                                       CountFrequencyEncoder(variables=['is_new_balance_dest_zero',\n",
       "                                                                                        'type',\n",
       "                                                                                        'is_orig_old_balance_greater_new',\n",
       "                                                                                        'is_M_customer',\n",
       "                                                                                        'is_high_amount',\n",
       "                                                                                        'is_new_balance_orig_zero',\n",
       "                                                                                        'is_dest_old_balance_greater_new',\n",
       "                                                                                        'isFlaggedFraud'])),\n",
       "                                                      ('enconding_num',\n",
       "                                                       SklearnTransformerWrapper(transformer=StandardScaler(),\n",
       "                                                                                 variables=['amount',\n",
       "                                                                                            'oldbalanceOrg',\n",
       "                                                                                            'newbalanceOrig',\n",
       "                                                                                            'oldbalanceDest',\n",
       "                                                                                            'newbalanceDest',\n",
       "                                                                                            'diff_orig',\n",
       "                                                                                            'diff_dest'])),\n",
       "                                                      ('model',\n",
       "                                                       RandomForestClassifier(n_jobs=-1,\n",
       "                                                                              random_state=42))]),\n",
       "                       cv=5)"
      ]
     },
     "execution_count": 23,
     "metadata": {},
     "output_type": "execute_result"
    }
   ],
   "source": [
    "calibrator = calibration.CalibratedClassifierCV(pipe, cv=5)\n",
    "calibrator.fit(X_train, y_train)"
   ]
  },
  {
   "cell_type": "markdown",
   "id": "a1da9b34",
   "metadata": {},
   "source": [
    "### 5.4.1. Calibration performance"
   ]
  },
  {
   "cell_type": "code",
   "execution_count": 24,
   "id": "4443678c",
   "metadata": {
    "ExecuteTime": {
     "end_time": "2022-05-17T14:01:22.221156Z",
     "start_time": "2022-05-17T14:01:02.748047Z"
    }
   },
   "outputs": [
    {
     "data": {
      "text/html": [
       "<div>\n",
       "<style scoped>\n",
       "    .dataframe tbody tr th:only-of-type {\n",
       "        vertical-align: middle;\n",
       "    }\n",
       "\n",
       "    .dataframe tbody tr th {\n",
       "        vertical-align: top;\n",
       "    }\n",
       "\n",
       "    .dataframe thead th {\n",
       "        text-align: right;\n",
       "    }\n",
       "</style>\n",
       "<table border=\"1\" class=\"dataframe\">\n",
       "  <thead>\n",
       "    <tr style=\"text-align: right;\">\n",
       "      <th></th>\n",
       "      <th>test_accuracy</th>\n",
       "      <th>test_precision</th>\n",
       "      <th>test_recall</th>\n",
       "      <th>test_f1_score</th>\n",
       "      <th>test_roc_auc_score</th>\n",
       "      <th>test_mcc</th>\n",
       "    </tr>\n",
       "  </thead>\n",
       "  <tbody>\n",
       "    <tr>\n",
       "      <th>0</th>\n",
       "      <td>0.99956</td>\n",
       "      <td>0.97212</td>\n",
       "      <td>0.70458</td>\n",
       "      <td>0.81371</td>\n",
       "      <td>0.85227</td>\n",
       "      <td>0.82571</td>\n",
       "    </tr>\n",
       "  </tbody>\n",
       "</table>\n",
       "</div>"
      ],
      "text/plain": [
       "   test_accuracy  test_precision  test_recall  test_f1_score  \\\n",
       "0        0.99956         0.97212      0.70458        0.81371   \n",
       "\n",
       "   test_roc_auc_score  test_mcc  \n",
       "0             0.85227   0.82571  "
      ]
     },
     "execution_count": 24,
     "metadata": {},
     "output_type": "execute_result"
    }
   ],
   "source": [
    "performance(calibrator, X_test, y_test)"
   ]
  },
  {
   "cell_type": "code",
   "execution_count": 25,
   "id": "77fbdf6a",
   "metadata": {
    "ExecuteTime": {
     "end_time": "2022-05-17T14:01:23.066062Z",
     "start_time": "2022-05-17T14:01:22.222103Z"
    }
   },
   "outputs": [
    {
     "data": {
      "image/png": "[encoded data removed]",
      "text/plain": [
       "<Figure size 432x288 with 1 Axes>"
      ]
     },
     "metadata": {
      "needs_background": "light"
     },
     "output_type": "display_data"
    }
   ],
   "source": [
    "probs = calibrator.predict_proba(X_test)[:, 1]\n",
    "\n",
    "fop, mpv = calibration.calibration_curve(y_test, probs, n_bins=10, normalize=True)\n",
    "plt.plot([0, 1], [0, 1], linestyle='--')\n",
    "plt.plot(mpv, fop, marker='.')\n",
    "plt.show()"
   ]
  },
  {
   "cell_type": "code",
   "execution_count": 26,
   "id": "893fbb34",
   "metadata": {
    "ExecuteTime": {
     "end_time": "2022-05-17T14:01:23.930646Z",
     "start_time": "2022-05-17T14:01:23.067103Z"
    }
   },
   "outputs": [
    {
     "data": {
      "image/png": "[encoded data removed]",
      "text/plain": [
       "<Figure size 432x288 with 1 Axes>"
      ]
     },
     "metadata": {
      "needs_background": "light"
     },
     "output_type": "display_data"
    }
   ],
   "source": [
    "precision_recall_curve_graph(calibrator, X_test, y_test)"
   ]
  },
  {
   "cell_type": "code",
   "execution_count": 27,
   "id": "f5300b61",
   "metadata": {
    "ExecuteTime": {
     "end_time": "2022-05-17T14:01:24.791395Z",
     "start_time": "2022-05-17T14:01:23.934253Z"
    }
   },
   "outputs": [
    {
     "name": "stdout",
     "output_type": "stream",
     "text": [
      "No Skill: ROC AUC=0.500\n",
      "Model: ROC AUC=0.994\n"
     ]
    },
    {
     "data": {
      "image/png": "[encoded data removed]",
      "text/plain": [
       "<Figure size 432x288 with 1 Axes>"
      ]
     },
     "metadata": {
      "needs_background": "light"
     },
     "output_type": "display_data"
    }
   ],
   "source": [
    "roc_curve_graph(calibrator,  X_test, y_test)"
   ]
  },
  {
   "cell_type": "code",
   "execution_count": 28,
   "id": "63448715",
   "metadata": {
    "ExecuteTime": {
     "end_time": "2022-05-17T14:01:25.614878Z",
     "start_time": "2022-05-17T14:01:24.792467Z"
    }
   },
   "outputs": [
    {
     "name": "stdout",
     "output_type": "stream",
     "text": [
      "              precision    recall  f1-score   support\n",
      "\n",
      "           0       1.00      1.00      1.00     63538\n",
      "           1       0.88      0.81      0.84        88\n",
      "\n",
      "    accuracy                           1.00     63626\n",
      "   macro avg       0.94      0.90      0.92     63626\n",
      "weighted avg       1.00      1.00      1.00     63626\n",
      "\n"
     ]
    }
   ],
   "source": [
    "create_classification_report(calibrator, X_test, y_test)"
   ]
  },
  {
   "cell_type": "markdown",
   "id": "1665c305",
   "metadata": {},
   "source": [
    "### 5.4.2. Saving calibrator model"
   ]
  },
  {
   "cell_type": "code",
   "execution_count": 29,
   "id": "4a265398",
   "metadata": {
    "ExecuteTime": {
     "end_time": "2022-05-17T14:01:26.597235Z",
     "start_time": "2022-05-17T14:01:25.615966Z"
    }
   },
   "outputs": [
    {
     "data": {
      "text/plain": [
       "['../models/model_calibrated_cicle_1.pkl']"
      ]
     },
     "execution_count": 29,
     "metadata": {},
     "output_type": "execute_result"
    }
   ],
   "source": [
    "joblib.dump(calibrator, '../models/model_calibrated_cicle_1.pkl', compress = 1)"
   ]
  },
  {
   "cell_type": "markdown",
   "id": "ed9a3587",
   "metadata": {},
   "source": [
    "# 6. Conclusion"
   ]
  },
  {
   "cell_type": "markdown",
   "id": "dec4c7e8",
   "metadata": {},
   "source": [
    "Iniciamos a avaliação da performance do modelo com os dados de treino onde podemos perceber uma alta performance nos dados onde o modelo foi treinado, evidenciando que é possível que o modelo seja ensinado a partir dos dados oferecidos pela empresa, porém devemos validar o modelo com dados onde ele não foi treinado, que são os dados de validação, e mesmo assim o modelo se sai bem mesmo com dados que não foram apresentados à ele.\n",
    "\n",
    "Para que possamos criar um cenário para testar como o modelo se sairá em produção, os dados de teste foi separado desde o início do projeto (notebook 1) existindo assim uma queda na performace porém está em um nível aceitável de precision e recall, tornando o modelo válido para os próximos passos.\n",
    "\n",
    "A calibração do modelo de classificação utiliza as probabilidades dos registros ser rotulados com o nosso target, ajudando o modelo a calibrar qual será a melhor probabilidade para prever a classe do registro. Neste ciclo estamos usando RandomForest para previsão, o calibrador irá auxiliar na predição das probabilidade e possivelmente aumentar a sua performance, é o que vimos no resultado, tivemos aumento na sua precision e consequentemente na f1-score, mas a recall caiu, como estamos no primeiro ciclo vamos continuar com o modelo anterior pelo fato que gostariamos que o modelo tenha um recall alto."
   ]
  }
 ],
 "metadata": {
  "kernelspec": {
   "display_name": "Python 3 (ipykernel)",
   "language": "python",
   "name": "python3"
  },
  "language_info": {
   "codemirror_mode": {
    "name": "ipython",
    "version": 3
   },
   "file_extension": ".py",
   "mimetype": "text/x-python",
   "name": "python",
   "nbconvert_exporter": "python",
   "pygments_lexer": "ipython3",
   "version": "3.9.7"
  },
  "notify_time": "5",
  "toc": {
   "base_numbering": 1,
   "nav_menu": {},
   "number_sections": true,
   "sideBar": true,
   "skip_h1_title": false,
   "title_cell": "Table of Contents",
   "title_sidebar": "Contents",
   "toc_cell": false,
   "toc_position": {},
   "toc_section_display": true,
   "toc_window_display": false
  },
  "varInspector": {
   "cols": {
    "lenName": 16,
    "lenType": 16,
    "lenVar": 40
   },
   "kernels_config": {
    "python": {
     "delete_cmd_postfix": "",
     "delete_cmd_prefix": "del ",
     "library": "var_list.py",
     "varRefreshCmd": "print(var_dic_list())"
    },
    "r": {
     "delete_cmd_postfix": ") ",
     "delete_cmd_prefix": "rm(",
     "library": "var_list.r",
     "varRefreshCmd": "cat(var_dic_list()) "
    }
   },
   "types_to_exclude": [
    "module",
    "function",
    "builtin_function_or_method",
    "instance",
    "_Feature"
   ],
   "window_display": false
  }
 },
 "nbformat": 4,
 "nbformat_minor": 5
}
