{
 "cells": [
  {
   "cell_type": "markdown",
   "id": "8fe8321b",
   "metadata": {},
   "source": [
    "# 1. Blocker Fraud Company\n",
    " <font size=\"2\"> Dados e problema negócio hipotéticos</font>\n",
    " \n",
    "A Blocker Fraud Company é uma empresa especializada na detecção de fraudes em transações financeiras feitas atravś de dispositivos móveis.\n",
    "\n",
    "O modelo de negócio da empresa é do tipo Serviço com a monetização feita por performance do serviço prestado, ou seja, o usuário paga uma taxa fixa sobre o sucesso da detecção de fraude das transações.\n",
    "\n",
    "## 1.1. Estratégia de expansão\n",
    "\n",
    "A Blocker Fraud Company está em fase de expansão no Brasil e para adquirir clientes mais rapidamente, ela adotou uma estratégia muito agressiva. A estratégia funciona da seguinte forma:\n",
    "\n",
    "1. A empresa vai receber 25% do valor de cada transação detectada verdadeiramente como fraude.\n",
    "2. A empresa vai receber 5% do valor de cada transação detectada como fraude, porém a transação é verdadeiramente legítima.\n",
    "3. A empresa vai devolver 100% do valor para o cliente, a cada transação detectada como legítima, porém a transação é verdadeiramente uma fraude.\n",
    "\n",
    "Com essa estratégia agressiva a empresa assume os riscos em falhar na detecção de fraude e é remunerada na detecção assertiva das fraudes.\n",
    "\n",
    "## 1.2. Objetivo\n",
    "\n",
    "Criar um modelo de alta precisão e acurácia na detecção de fraudes de transações feitas através de dispositivos móveis.\n",
    "\n",
    "### 1.2.1. Entregáveis\n",
    "\n",
    "Modelo em produção no qual seu acesso será feito via API, ou seja, os clientes enviarão suas transações via API para que o seu modelo as classifique como fraudulentas ou legítimas.\n",
    "\n",
    "Além disso, você precisará entregar um relatório reportando a performance e os resultados do seu modelo em relação ao lucro e prejuízo que a empresa terá ao usar o modelo que você produziu. No seu relatório deve conter as respostas para as seguintes perguntas:\n",
    "\n",
    "1. Qual a Precisão e Acurácia do modelo?\n",
    "2. Qual a Confiabilidade do modelo em classificar as transações como legítimas ou fraudulentas?\n",
    "3. Qual o Faturamento Esperado pela Empresa se classificarmos 100% das transações com o modelo?\n",
    "4. Qual o Prejuízo Esperado pela Empresa em caso de falha do modelo?\n",
    "5. Qual o Lucro Esperado pela Blocker Fraud Company ao utilizar o modelo?"
   ]
  },
  {
   "cell_type": "markdown",
   "id": "ef472ae8",
   "metadata": {},
   "source": [
    "# 2. Imports"
   ]
  },
  {
   "cell_type": "code",
   "execution_count": 1,
   "id": "be62b7af",
   "metadata": {
    "ExecuteTime": {
     "end_time": "2022-05-17T14:52:55.589349Z",
     "start_time": "2022-05-17T14:52:54.712807Z"
    }
   },
   "outputs": [],
   "source": [
    "import numpy as np\n",
    "import pandas as pd\n",
    "import matplotlib.pyplot as plt\n",
    "import joblib\n",
    "\n",
    "#display\n",
    "pd.set_option('display.float_format', lambda x: '%.5f' % x)\n",
    "\n",
    "#ignore warnings\n",
    "import warnings\n",
    "warnings.filterwarnings(\"ignore\")\n",
    "\n",
    "from sklearn import model_selection\n",
    "from sklearn import ensemble\n",
    "from sklearn import tree\n",
    "from sklearn import linear_model\n",
    "from sklearn import pipeline\n",
    "from sklearn import preprocessing\n",
    "\n",
    "from scipy import stats\n",
    "\n",
    "\n",
    "from feature_engine import wrappers \n",
    "from feature_engine import selection\n",
    "from feature_engine import imputation\n",
    "from feature_engine import encoding\n",
    "from feature_engine import discretisation\n",
    "\n",
    "from sklearn.metrics import accuracy_score, precision_score, recall_score, f1_score, roc_auc_score,\\\n",
    "confusion_matrix, matthews_corrcoef, make_scorer, roc_curve, precision_recall_curve, classification_report"
   ]
  },
  {
   "cell_type": "markdown",
   "id": "f60674db",
   "metadata": {},
   "source": [
    "## 2.1. Utils functions"
   ]
  },
  {
   "cell_type": "code",
   "execution_count": 2,
   "id": "92a649e3",
   "metadata": {
    "ExecuteTime": {
     "end_time": "2022-05-17T14:52:55.602109Z",
     "start_time": "2022-05-17T14:52:55.598632Z"
    }
   },
   "outputs": [],
   "source": [
    "def performance(model, x_train, y_train):\n",
    "    \n",
    "    scoring = {'accuracy': 'accuracy',\n",
    "               'precision': make_scorer(precision_score),\n",
    "               'recall': make_scorer(recall_score),\n",
    "               'f1_score': make_scorer(f1_score),\n",
    "               'roc_auc_score': make_scorer(roc_auc_score),\n",
    "               'mcc': make_scorer(matthews_corrcoef)}\n",
    "\n",
    "    scores = model_selection.cross_validate(model, x_train, y_train, cv=5, scoring=scoring)\n",
    "\n",
    "    performance = pd.DataFrame.from_dict(scores).drop(['fit_time', 'score_time'], axis=1)\n",
    "    performance = pd.DataFrame(performance.mean()).T\n",
    "    return performance"
   ]
  },
  {
   "cell_type": "markdown",
   "id": "04cb3a11",
   "metadata": {},
   "source": [
    "# 3. Data"
   ]
  },
  {
   "cell_type": "markdown",
   "id": "f49dc166",
   "metadata": {},
   "source": [
    "## 3.1. Load dataset"
   ]
  },
  {
   "cell_type": "code",
   "execution_count": 3,
   "id": "5128588c",
   "metadata": {
    "ExecuteTime": {
     "end_time": "2022-05-17T14:53:02.042494Z",
     "start_time": "2022-05-17T14:52:56.663759Z"
    }
   },
   "outputs": [],
   "source": [
    "df = pd.read_parquet('../data/raw/df_applied_features.parquet.gzip') "
   ]
  },
  {
   "cell_type": "code",
   "execution_count": 4,
   "id": "144e4f27",
   "metadata": {
    "ExecuteTime": {
     "end_time": "2022-05-17T14:53:02.117038Z",
     "start_time": "2022-05-17T14:53:02.061969Z"
    }
   },
   "outputs": [],
   "source": [
    "df_test = pd.read_parquet('../data/raw/df_applied_features_test.parquet.gzip') "
   ]
  },
  {
   "cell_type": "markdown",
   "id": "02fe42a3",
   "metadata": {},
   "source": [
    "# 4. Model"
   ]
  },
  {
   "cell_type": "markdown",
   "id": "4cffb143",
   "metadata": {},
   "source": [
    "## 4.1. Define feature and target"
   ]
  },
  {
   "cell_type": "code",
   "execution_count": 5,
   "id": "ff46636f",
   "metadata": {
    "ExecuteTime": {
     "end_time": "2022-05-17T14:53:02.549703Z",
     "start_time": "2022-05-17T14:53:02.143169Z"
    }
   },
   "outputs": [],
   "source": [
    "features = df.drop('isFraud', axis=1).columns.tolist()\n",
    "target = 'isFraud'"
   ]
  },
  {
   "cell_type": "markdown",
   "id": "36363c34",
   "metadata": {},
   "source": [
    "## 4.2. Split data into train, valid and test"
   ]
  },
  {
   "cell_type": "code",
   "execution_count": 6,
   "id": "b8bdcffb",
   "metadata": {
    "ExecuteTime": {
     "end_time": "2022-05-17T14:53:07.431321Z",
     "start_time": "2022-05-17T14:53:02.576833Z"
    }
   },
   "outputs": [],
   "source": [
    "X = df[features]\n",
    "y = df[target].values\n",
    "\n",
    "X_train, X_valid, y_train, y_valid = model_selection.train_test_split(X,\n",
    "                                                                      y,\n",
    "                                                                      random_state=42,\n",
    "                                                                      test_size=0.3,\n",
    "                                                                      stratify=y)"
   ]
  },
  {
   "cell_type": "code",
   "execution_count": 7,
   "id": "08c5c4da",
   "metadata": {
    "ExecuteTime": {
     "end_time": "2022-05-17T14:53:08.308679Z",
     "start_time": "2022-05-17T14:53:07.497540Z"
    }
   },
   "outputs": [],
   "source": [
    "cols_to_include = ['isFlaggedFraud', 'is_high_amount', 'is_M_customer', \n",
    "                   'is_new_balance_orig_zero', 'is_orig_old_balance_greater_new',\n",
    "                   'is_new_balance_dest_zero', 'is_dest_old_balance_greater_new']\n",
    "\n",
    "columns_drop = ['nameOrig', 'nameDest']\n",
    "\n",
    "for col in cols_to_include:\n",
    "    X_train[col] = X_train[col].astype('category')\n",
    "    X_valid[col] = X_valid[col].astype('category')\n",
    "    \n",
    "X_train.drop(columns_drop, axis=1, inplace=True)\n",
    "X_valid.drop(columns_drop, axis=1, inplace=True)"
   ]
  },
  {
   "cell_type": "code",
   "execution_count": 8,
   "id": "673b573c",
   "metadata": {
    "ExecuteTime": {
     "end_time": "2022-05-17T14:53:08.378411Z",
     "start_time": "2022-05-17T14:53:08.362883Z"
    }
   },
   "outputs": [],
   "source": [
    "X_test = df_test[features].copy()\n",
    "y_test = df_test[target]\n",
    "\n",
    "\n",
    "for col in cols_to_include:\n",
    "    X_test[col] = X_test[col].astype('category')\n",
    "    \n",
    "X_test.drop(columns_drop, axis=1, inplace=True)"
   ]
  },
  {
   "cell_type": "markdown",
   "id": "0087923c",
   "metadata": {},
   "source": [
    "## 4.3. Pipeline"
   ]
  },
  {
   "cell_type": "code",
   "execution_count": 9,
   "id": "6f46ce73",
   "metadata": {
    "ExecuteTime": {
     "end_time": "2022-05-17T14:53:08.444500Z",
     "start_time": "2022-05-17T14:53:08.442292Z"
    }
   },
   "outputs": [],
   "source": [
    "cat_features = ['is_new_balance_dest_zero',\n",
    "                'type',\n",
    "                'is_orig_old_balance_greater_new',\n",
    "                'is_M_customer',\n",
    "                'is_high_amount',\n",
    "                'is_new_balance_orig_zero',\n",
    "                'is_dest_old_balance_greater_new',\n",
    "                'isFlaggedFraud']\n",
    "num_features = ['amount',\n",
    "                'oldbalanceOrg',\n",
    "                'newbalanceOrig',\n",
    "                'oldbalanceDest',\n",
    "                'newbalanceDest',\n",
    "                'diff_orig',\n",
    "                'diff_dest']"
   ]
  },
  {
   "cell_type": "code",
   "execution_count": 10,
   "id": "80f2797c",
   "metadata": {
    "ExecuteTime": {
     "end_time": "2022-05-17T14:53:08.508193Z",
     "start_time": "2022-05-17T14:53:08.506271Z"
    }
   },
   "outputs": [],
   "source": [
    "rf_clf = ensemble.RandomForestClassifier(n_jobs = -1, random_state=42)"
   ]
  },
  {
   "cell_type": "code",
   "execution_count": 11,
   "id": "76060765",
   "metadata": {
    "ExecuteTime": {
     "end_time": "2022-05-17T14:53:08.574267Z",
     "start_time": "2022-05-17T14:53:08.572073Z"
    }
   },
   "outputs": [],
   "source": [
    "cat_enc = encoding.CountFrequencyEncoder(variables=cat_features)\n",
    "rare_enc = encoding.RareLabelEncoder(variables=['type', 'isFlaggedFraud'])\n",
    "numerical_enc = wrappers.SklearnTransformerWrapper(transformer = preprocessing.StandardScaler(),\n",
    "                                                   variables = num_features)"
   ]
  },
  {
   "cell_type": "code",
   "execution_count": 12,
   "id": "7e5726fa",
   "metadata": {
    "ExecuteTime": {
     "end_time": "2022-05-17T14:53:08.640869Z",
     "start_time": "2022-05-17T14:53:08.638711Z"
    }
   },
   "outputs": [],
   "source": [
    "pipe = pipeline.Pipeline(steps = [(\"enconding_rare\", rare_enc),\n",
    "                                  (\"enconding_cat\", cat_enc),\n",
    "                                  (\"enconding_num\", numerical_enc),\n",
    "                                  (\"model\", rf_clf)])"
   ]
  },
  {
   "cell_type": "markdown",
   "id": "a5c3a2fd",
   "metadata": {},
   "source": [
    "# 5. Hyperparameter tuning"
   ]
  },
  {
   "cell_type": "code",
   "execution_count": 13,
   "id": "7b7486de",
   "metadata": {
    "ExecuteTime": {
     "end_time": "2022-05-17T14:53:14.390776Z",
     "start_time": "2022-05-17T14:53:14.387973Z"
    }
   },
   "outputs": [],
   "source": [
    "param_grid = [{  \"model\": [ensemble.RandomForestClassifier()],\n",
    "                 \"model__n_estimators\": [10, 100, 1000],\n",
    "                 \"model__max_depth\":[5,8,15,25,30,None],\n",
    "                 \"model__min_samples_leaf\":[1,2,5,10,15,100],\n",
    "                 \"model__max_leaf_nodes\": [2, 5,10]}]"
   ]
  },
  {
   "cell_type": "code",
   "execution_count": 14,
   "id": "ec6ad09f",
   "metadata": {
    "ExecuteTime": {
     "end_time": "2022-05-17T16:51:10.669508Z",
     "start_time": "2022-05-17T14:53:14.779210Z"
    }
   },
   "outputs": [
    {
     "name": "stdout",
     "output_type": "stream",
     "text": [
      "Fitting 3 folds for each of 10 candidates, totalling 30 fits\n"
     ]
    },
    {
     "name": "stderr",
     "output_type": "stream",
     "text": [
      "/home/matheus/anaconda3/envs/blocker_fraud/lib/python3.9/site-packages/feature_engine/encoding/rare_label.py:161: UserWarning: The number of unique categories for variable type is less than that indicated in n_categories. Thus, all categories will be considered frequent\n",
      "  warnings.warn(\n",
      "/home/matheus/anaconda3/envs/blocker_fraud/lib/python3.9/site-packages/feature_engine/encoding/rare_label.py:161: UserWarning: The number of unique categories for variable isFlaggedFraud is less than that indicated in n_categories. Thus, all categories will be considered frequent\n",
      "  warnings.warn(\n",
      "/home/matheus/anaconda3/envs/blocker_fraud/lib/python3.9/site-packages/feature_engine/encoding/rare_label.py:161: UserWarning: The number of unique categories for variable type is less than that indicated in n_categories. Thus, all categories will be considered frequent\n",
      "  warnings.warn(\n",
      "/home/matheus/anaconda3/envs/blocker_fraud/lib/python3.9/site-packages/feature_engine/encoding/rare_label.py:161: UserWarning: The number of unique categories for variable type is less than that indicated in n_categories. Thus, all categories will be considered frequent\n",
      "  warnings.warn(\n",
      "/home/matheus/anaconda3/envs/blocker_fraud/lib/python3.9/site-packages/feature_engine/encoding/rare_label.py:161: UserWarning: The number of unique categories for variable isFlaggedFraud is less than that indicated in n_categories. Thus, all categories will be considered frequent\n",
      "  warnings.warn(\n",
      "/home/matheus/anaconda3/envs/blocker_fraud/lib/python3.9/site-packages/feature_engine/encoding/rare_label.py:161: UserWarning: The number of unique categories for variable isFlaggedFraud is less than that indicated in n_categories. Thus, all categories will be considered frequent\n",
      "  warnings.warn(\n",
      "/home/matheus/anaconda3/envs/blocker_fraud/lib/python3.9/site-packages/feature_engine/encoding/rare_label.py:161: UserWarning: The number of unique categories for variable type is less than that indicated in n_categories. Thus, all categories will be considered frequent\n",
      "  warnings.warn(\n",
      "/home/matheus/anaconda3/envs/blocker_fraud/lib/python3.9/site-packages/feature_engine/encoding/rare_label.py:161: UserWarning: The number of unique categories for variable isFlaggedFraud is less than that indicated in n_categories. Thus, all categories will be considered frequent\n",
      "  warnings.warn(\n",
      "/home/matheus/anaconda3/envs/blocker_fraud/lib/python3.9/site-packages/feature_engine/encoding/rare_label.py:161: UserWarning: The number of unique categories for variable type is less than that indicated in n_categories. Thus, all categories will be considered frequent\n",
      "  warnings.warn(\n",
      "/home/matheus/anaconda3/envs/blocker_fraud/lib/python3.9/site-packages/feature_engine/encoding/rare_label.py:161: UserWarning: The number of unique categories for variable isFlaggedFraud is less than that indicated in n_categories. Thus, all categories will be considered frequent\n",
      "  warnings.warn(\n",
      "/home/matheus/anaconda3/envs/blocker_fraud/lib/python3.9/site-packages/feature_engine/encoding/rare_label.py:161: UserWarning: The number of unique categories for variable type is less than that indicated in n_categories. Thus, all categories will be considered frequent\n",
      "  warnings.warn(\n",
      "/home/matheus/anaconda3/envs/blocker_fraud/lib/python3.9/site-packages/feature_engine/encoding/rare_label.py:161: UserWarning: The number of unique categories for variable isFlaggedFraud is less than that indicated in n_categories. Thus, all categories will be considered frequent\n",
      "  warnings.warn(\n",
      "/home/matheus/anaconda3/envs/blocker_fraud/lib/python3.9/site-packages/feature_engine/encoding/rare_label.py:161: UserWarning: The number of unique categories for variable type is less than that indicated in n_categories. Thus, all categories will be considered frequent\n",
      "  warnings.warn(\n",
      "/home/matheus/anaconda3/envs/blocker_fraud/lib/python3.9/site-packages/feature_engine/encoding/rare_label.py:161: UserWarning: The number of unique categories for variable isFlaggedFraud is less than that indicated in n_categories. Thus, all categories will be considered frequent\n",
      "  warnings.warn(\n",
      "/home/matheus/anaconda3/envs/blocker_fraud/lib/python3.9/site-packages/feature_engine/encoding/rare_label.py:161: UserWarning: The number of unique categories for variable type is less than that indicated in n_categories. Thus, all categories will be considered frequent\n",
      "  warnings.warn(\n",
      "/home/matheus/anaconda3/envs/blocker_fraud/lib/python3.9/site-packages/feature_engine/encoding/rare_label.py:161: UserWarning: The number of unique categories for variable isFlaggedFraud is less than that indicated in n_categories. Thus, all categories will be considered frequent\n",
      "  warnings.warn(\n",
      "/home/matheus/anaconda3/envs/blocker_fraud/lib/python3.9/site-packages/feature_engine/encoding/rare_label.py:161: UserWarning: The number of unique categories for variable type is less than that indicated in n_categories. Thus, all categories will be considered frequent\n",
      "  warnings.warn(\n",
      "/home/matheus/anaconda3/envs/blocker_fraud/lib/python3.9/site-packages/feature_engine/encoding/rare_label.py:161: UserWarning: The number of unique categories for variable isFlaggedFraud is less than that indicated in n_categories. Thus, all categories will be considered frequent\n",
      "  warnings.warn(\n",
      "/home/matheus/anaconda3/envs/blocker_fraud/lib/python3.9/site-packages/feature_engine/encoding/rare_label.py:161: UserWarning: The number of unique categories for variable type is less than that indicated in n_categories. Thus, all categories will be considered frequent\n",
      "  warnings.warn(\n",
      "/home/matheus/anaconda3/envs/blocker_fraud/lib/python3.9/site-packages/feature_engine/encoding/rare_label.py:161: UserWarning: The number of unique categories for variable isFlaggedFraud is less than that indicated in n_categories. Thus, all categories will be considered frequent\n",
      "  warnings.warn(\n",
      "/home/matheus/anaconda3/envs/blocker_fraud/lib/python3.9/site-packages/feature_engine/encoding/rare_label.py:161: UserWarning: The number of unique categories for variable type is less than that indicated in n_categories. Thus, all categories will be considered frequent\n",
      "  warnings.warn(\n",
      "/home/matheus/anaconda3/envs/blocker_fraud/lib/python3.9/site-packages/feature_engine/encoding/rare_label.py:161: UserWarning: The number of unique categories for variable isFlaggedFraud is less than that indicated in n_categories. Thus, all categories will be considered frequent\n",
      "  warnings.warn(\n",
      "/home/matheus/anaconda3/envs/blocker_fraud/lib/python3.9/site-packages/feature_engine/encoding/rare_label.py:161: UserWarning: The number of unique categories for variable type is less than that indicated in n_categories. Thus, all categories will be considered frequent\n",
      "  warnings.warn(\n",
      "/home/matheus/anaconda3/envs/blocker_fraud/lib/python3.9/site-packages/feature_engine/encoding/rare_label.py:161: UserWarning: The number of unique categories for variable isFlaggedFraud is less than that indicated in n_categories. Thus, all categories will be considered frequent\n",
      "  warnings.warn(\n",
      "/home/matheus/anaconda3/envs/blocker_fraud/lib/python3.9/site-packages/feature_engine/encoding/rare_label.py:161: UserWarning: The number of unique categories for variable type is less than that indicated in n_categories. Thus, all categories will be considered frequent\n",
      "  warnings.warn(\n",
      "/home/matheus/anaconda3/envs/blocker_fraud/lib/python3.9/site-packages/feature_engine/encoding/rare_label.py:161: UserWarning: The number of unique categories for variable isFlaggedFraud is less than that indicated in n_categories. Thus, all categories will be considered frequent\n",
      "  warnings.warn(\n",
      "/home/matheus/anaconda3/envs/blocker_fraud/lib/python3.9/site-packages/feature_engine/encoding/rare_label.py:161: UserWarning: The number of unique categories for variable type is less than that indicated in n_categories. Thus, all categories will be considered frequent\n",
      "  warnings.warn(\n",
      "/home/matheus/anaconda3/envs/blocker_fraud/lib/python3.9/site-packages/feature_engine/encoding/rare_label.py:161: UserWarning: The number of unique categories for variable isFlaggedFraud is less than that indicated in n_categories. Thus, all categories will be considered frequent\n",
      "  warnings.warn(\n"
     ]
    },
    {
     "name": "stderr",
     "output_type": "stream",
     "text": [
      "/home/matheus/anaconda3/envs/blocker_fraud/lib/python3.9/site-packages/feature_engine/encoding/rare_label.py:161: UserWarning: The number of unique categories for variable type is less than that indicated in n_categories. Thus, all categories will be considered frequent\n",
      "  warnings.warn(\n",
      "/home/matheus/anaconda3/envs/blocker_fraud/lib/python3.9/site-packages/feature_engine/encoding/rare_label.py:161: UserWarning: The number of unique categories for variable isFlaggedFraud is less than that indicated in n_categories. Thus, all categories will be considered frequent\n",
      "  warnings.warn(\n",
      "/home/matheus/anaconda3/envs/blocker_fraud/lib/python3.9/site-packages/feature_engine/encoding/rare_label.py:161: UserWarning: The number of unique categories for variable type is less than that indicated in n_categories. Thus, all categories will be considered frequent\n",
      "  warnings.warn(\n",
      "/home/matheus/anaconda3/envs/blocker_fraud/lib/python3.9/site-packages/feature_engine/encoding/rare_label.py:161: UserWarning: The number of unique categories for variable isFlaggedFraud is less than that indicated in n_categories. Thus, all categories will be considered frequent\n",
      "  warnings.warn(\n",
      "/home/matheus/anaconda3/envs/blocker_fraud/lib/python3.9/site-packages/feature_engine/encoding/rare_label.py:161: UserWarning: The number of unique categories for variable type is less than that indicated in n_categories. Thus, all categories will be considered frequent\n",
      "  warnings.warn(\n",
      "/home/matheus/anaconda3/envs/blocker_fraud/lib/python3.9/site-packages/feature_engine/encoding/rare_label.py:161: UserWarning: The number of unique categories for variable isFlaggedFraud is less than that indicated in n_categories. Thus, all categories will be considered frequent\n",
      "  warnings.warn(\n",
      "/home/matheus/anaconda3/envs/blocker_fraud/lib/python3.9/site-packages/feature_engine/encoding/rare_label.py:161: UserWarning: The number of unique categories for variable type is less than that indicated in n_categories. Thus, all categories will be considered frequent\n",
      "  warnings.warn(\n",
      "/home/matheus/anaconda3/envs/blocker_fraud/lib/python3.9/site-packages/feature_engine/encoding/rare_label.py:161: UserWarning: The number of unique categories for variable isFlaggedFraud is less than that indicated in n_categories. Thus, all categories will be considered frequent\n",
      "  warnings.warn(\n",
      "/home/matheus/anaconda3/envs/blocker_fraud/lib/python3.9/site-packages/feature_engine/encoding/rare_label.py:161: UserWarning: The number of unique categories for variable type is less than that indicated in n_categories. Thus, all categories will be considered frequent\n",
      "  warnings.warn(\n",
      "/home/matheus/anaconda3/envs/blocker_fraud/lib/python3.9/site-packages/feature_engine/encoding/rare_label.py:161: UserWarning: The number of unique categories for variable isFlaggedFraud is less than that indicated in n_categories. Thus, all categories will be considered frequent\n",
      "  warnings.warn(\n",
      "/home/matheus/anaconda3/envs/blocker_fraud/lib/python3.9/site-packages/feature_engine/encoding/rare_label.py:161: UserWarning: The number of unique categories for variable type is less than that indicated in n_categories. Thus, all categories will be considered frequent\n",
      "  warnings.warn(\n",
      "/home/matheus/anaconda3/envs/blocker_fraud/lib/python3.9/site-packages/feature_engine/encoding/rare_label.py:161: UserWarning: The number of unique categories for variable isFlaggedFraud is less than that indicated in n_categories. Thus, all categories will be considered frequent\n",
      "  warnings.warn(\n",
      "/home/matheus/anaconda3/envs/blocker_fraud/lib/python3.9/site-packages/feature_engine/encoding/rare_label.py:161: UserWarning: The number of unique categories for variable type is less than that indicated in n_categories. Thus, all categories will be considered frequent\n",
      "  warnings.warn(\n",
      "/home/matheus/anaconda3/envs/blocker_fraud/lib/python3.9/site-packages/feature_engine/encoding/rare_label.py:161: UserWarning: The number of unique categories for variable isFlaggedFraud is less than that indicated in n_categories. Thus, all categories will be considered frequent\n",
      "  warnings.warn(\n",
      "/home/matheus/anaconda3/envs/blocker_fraud/lib/python3.9/site-packages/feature_engine/encoding/rare_label.py:161: UserWarning: The number of unique categories for variable type is less than that indicated in n_categories. Thus, all categories will be considered frequent\n",
      "  warnings.warn(\n",
      "/home/matheus/anaconda3/envs/blocker_fraud/lib/python3.9/site-packages/feature_engine/encoding/rare_label.py:161: UserWarning: The number of unique categories for variable isFlaggedFraud is less than that indicated in n_categories. Thus, all categories will be considered frequent\n",
      "  warnings.warn(\n",
      "/home/matheus/anaconda3/envs/blocker_fraud/lib/python3.9/site-packages/feature_engine/encoding/rare_label.py:161: UserWarning: The number of unique categories for variable type is less than that indicated in n_categories. Thus, all categories will be considered frequent\n",
      "  warnings.warn(\n",
      "/home/matheus/anaconda3/envs/blocker_fraud/lib/python3.9/site-packages/feature_engine/encoding/rare_label.py:161: UserWarning: The number of unique categories for variable isFlaggedFraud is less than that indicated in n_categories. Thus, all categories will be considered frequent\n",
      "  warnings.warn(\n",
      "/home/matheus/anaconda3/envs/blocker_fraud/lib/python3.9/site-packages/feature_engine/encoding/rare_label.py:161: UserWarning: The number of unique categories for variable type is less than that indicated in n_categories. Thus, all categories will be considered frequent\n",
      "  warnings.warn(\n",
      "/home/matheus/anaconda3/envs/blocker_fraud/lib/python3.9/site-packages/feature_engine/encoding/rare_label.py:161: UserWarning: The number of unique categories for variable isFlaggedFraud is less than that indicated in n_categories. Thus, all categories will be considered frequent\n",
      "  warnings.warn(\n",
      "/home/matheus/anaconda3/envs/blocker_fraud/lib/python3.9/site-packages/feature_engine/encoding/rare_label.py:161: UserWarning: The number of unique categories for variable type is less than that indicated in n_categories. Thus, all categories will be considered frequent\n",
      "  warnings.warn(\n",
      "/home/matheus/anaconda3/envs/blocker_fraud/lib/python3.9/site-packages/feature_engine/encoding/rare_label.py:161: UserWarning: The number of unique categories for variable isFlaggedFraud is less than that indicated in n_categories. Thus, all categories will be considered frequent\n",
      "  warnings.warn(\n",
      "/home/matheus/anaconda3/envs/blocker_fraud/lib/python3.9/site-packages/feature_engine/encoding/rare_label.py:161: UserWarning: The number of unique categories for variable type is less than that indicated in n_categories. Thus, all categories will be considered frequent\n",
      "  warnings.warn(\n",
      "/home/matheus/anaconda3/envs/blocker_fraud/lib/python3.9/site-packages/feature_engine/encoding/rare_label.py:161: UserWarning: The number of unique categories for variable isFlaggedFraud is less than that indicated in n_categories. Thus, all categories will be considered frequent\n",
      "  warnings.warn(\n",
      "/home/matheus/anaconda3/envs/blocker_fraud/lib/python3.9/site-packages/feature_engine/encoding/rare_label.py:161: UserWarning: The number of unique categories for variable type is less than that indicated in n_categories. Thus, all categories will be considered frequent\n",
      "  warnings.warn(\n",
      "/home/matheus/anaconda3/envs/blocker_fraud/lib/python3.9/site-packages/feature_engine/encoding/rare_label.py:161: UserWarning: The number of unique categories for variable isFlaggedFraud is less than that indicated in n_categories. Thus, all categories will be considered frequent\n",
      "  warnings.warn(\n",
      "/home/matheus/anaconda3/envs/blocker_fraud/lib/python3.9/site-packages/feature_engine/encoding/rare_label.py:161: UserWarning: The number of unique categories for variable type is less than that indicated in n_categories. Thus, all categories will be considered frequent\n",
      "  warnings.warn(\n",
      "/home/matheus/anaconda3/envs/blocker_fraud/lib/python3.9/site-packages/feature_engine/encoding/rare_label.py:161: UserWarning: The number of unique categories for variable isFlaggedFraud is less than that indicated in n_categories. Thus, all categories will be considered frequent\n",
      "  warnings.warn(\n"
     ]
    },
    {
     "name": "stderr",
     "output_type": "stream",
     "text": [
      "/home/matheus/anaconda3/envs/blocker_fraud/lib/python3.9/site-packages/feature_engine/encoding/rare_label.py:161: UserWarning: The number of unique categories for variable type is less than that indicated in n_categories. Thus, all categories will be considered frequent\n",
      "  warnings.warn(\n",
      "/home/matheus/anaconda3/envs/blocker_fraud/lib/python3.9/site-packages/feature_engine/encoding/rare_label.py:161: UserWarning: The number of unique categories for variable isFlaggedFraud is less than that indicated in n_categories. Thus, all categories will be considered frequent\n",
      "  warnings.warn(\n",
      "/home/matheus/anaconda3/envs/blocker_fraud/lib/python3.9/site-packages/feature_engine/encoding/rare_label.py:161: UserWarning: The number of unique categories for variable type is less than that indicated in n_categories. Thus, all categories will be considered frequent\n",
      "  warnings.warn(\n",
      "/home/matheus/anaconda3/envs/blocker_fraud/lib/python3.9/site-packages/feature_engine/encoding/rare_label.py:161: UserWarning: The number of unique categories for variable isFlaggedFraud is less than that indicated in n_categories. Thus, all categories will be considered frequent\n",
      "  warnings.warn(\n"
     ]
    },
    {
     "name": "stdout",
     "output_type": "stream",
     "text": [
      "[CV 1/3; 2/10] START model=RandomForestClassifier(), model__max_depth=15, model__max_leaf_nodes=2, model__min_samples_leaf=1, model__n_estimators=10\n",
      "[CV 1/3; 2/10] END model=RandomForestClassifier(), model__max_depth=15, model__max_leaf_nodes=2, model__min_samples_leaf=1, model__n_estimators=10;, score=0.000 total time=  24.4s\n",
      "[CV 2/3; 2/10] START model=RandomForestClassifier(), model__max_depth=15, model__max_leaf_nodes=2, model__min_samples_leaf=1, model__n_estimators=10\n",
      "[CV 2/3; 2/10] END model=RandomForestClassifier(), model__max_depth=15, model__max_leaf_nodes=2, model__min_samples_leaf=1, model__n_estimators=10;, score=0.000 total time=  26.2s\n",
      "[CV 3/3; 3/10] START model=RandomForestClassifier(), model__max_depth=15, model__max_leaf_nodes=5, model__min_samples_leaf=10, model__n_estimators=1000\n",
      "[CV 3/3; 3/10] END model=RandomForestClassifier(), model__max_depth=15, model__max_leaf_nodes=5, model__min_samples_leaf=10, model__n_estimators=1000;, score=0.349 total time=34.0min\n",
      "[CV 1/3; 10/10] START model=RandomForestClassifier(), model__max_depth=15, model__max_leaf_nodes=10, model__min_samples_leaf=1, model__n_estimators=10\n",
      "[CV 1/3; 10/10] END model=RandomForestClassifier(), model__max_depth=15, model__max_leaf_nodes=10, model__min_samples_leaf=1, model__n_estimators=10;, score=0.495 total time=  33.7s\n",
      "[CV 2/3; 10/10] START model=RandomForestClassifier(), model__max_depth=15, model__max_leaf_nodes=10, model__min_samples_leaf=1, model__n_estimators=10\n",
      "[CV 2/3; 10/10] END model=RandomForestClassifier(), model__max_depth=15, model__max_leaf_nodes=10, model__min_samples_leaf=1, model__n_estimators=10;, score=0.415 total time=  34.3s\n",
      "[CV 3/3; 10/10] START model=RandomForestClassifier(), model__max_depth=15, model__max_leaf_nodes=10, model__min_samples_leaf=1, model__n_estimators=10\n",
      "[CV 3/3; 10/10] END model=RandomForestClassifier(), model__max_depth=15, model__max_leaf_nodes=10, model__min_samples_leaf=1, model__n_estimators=10;, score=0.358 total time=  29.3s\n",
      "[CV 2/3; 1/10] START model=RandomForestClassifier(), model__max_depth=15, model__max_leaf_nodes=5, model__min_samples_leaf=5, model__n_estimators=10\n",
      "[CV 2/3; 1/10] END model=RandomForestClassifier(), model__max_depth=15, model__max_leaf_nodes=5, model__min_samples_leaf=5, model__n_estimators=10;, score=0.366 total time=  30.8s\n",
      "[CV 3/3; 2/10] START model=RandomForestClassifier(), model__max_depth=15, model__max_leaf_nodes=2, model__min_samples_leaf=1, model__n_estimators=10\n",
      "[CV 3/3; 2/10] END model=RandomForestClassifier(), model__max_depth=15, model__max_leaf_nodes=2, model__min_samples_leaf=1, model__n_estimators=10;, score=0.001 total time=  23.8s\n",
      "[CV 1/3; 4/10] START model=RandomForestClassifier(), model__max_depth=5, model__max_leaf_nodes=2, model__min_samples_leaf=10, model__n_estimators=10\n",
      "[CV 1/3; 4/10] END model=RandomForestClassifier(), model__max_depth=5, model__max_leaf_nodes=2, model__min_samples_leaf=10, model__n_estimators=10;, score=0.007 total time=  25.4s\n",
      "[CV 2/3; 4/10] START model=RandomForestClassifier(), model__max_depth=5, model__max_leaf_nodes=2, model__min_samples_leaf=10, model__n_estimators=10\n",
      "[CV 2/3; 4/10] END model=RandomForestClassifier(), model__max_depth=5, model__max_leaf_nodes=2, model__min_samples_leaf=10, model__n_estimators=10;, score=0.000 total time=  26.7s\n",
      "[CV 3/3; 4/10] START model=RandomForestClassifier(), model__max_depth=5, model__max_leaf_nodes=2, model__min_samples_leaf=10, model__n_estimators=10\n",
      "[CV 3/3; 4/10] END model=RandomForestClassifier(), model__max_depth=5, model__max_leaf_nodes=2, model__min_samples_leaf=10, model__n_estimators=10;, score=0.342 total time=  23.5s\n",
      "[CV 1/3; 5/10] START model=RandomForestClassifier(), model__max_depth=25, model__max_leaf_nodes=5, model__min_samples_leaf=1, model__n_estimators=10\n",
      "[CV 1/3; 5/10] END model=RandomForestClassifier(), model__max_depth=25, model__max_leaf_nodes=5, model__min_samples_leaf=1, model__n_estimators=10;, score=0.355 total time=  31.2s\n",
      "[CV 2/3; 5/10] START model=RandomForestClassifier(), model__max_depth=25, model__max_leaf_nodes=5, model__min_samples_leaf=1, model__n_estimators=10\n",
      "[CV 2/3; 5/10] END model=RandomForestClassifier(), model__max_depth=25, model__max_leaf_nodes=5, model__min_samples_leaf=1, model__n_estimators=10;, score=0.275 total time=  31.9s\n",
      "[CV 3/3; 5/10] START model=RandomForestClassifier(), model__max_depth=25, model__max_leaf_nodes=5, model__min_samples_leaf=1, model__n_estimators=10\n",
      "[CV 3/3; 5/10] END model=RandomForestClassifier(), model__max_depth=25, model__max_leaf_nodes=5, model__min_samples_leaf=1, model__n_estimators=10;, score=0.355 total time=  32.0s\n",
      "[CV 1/3; 6/10] START model=RandomForestClassifier(), model__max_depth=15, model__max_leaf_nodes=5, model__min_samples_leaf=1, model__n_estimators=10\n",
      "[CV 1/3; 6/10] END model=RandomForestClassifier(), model__max_depth=15, model__max_leaf_nodes=5, model__min_samples_leaf=1, model__n_estimators=10;, score=0.181 total time=  29.7s\n",
      "[CV 2/3; 6/10] START model=RandomForestClassifier(), model__max_depth=15, model__max_leaf_nodes=5, model__min_samples_leaf=1, model__n_estimators=10\n",
      "[CV 2/3; 6/10] END model=RandomForestClassifier(), model__max_depth=15, model__max_leaf_nodes=5, model__min_samples_leaf=1, model__n_estimators=10;, score=0.247 total time=  31.1s\n",
      "[CV 3/3; 6/10] START model=RandomForestClassifier(), model__max_depth=15, model__max_leaf_nodes=5, model__min_samples_leaf=1, model__n_estimators=10\n",
      "[CV 3/3; 6/10] END model=RandomForestClassifier(), model__max_depth=15, model__max_leaf_nodes=5, model__min_samples_leaf=1, model__n_estimators=10;, score=0.290 total time=  33.2s\n",
      "[CV 1/3; 7/10] START model=RandomForestClassifier(), model__max_depth=30, model__max_leaf_nodes=2, model__min_samples_leaf=2, model__n_estimators=10\n",
      "[CV 1/3; 7/10] END model=RandomForestClassifier(), model__max_depth=30, model__max_leaf_nodes=2, model__min_samples_leaf=2, model__n_estimators=10;, score=0.000 total time=  23.4s\n",
      "[CV 2/3; 7/10] START model=RandomForestClassifier(), model__max_depth=30, model__max_leaf_nodes=2, model__min_samples_leaf=2, model__n_estimators=10\n",
      "[CV 2/3; 7/10] END model=RandomForestClassifier(), model__max_depth=30, model__max_leaf_nodes=2, model__min_samples_leaf=2, model__n_estimators=10;, score=0.000 total time=  26.2s\n",
      "[CV 3/3; 7/10] START model=RandomForestClassifier(), model__max_depth=30, model__max_leaf_nodes=2, model__min_samples_leaf=2, model__n_estimators=10\n",
      "[CV 3/3; 7/10] END model=RandomForestClassifier(), model__max_depth=30, model__max_leaf_nodes=2, model__min_samples_leaf=2, model__n_estimators=10;, score=0.000 total time=  24.4s\n",
      "[CV 1/3; 8/10] START model=RandomForestClassifier(), model__max_depth=25, model__max_leaf_nodes=5, model__min_samples_leaf=100, model__n_estimators=100\n",
      "[CV 1/3; 8/10] END model=RandomForestClassifier(), model__max_depth=25, model__max_leaf_nodes=5, model__min_samples_leaf=100, model__n_estimators=100;, score=0.281 total time= 3.5min\n",
      "[CV 2/3; 8/10] START model=RandomForestClassifier(), model__max_depth=25, model__max_leaf_nodes=5, model__min_samples_leaf=100, model__n_estimators=100\n",
      "[CV 2/3; 8/10] END model=RandomForestClassifier(), model__max_depth=25, model__max_leaf_nodes=5, model__min_samples_leaf=100, model__n_estimators=100;, score=0.332 total time= 3.5min\n",
      "[CV 3/3; 8/10] START model=RandomForestClassifier(), model__max_depth=25, model__max_leaf_nodes=5, model__min_samples_leaf=100, model__n_estimators=100\n",
      "[CV 3/3; 8/10] END model=RandomForestClassifier(), model__max_depth=25, model__max_leaf_nodes=5, model__min_samples_leaf=100, model__n_estimators=100;, score=0.268 total time= 3.5min\n",
      "[CV 1/3; 9/10] START model=RandomForestClassifier(), model__max_depth=30, model__max_leaf_nodes=10, model__min_samples_leaf=15, model__n_estimators=1000\n",
      "[CV 1/3; 9/10] END model=RandomForestClassifier(), model__max_depth=30, model__max_leaf_nodes=10, model__min_samples_leaf=15, model__n_estimators=1000;, score=0.435 total time=39.7min\n",
      "[CV 1/3; 1/10] START model=RandomForestClassifier(), model__max_depth=15, model__max_leaf_nodes=5, model__min_samples_leaf=5, model__n_estimators=10\n",
      "[CV 1/3; 1/10] END model=RandomForestClassifier(), model__max_depth=15, model__max_leaf_nodes=5, model__min_samples_leaf=5, model__n_estimators=10;, score=0.378 total time=  32.4s\n",
      "[CV 2/3; 3/10] START model=RandomForestClassifier(), model__max_depth=15, model__max_leaf_nodes=5, model__min_samples_leaf=10, model__n_estimators=1000\n",
      "[CV 2/3; 3/10] END model=RandomForestClassifier(), model__max_depth=15, model__max_leaf_nodes=5, model__min_samples_leaf=10, model__n_estimators=1000;, score=0.353 total time=33.7min\n",
      "[CV 2/3; 9/10] START model=RandomForestClassifier(), model__max_depth=30, model__max_leaf_nodes=10, model__min_samples_leaf=15, model__n_estimators=1000\n",
      "[CV 2/3; 9/10] END model=RandomForestClassifier(), model__max_depth=30, model__max_leaf_nodes=10, model__min_samples_leaf=15, model__n_estimators=1000;, score=0.428 total time=35.9min\n"
     ]
    },
    {
     "name": "stdout",
     "output_type": "stream",
     "text": [
      "[CV 3/3; 1/10] START model=RandomForestClassifier(), model__max_depth=15, model__max_leaf_nodes=5, model__min_samples_leaf=5, model__n_estimators=10\n",
      "[CV 3/3; 1/10] END model=RandomForestClassifier(), model__max_depth=15, model__max_leaf_nodes=5, model__min_samples_leaf=5, model__n_estimators=10;, score=0.264 total time=  31.9s\n",
      "[CV 1/3; 3/10] START model=RandomForestClassifier(), model__max_depth=15, model__max_leaf_nodes=5, model__min_samples_leaf=10, model__n_estimators=1000\n",
      "[CV 1/3; 3/10] END model=RandomForestClassifier(), model__max_depth=15, model__max_leaf_nodes=5, model__min_samples_leaf=10, model__n_estimators=1000;, score=0.354 total time=34.2min\n",
      "[CV 3/3; 9/10] START model=RandomForestClassifier(), model__max_depth=30, model__max_leaf_nodes=10, model__min_samples_leaf=15, model__n_estimators=1000\n",
      "[CV 3/3; 9/10] END model=RandomForestClassifier(), model__max_depth=30, model__max_leaf_nodes=10, model__min_samples_leaf=15, model__n_estimators=1000;, score=0.427 total time=36.4min\n"
     ]
    },
    {
     "data": {
      "text/plain": [
       "RandomizedSearchCV(cv=3,\n",
       "                   estimator=Pipeline(steps=[('enconding_rare',\n",
       "                                              RareLabelEncoder(variables=['type',\n",
       "                                                                          'isFlaggedFraud'])),\n",
       "                                             ('enconding_cat',\n",
       "                                              CountFrequencyEncoder(variables=['is_new_balance_dest_zero',\n",
       "                                                                               'type',\n",
       "                                                                               'is_orig_old_balance_greater_new',\n",
       "                                                                               'is_M_customer',\n",
       "                                                                               'is_high_amount',\n",
       "                                                                               'is_new_balance_orig_zero',\n",
       "                                                                               'is_dest_old_balance_greater_new',\n",
       "                                                                               'isFlaggedFraud...\n",
       "                                                                     random_state=42))]),\n",
       "                   n_jobs=4,\n",
       "                   param_distributions=[{'model': [RandomForestClassifier(max_depth=30,\n",
       "                                                                          max_leaf_nodes=10,\n",
       "                                                                          min_samples_leaf=15,\n",
       "                                                                          n_estimators=1000)],\n",
       "                                         'model__max_depth': [5, 8, 15, 25, 30,\n",
       "                                                              None],\n",
       "                                         'model__max_leaf_nodes': [2, 5, 10],\n",
       "                                         'model__min_samples_leaf': [1, 2, 5,\n",
       "                                                                     10, 15,\n",
       "                                                                     100],\n",
       "                                         'model__n_estimators': [10, 100,\n",
       "                                                                 1000]}],\n",
       "                   random_state=42, scoring='recall', verbose=1000)"
      ]
     },
     "execution_count": 14,
     "metadata": {},
     "output_type": "execute_result"
    }
   ],
   "source": [
    "# set up the search\n",
    "search = model_selection.RandomizedSearchCV(pipe,\n",
    "                            param_grid,\n",
    "                            scoring='recall',\n",
    "                            cv=3,\n",
    "                            n_iter = 10,\n",
    "                            random_state=42,\n",
    "                            n_jobs=4,\n",
    "                            verbose=1000)\n",
    "\n",
    "# find best hyperparameters\n",
    "search.fit(X_train, y_train)"
   ]
  },
  {
   "cell_type": "markdown",
   "id": "8f6e03aa",
   "metadata": {},
   "source": [
    "## 5.1. Best parameters for model"
   ]
  },
  {
   "cell_type": "code",
   "execution_count": 15,
   "id": "4ac0418f",
   "metadata": {
    "ExecuteTime": {
     "end_time": "2022-05-17T16:51:10.769803Z",
     "start_time": "2022-05-17T16:51:10.766802Z"
    }
   },
   "outputs": [
    {
     "data": {
      "text/plain": [
       "{'model__n_estimators': 1000,\n",
       " 'model__min_samples_leaf': 15,\n",
       " 'model__max_leaf_nodes': 10,\n",
       " 'model__max_depth': 30,\n",
       " 'model': RandomForestClassifier(max_depth=30, max_leaf_nodes=10, min_samples_leaf=15,\n",
       "                        n_estimators=1000)}"
      ]
     },
     "execution_count": 15,
     "metadata": {},
     "output_type": "execute_result"
    }
   ],
   "source": [
    "search.best_params_"
   ]
  },
  {
   "cell_type": "markdown",
   "id": "c15bf0fb",
   "metadata": {},
   "source": [
    "## 5.2. Training model with best parameters"
   ]
  },
  {
   "cell_type": "code",
   "execution_count": 16,
   "id": "2b23850a",
   "metadata": {
    "ExecuteTime": {
     "end_time": "2022-05-17T17:04:07.124298Z",
     "start_time": "2022-05-17T17:04:07.121359Z"
    }
   },
   "outputs": [],
   "source": [
    "rf_clf_tuned = ensemble.RandomForestClassifier(n_jobs = -1, \n",
    "                                               random_state=42,\n",
    "                                               max_depth=30, \n",
    "                                               max_leaf_nodes=10, \n",
    "                                               min_samples_leaf=15,\n",
    "                                               n_estimators=1000)\n",
    "pipe_tuned = pipeline.Pipeline(steps = [(\"enconding_rare\", rare_enc),\n",
    "                                  (\"enconding_cat\", cat_enc),\n",
    "                                  (\"enconding_num\", numerical_enc),\n",
    "                                  (\"model\", rf_clf_tuned)])"
   ]
  },
  {
   "cell_type": "code",
   "execution_count": 17,
   "id": "dfb61a24",
   "metadata": {
    "ExecuteTime": {
     "end_time": "2022-05-17T17:17:13.700199Z",
     "start_time": "2022-05-17T17:04:10.518737Z"
    }
   },
   "outputs": [
    {
     "data": {
      "text/plain": [
       "Pipeline(steps=[('enconding_rare',\n",
       "                 RareLabelEncoder(variables=['type', 'isFlaggedFraud'])),\n",
       "                ('enconding_cat',\n",
       "                 CountFrequencyEncoder(variables=['is_new_balance_dest_zero',\n",
       "                                                  'type',\n",
       "                                                  'is_orig_old_balance_greater_new',\n",
       "                                                  'is_M_customer',\n",
       "                                                  'is_high_amount',\n",
       "                                                  'is_new_balance_orig_zero',\n",
       "                                                  'is_dest_old_balance_greater_new',\n",
       "                                                  'isFlaggedFraud'])),\n",
       "                ('enconding_num',\n",
       "                 SklearnTransformerWrapper(transformer=StandardScaler(),\n",
       "                                           variables=['amount', 'oldbalanceOrg',\n",
       "                                                      'newbalanceOrig',\n",
       "                                                      'oldbalanceDest',\n",
       "                                                      'newbalanceDest',\n",
       "                                                      'diff_orig',\n",
       "                                                      'diff_dest'])),\n",
       "                ('model',\n",
       "                 RandomForestClassifier(max_depth=30, max_leaf_nodes=10,\n",
       "                                        min_samples_leaf=15, n_estimators=1000,\n",
       "                                        n_jobs=-1, random_state=42))])"
      ]
     },
     "execution_count": 17,
     "metadata": {},
     "output_type": "execute_result"
    }
   ],
   "source": [
    "pipe_tuned.fit(X_train, y_train)"
   ]
  },
  {
   "cell_type": "markdown",
   "id": "d45bf231",
   "metadata": {},
   "source": [
    "## 5.3. Saving new model"
   ]
  },
  {
   "cell_type": "code",
   "execution_count": 18,
   "id": "6fd0a271",
   "metadata": {
    "ExecuteTime": {
     "end_time": "2022-05-17T17:17:18.026994Z",
     "start_time": "2022-05-17T17:17:17.749674Z"
    }
   },
   "outputs": [
    {
     "data": {
      "text/plain": [
       "['../models/model_tuned_cicle_1.pkl']"
      ]
     },
     "execution_count": 18,
     "metadata": {},
     "output_type": "execute_result"
    }
   ],
   "source": [
    "joblib.dump(pipe_tuned, '../models/model_tuned_cicle_1.pkl', compress = 1)"
   ]
  },
  {
   "cell_type": "markdown",
   "id": "9c78d337",
   "metadata": {},
   "source": [
    "## 5.4. Performance training dataset"
   ]
  },
  {
   "cell_type": "code",
   "execution_count": 19,
   "id": "c93cd177",
   "metadata": {
    "ExecuteTime": {
     "end_time": "2022-05-17T18:09:53.540409Z",
     "start_time": "2022-05-17T17:17:19.247519Z"
    },
    "scrolled": true
   },
   "outputs": [
    {
     "data": {
      "text/html": [
       "<div>\n",
       "<style scoped>\n",
       "    .dataframe tbody tr th:only-of-type {\n",
       "        vertical-align: middle;\n",
       "    }\n",
       "\n",
       "    .dataframe tbody tr th {\n",
       "        vertical-align: top;\n",
       "    }\n",
       "\n",
       "    .dataframe thead th {\n",
       "        text-align: right;\n",
       "    }\n",
       "</style>\n",
       "<table border=\"1\" class=\"dataframe\">\n",
       "  <thead>\n",
       "    <tr style=\"text-align: right;\">\n",
       "      <th></th>\n",
       "      <th>test_accuracy</th>\n",
       "      <th>test_precision</th>\n",
       "      <th>test_recall</th>\n",
       "      <th>test_f1_score</th>\n",
       "      <th>test_roc_auc_score</th>\n",
       "      <th>test_mcc</th>\n",
       "    </tr>\n",
       "  </thead>\n",
       "  <tbody>\n",
       "    <tr>\n",
       "      <th>0</th>\n",
       "      <td>0.99925</td>\n",
       "      <td>0.99874</td>\n",
       "      <td>0.42272</td>\n",
       "      <td>0.59388</td>\n",
       "      <td>0.71136</td>\n",
       "      <td>0.64943</td>\n",
       "    </tr>\n",
       "  </tbody>\n",
       "</table>\n",
       "</div>"
      ],
      "text/plain": [
       "   test_accuracy  test_precision  test_recall  test_f1_score  \\\n",
       "0        0.99925         0.99874      0.42272        0.59388   \n",
       "\n",
       "   test_roc_auc_score  test_mcc  \n",
       "0             0.71136   0.64943  "
      ]
     },
     "execution_count": 19,
     "metadata": {},
     "output_type": "execute_result"
    }
   ],
   "source": [
    "performance(pipe_tuned, X_train, y_train)"
   ]
  },
  {
   "cell_type": "markdown",
   "id": "1b5c5a67",
   "metadata": {},
   "source": [
    "## 5.5. Performance testing dataset"
   ]
  },
  {
   "cell_type": "code",
   "execution_count": 20,
   "id": "763bc7c0",
   "metadata": {
    "ExecuteTime": {
     "end_time": "2022-05-17T18:10:13.503672Z",
     "start_time": "2022-05-17T18:09:53.643491Z"
    }
   },
   "outputs": [
    {
     "data": {
      "text/html": [
       "<div>\n",
       "<style scoped>\n",
       "    .dataframe tbody tr th:only-of-type {\n",
       "        vertical-align: middle;\n",
       "    }\n",
       "\n",
       "    .dataframe tbody tr th {\n",
       "        vertical-align: top;\n",
       "    }\n",
       "\n",
       "    .dataframe thead th {\n",
       "        text-align: right;\n",
       "    }\n",
       "</style>\n",
       "<table border=\"1\" class=\"dataframe\">\n",
       "  <thead>\n",
       "    <tr style=\"text-align: right;\">\n",
       "      <th></th>\n",
       "      <th>test_accuracy</th>\n",
       "      <th>test_precision</th>\n",
       "      <th>test_recall</th>\n",
       "      <th>test_f1_score</th>\n",
       "      <th>test_roc_auc_score</th>\n",
       "      <th>test_mcc</th>\n",
       "    </tr>\n",
       "  </thead>\n",
       "  <tbody>\n",
       "    <tr>\n",
       "      <th>0</th>\n",
       "      <td>0.99914</td>\n",
       "      <td>0.96000</td>\n",
       "      <td>0.38366</td>\n",
       "      <td>0.54157</td>\n",
       "      <td>0.69182</td>\n",
       "      <td>0.60209</td>\n",
       "    </tr>\n",
       "  </tbody>\n",
       "</table>\n",
       "</div>"
      ],
      "text/plain": [
       "   test_accuracy  test_precision  test_recall  test_f1_score  \\\n",
       "0        0.99914         0.96000      0.38366        0.54157   \n",
       "\n",
       "   test_roc_auc_score  test_mcc  \n",
       "0             0.69182   0.60209  "
      ]
     },
     "execution_count": 20,
     "metadata": {},
     "output_type": "execute_result"
    }
   ],
   "source": [
    "performance(pipe_tuned, X_test, y_test)"
   ]
  },
  {
   "cell_type": "markdown",
   "id": "5d52f0e3",
   "metadata": {},
   "source": [
    "# 6. Conclusion"
   ]
  },
  {
   "cell_type": "markdown",
   "id": "ee578f2c",
   "metadata": {},
   "source": [
    "Podemos ver que a forma escolhida para o tunning não encontrou os melhores parâmetros para aumentar o recall, dado que o nos dados de teste o modelo não conseguiu performar satisfatóriamente, isso pode indicar que faltou mais parâmetros ou mais tempo para que ele encontre os melhores parâmetros e também podemos testar futuramente outras formas de encontrar os parâmetros.\n",
    "\n",
    "Lembrando que também podemos utilizar o tunning nas etapas de feature engineering, como por exemplo, utilizar outras formas de transformar os dados categóricos e númericos.\n",
    "\n",
    "Portanto, vamos manter o modelo anteriormente selecionado como o modelo utilizado nesse primeiro ciclo."
   ]
  }
 ],
 "metadata": {
  "kernelspec": {
   "display_name": "Python 3 (ipykernel)",
   "language": "python",
   "name": "python3"
  },
  "language_info": {
   "codemirror_mode": {
    "name": "ipython",
    "version": 3
   },
   "file_extension": ".py",
   "mimetype": "text/x-python",
   "name": "python",
   "nbconvert_exporter": "python",
   "pygments_lexer": "ipython3",
   "version": "3.9.7"
  },
  "notify_time": "5",
  "toc": {
   "base_numbering": 1,
   "nav_menu": {},
   "number_sections": true,
   "sideBar": true,
   "skip_h1_title": false,
   "title_cell": "Table of Contents",
   "title_sidebar": "Contents",
   "toc_cell": false,
   "toc_position": {},
   "toc_section_display": true,
   "toc_window_display": false
  },
  "varInspector": {
   "cols": {
    "lenName": 16,
    "lenType": 16,
    "lenVar": 40
   },
   "kernels_config": {
    "python": {
     "delete_cmd_postfix": "",
     "delete_cmd_prefix": "del ",
     "library": "var_list.py",
     "varRefreshCmd": "print(var_dic_list())"
    },
    "r": {
     "delete_cmd_postfix": ") ",
     "delete_cmd_prefix": "rm(",
     "library": "var_list.r",
     "varRefreshCmd": "cat(var_dic_list()) "
    }
   },
   "types_to_exclude": [
    "module",
    "function",
    "builtin_function_or_method",
    "instance",
    "_Feature"
   ],
   "window_display": false
  }
 },
 "nbformat": 4,
 "nbformat_minor": 5
}
