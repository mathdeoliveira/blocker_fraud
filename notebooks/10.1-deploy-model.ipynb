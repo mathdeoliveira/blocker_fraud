{
 "cells": [
  {
   "cell_type": "markdown",
   "id": "69529bde",
   "metadata": {},
   "source": [
    "# 1. Blocker Fraud Company\n",
    " <font size=\"2\"> Dados e problema negócio hipotéticos</font>\n",
    " \n",
    "A Blocker Fraud Company é uma empresa especializada na detecção de fraudes em transações financeiras feitas atravś de dispositivos móveis.\n",
    "\n",
    "O modelo de negócio da empresa é do tipo Serviço com a monetização feita por performance do serviço prestado, ou seja, o usuário paga uma taxa fixa sobre o sucesso da detecção de fraude das transações.\n",
    "\n",
    "## 1.1. Estratégia de expansão\n",
    "\n",
    "A Blocker Fraud Company está em fase de expansão no Brasil e para adquirir clientes mais rapidamente, ela adotou uma estratégia muito agressiva. A estratégia funciona da seguinte forma:\n",
    "\n",
    "1. A empresa vai receber 25% do valor de cada transação detectada verdadeiramente como fraude.\n",
    "2. A empresa vai receber 5% do valor de cada transação detectada como fraude, porém a transação é verdadeiramente legítima.\n",
    "3. A empresa vai devolver 100% do valor para o cliente, a cada transação detectada como legítima, porém a transação é verdadeiramente uma fraude.\n",
    "\n",
    "Com essa estratégia agressiva a empresa assume os riscos em falhar na detecção de fraude e é remunerada na detecção assertiva das fraudes.\n",
    "\n",
    "## 1.2. Objetivo\n",
    "\n",
    "Criar um modelo de alta precisão e acurácia na detecção de fraudes de transações feitas através de dispositivos móveis.\n",
    "\n",
    "### 1.2.1. Entregáveis\n",
    "\n",
    "Modelo em produção no qual seu acesso será feito via API, ou seja, os clientes enviarão suas transações via API para que o seu modelo as classifique como fraudulentas ou legítimas.\n",
    "\n",
    "Além disso, você precisará entregar um relatório reportando a performance e os resultados do seu modelo em relação ao lucro e prejuízo que a empresa terá ao usar o modelo que você produziu. No seu relatório deve conter as respostas para as seguintes perguntas:\n",
    "\n",
    "1. Qual a Precisão e Acurácia do modelo?\n",
    "2. Qual a Confiabilidade do modelo em classificar as transações como legítimas ou fraudulentas?\n",
    "3. Qual o Faturamento Esperado pela Empresa se classificarmos 100% das transações com o modelo?\n",
    "4. Qual o Prejuízo Esperado pela Empresa em caso de falha do modelo?\n",
    "5. Qual o Lucro Esperado pela Blocker Fraud Company ao utilizar o modelo?\n"
   ]
  },
  {
   "cell_type": "markdown",
   "id": "46c0254d",
   "metadata": {},
   "source": [
    "# 2. Imports"
   ]
  },
  {
   "cell_type": "code",
   "execution_count": 1,
   "id": "c6675b59",
   "metadata": {
    "ExecuteTime": {
     "end_time": "2022-05-17T12:51:34.564656Z",
     "start_time": "2022-05-17T12:51:34.036871Z"
    }
   },
   "outputs": [],
   "source": [
    "import joblib\n",
    "import pandas as pd\n",
    "import numpy as np"
   ]
  },
  {
   "cell_type": "markdown",
   "id": "f60674db",
   "metadata": {},
   "source": [
    "## 2.1. Utils functions"
   ]
  },
  {
   "cell_type": "code",
   "execution_count": 26,
   "id": "dd7c0b49",
   "metadata": {
    "ExecuteTime": {
     "end_time": "2022-05-17T13:01:52.942302Z",
     "start_time": "2022-05-17T13:01:52.933223Z"
    }
   },
   "outputs": [],
   "source": [
    "def create_features(df: pd.DataFrame) -> pd.DataFrame:\n",
    "    \"\"\"\n",
    "        Cria as novas features a partir dos dados de entrada\n",
    "        Parameters\n",
    "        ----------\n",
    "        df: Pandas DataFrame\n",
    "\n",
    "        Returns\n",
    "        -------\n",
    "        df: Pandas DataFrame\n",
    "            Novo dataframe com as features inseridas.\n",
    "    \"\"\"\n",
    "    df['is_high_amount'] = define_high_amount(df, 179000)\n",
    "    df['is_M_customer'] = define_merchant_customer(df)\n",
    "    df['is_new_balance_orig_zero'] =  define_is_balance_zero(df, 'newbalanceOrig')\n",
    "    df['is_new_balance_dest_zero'] = define_is_balance_zero(df, 'newbalanceDest')\n",
    "    df['diff_orig'] = difference_between_two_columns(df, 'oldbalanceOrg', 'newbalanceOrig')\n",
    "    df['diff_dest'] = difference_between_two_columns(df, 'oldbalanceDest', 'newbalanceDest')\n",
    "    df['is_orig_old_balance_greater_new'] = define_column_is_greater(df, 'oldbalanceOrg','newbalanceOrig')\n",
    "    df['is_dest_old_balance_greater_new'] = define_column_is_greater(df, 'oldbalanceDest','newbalanceDest')\n",
    "    return df\n",
    "\n",
    "def define_high_amount(df: pd.DataFrame, value: int) -> np.array:\n",
    "    is_high_amount = np.where(df['amount']>=value, 1, 0)\n",
    "    return is_high_amount\n",
    "\n",
    "def define_merchant_customer(df: pd.DataFrame) -> np.array:\n",
    "    is_merchant_customer = np.where(df['nameDest'].str.contains('M'), 1, 0)\n",
    "    return is_merchant_customer\n",
    "\n",
    "def define_is_balance_zero(df: pd.DataFrame, column: str) -> np.array:\n",
    "    is_column_balance_zero = np.where(df[column]==0, 1, 0)\n",
    "    return is_column_balance_zero\n",
    "\n",
    "def difference_between_two_columns(df: pd.DataFrame, left_column: str, right_column: str) -> pd.Series:\n",
    "    difference_result = df[left_column]-df[right_column]\n",
    "    return difference_result\n",
    "\n",
    "def define_column_is_greater(df: pd.DataFrame, left_column: str, right_column: str) -> np.array:\n",
    "    is_greater_result = np.where(df[left_column]>df[right_column], 1, 0)\n",
    "    return is_greater_result\n",
    "\n",
    "def define_final_data_to_model(df: pd.DataFrame) -> pd.DataFrame:\n",
    "    cols_to_include = ['isFlaggedFraud', 'is_high_amount', 'is_M_customer', \n",
    "                   'is_new_balance_orig_zero', 'is_orig_old_balance_greater_new',\n",
    "                   'is_new_balance_dest_zero', 'is_dest_old_balance_greater_new']\n",
    "\n",
    "    columns_drop = ['nameOrig', 'nameDest']\n",
    "\n",
    "    for col in cols_to_include:\n",
    "        df[col] = df[col].astype('category')\n",
    "\n",
    "    df.drop(columns_drop, axis=1, inplace=True)\n",
    "    return df\n",
    "\n",
    "def predict(data, model):   \n",
    "    predicted = model.predict(data)    \n",
    "    return int(predicted[0])"
   ]
  },
  {
   "cell_type": "markdown",
   "id": "af460229",
   "metadata": {},
   "source": [
    "# 3. Load model"
   ]
  },
  {
   "cell_type": "code",
   "execution_count": 52,
   "id": "cb5ea8c8",
   "metadata": {
    "ExecuteTime": {
     "end_time": "2022-05-17T13:28:15.371234Z",
     "start_time": "2022-05-17T13:28:15.282838Z"
    }
   },
   "outputs": [],
   "source": [
    "model = joblib.load('../models/model_cicle_1_standardscaler.pkl')"
   ]
  },
  {
   "cell_type": "code",
   "execution_count": 53,
   "id": "45964e4b",
   "metadata": {
    "ExecuteTime": {
     "end_time": "2022-05-17T13:28:15.744755Z",
     "start_time": "2022-05-17T13:28:15.721637Z"
    }
   },
   "outputs": [
    {
     "data": {
      "text/plain": [
       "Pipeline(steps=[('enconding_rare',\n",
       "                 RareLabelEncoder(variables=['type', 'isFlaggedFraud'])),\n",
       "                ('enconding_cat',\n",
       "                 CountFrequencyEncoder(variables=['is_new_balance_dest_zero',\n",
       "                                                  'type',\n",
       "                                                  'is_orig_old_balance_greater_new',\n",
       "                                                  'is_M_customer',\n",
       "                                                  'is_high_amount',\n",
       "                                                  'is_new_balance_orig_zero',\n",
       "                                                  'is_dest_old_balance_greater_new',\n",
       "                                                  'isFlaggedFraud'])),\n",
       "                ('enconding_num',\n",
       "                 SklearnTransformerWrapper(transformer=StandardScaler(),\n",
       "                                           variables=['amount', 'oldbalanceOrg',\n",
       "                                                      'newbalanceOrig',\n",
       "                                                      'oldbalanceDest',\n",
       "                                                      'newbalanceDest',\n",
       "                                                      'diff_orig',\n",
       "                                                      'diff_dest'])),\n",
       "                ('model', RandomForestClassifier(n_jobs=-1, random_state=42))])"
      ]
     },
     "execution_count": 53,
     "metadata": {},
     "output_type": "execute_result"
    }
   ],
   "source": [
    "model"
   ]
  },
  {
   "cell_type": "markdown",
   "id": "2f2601ee",
   "metadata": {},
   "source": [
    "# 4. Data for predict"
   ]
  },
  {
   "cell_type": "code",
   "execution_count": 54,
   "id": "d963511e",
   "metadata": {
    "ExecuteTime": {
     "end_time": "2022-05-17T13:28:20.205504Z",
     "start_time": "2022-05-17T13:28:20.202283Z"
    }
   },
   "outputs": [],
   "source": [
    "data = {'step':355,\n",
    "       'type':'CASH_IN',\n",
    "       'amount':209562.70000,\n",
    "       'nameOrig':'C1909813604',\n",
    "       'oldbalanceOrg': 73845.00000,\n",
    "       'newbalanceOrig': 283407.70000,\n",
    "       'nameDest': 'C1501798121',\n",
    "       'oldbalanceDest':4345115.38000,\n",
    "       'newbalanceDest':4135552.68000,\n",
    "       'isFlaggedFraud':0}\n",
    "data = pd.DataFrame.from_dict(data, orient='index').T"
   ]
  },
  {
   "cell_type": "code",
   "execution_count": 55,
   "id": "de9019bc",
   "metadata": {
    "ExecuteTime": {
     "end_time": "2022-05-17T13:28:20.583630Z",
     "start_time": "2022-05-17T13:28:20.556118Z"
    }
   },
   "outputs": [],
   "source": [
    "df_predict = define_final_data_to_model(create_features(data))"
   ]
  },
  {
   "cell_type": "code",
   "execution_count": 56,
   "id": "2e5b4260",
   "metadata": {
    "ExecuteTime": {
     "end_time": "2022-05-17T13:28:21.466375Z",
     "start_time": "2022-05-17T13:28:21.456790Z"
    }
   },
   "outputs": [
    {
     "data": {
      "text/html": [
       "<div>\n",
       "<style scoped>\n",
       "    .dataframe tbody tr th:only-of-type {\n",
       "        vertical-align: middle;\n",
       "    }\n",
       "\n",
       "    .dataframe tbody tr th {\n",
       "        vertical-align: top;\n",
       "    }\n",
       "\n",
       "    .dataframe thead th {\n",
       "        text-align: right;\n",
       "    }\n",
       "</style>\n",
       "<table border=\"1\" class=\"dataframe\">\n",
       "  <thead>\n",
       "    <tr style=\"text-align: right;\">\n",
       "      <th></th>\n",
       "      <th>step</th>\n",
       "      <th>type</th>\n",
       "      <th>amount</th>\n",
       "      <th>oldbalanceOrg</th>\n",
       "      <th>newbalanceOrig</th>\n",
       "      <th>oldbalanceDest</th>\n",
       "      <th>newbalanceDest</th>\n",
       "      <th>isFlaggedFraud</th>\n",
       "      <th>is_high_amount</th>\n",
       "      <th>is_M_customer</th>\n",
       "      <th>is_new_balance_orig_zero</th>\n",
       "      <th>is_new_balance_dest_zero</th>\n",
       "      <th>diff_orig</th>\n",
       "      <th>diff_dest</th>\n",
       "      <th>is_orig_old_balance_greater_new</th>\n",
       "      <th>is_dest_old_balance_greater_new</th>\n",
       "    </tr>\n",
       "  </thead>\n",
       "  <tbody>\n",
       "    <tr>\n",
       "      <th>0</th>\n",
       "      <td>355</td>\n",
       "      <td>CASH_IN</td>\n",
       "      <td>209562.7</td>\n",
       "      <td>73845.0</td>\n",
       "      <td>283407.7</td>\n",
       "      <td>4345115.38</td>\n",
       "      <td>4135552.68</td>\n",
       "      <td>0</td>\n",
       "      <td>1</td>\n",
       "      <td>0</td>\n",
       "      <td>0</td>\n",
       "      <td>0</td>\n",
       "      <td>-209562.7</td>\n",
       "      <td>209562.7</td>\n",
       "      <td>0</td>\n",
       "      <td>1</td>\n",
       "    </tr>\n",
       "  </tbody>\n",
       "</table>\n",
       "</div>"
      ],
      "text/plain": [
       "  step     type    amount oldbalanceOrg newbalanceOrig oldbalanceDest  \\\n",
       "0  355  CASH_IN  209562.7       73845.0       283407.7     4345115.38   \n",
       "\n",
       "  newbalanceDest isFlaggedFraud is_high_amount is_M_customer  \\\n",
       "0     4135552.68              0              1             0   \n",
       "\n",
       "  is_new_balance_orig_zero is_new_balance_dest_zero diff_orig diff_dest  \\\n",
       "0                        0                        0 -209562.7  209562.7   \n",
       "\n",
       "  is_orig_old_balance_greater_new is_dest_old_balance_greater_new  \n",
       "0                               0                               1  "
      ]
     },
     "execution_count": 56,
     "metadata": {},
     "output_type": "execute_result"
    }
   ],
   "source": [
    "df_predict"
   ]
  },
  {
   "cell_type": "markdown",
   "id": "c06808d5",
   "metadata": {},
   "source": [
    "# 5. Predicting"
   ]
  },
  {
   "cell_type": "code",
   "execution_count": 57,
   "id": "efe6ab87",
   "metadata": {
    "ExecuteTime": {
     "end_time": "2022-05-17T13:28:21.948338Z",
     "start_time": "2022-05-17T13:28:21.916956Z"
    }
   },
   "outputs": [
    {
     "data": {
      "text/plain": [
       "array([0])"
      ]
     },
     "execution_count": 57,
     "metadata": {},
     "output_type": "execute_result"
    }
   ],
   "source": [
    "model.predict(df_predict) "
   ]
  },
  {
   "cell_type": "markdown",
   "id": "70a58ee4",
   "metadata": {},
   "source": [
    "# 6. Conclusion"
   ]
  },
  {
   "cell_type": "markdown",
   "id": "e5f16a23",
   "metadata": {},
   "source": [
    "Não é o melhor forma de fazer deploy do modelo criado, porém para esse primeiro ciclo será feito dentro do notebook e posteriormente terá todo um aplicativo focado em criar a receber a requisição, processar e devolver o resultado para a aplicação requisidora."
   ]
  }
 ],
 "metadata": {
  "kernelspec": {
   "display_name": "Python 3 (ipykernel)",
   "language": "python",
   "name": "python3"
  },
  "language_info": {
   "codemirror_mode": {
    "name": "ipython",
    "version": 3
   },
   "file_extension": ".py",
   "mimetype": "text/x-python",
   "name": "python",
   "nbconvert_exporter": "python",
   "pygments_lexer": "ipython3",
   "version": "3.9.7"
  },
  "varInspector": {
   "cols": {
    "lenName": 16,
    "lenType": 16,
    "lenVar": 40
   },
   "kernels_config": {
    "python": {
     "delete_cmd_postfix": "",
     "delete_cmd_prefix": "del ",
     "library": "var_list.py",
     "varRefreshCmd": "print(var_dic_list())"
    },
    "r": {
     "delete_cmd_postfix": ") ",
     "delete_cmd_prefix": "rm(",
     "library": "var_list.r",
     "varRefreshCmd": "cat(var_dic_list()) "
    }
   },
   "types_to_exclude": [
    "module",
    "function",
    "builtin_function_or_method",
    "instance",
    "_Feature"
   ],
   "window_display": false
  }
 },
 "nbformat": 4,
 "nbformat_minor": 5
}
