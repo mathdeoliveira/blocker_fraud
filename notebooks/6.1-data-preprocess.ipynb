{
 "cells": [
  {
   "cell_type": "markdown",
   "id": "8fe8321b",
   "metadata": {
    "heading_collapsed": true
   },
   "source": [
    "# 1. Blocker Fraud Company\n",
    " <font size=\"2\"> Dados e problema negócio hipotéticos</font>\n",
    " \n",
    "A Blocker Fraud Company é uma empresa especializada na detecção de fraudes em transações financeiras feitas atravś de dispositivos móveis.\n",
    "\n",
    "O modelo de negócio da empresa é do tipo Serviço com a monetização feita por performance do serviço prestado, ou seja, o usuário paga uma taxa fixa sobre o sucesso da detecção de fraude das transações.\n",
    "\n",
    "## 1.1. Estratégia de expansão\n",
    "\n",
    "A Blocker Fraud Company está em fase de expansão no Brasil e para adquirir clientes mais rapidamente, ela adotou uma estratégia muito agressiva. A estratégia funciona da seguinte forma:\n",
    "\n",
    "1. A empresa vai receber 25% do valor de cada transação detectada verdadeiramente como fraude.\n",
    "2. A empresa vai receber 5% do valor de cada transação detectada como fraude, porém a transação é verdadeiramente legítima.\n",
    "3. A empresa vai devolver 100% do valor para o cliente, a cada transação detectada como legítima, porém a transação é verdadeiramente uma fraude.\n",
    "\n",
    "Com essa estratégia agressiva a empresa assume os riscos em falhar na detecção de fraude e é remunerada na detecção assertiva das fraudes.\n",
    "\n",
    "## 1.2. Objetivo\n",
    "\n",
    "Criar um modelo de alta precisão e acurácia na detecção de fraudes de transações feitas através de dispositivos móveis.\n",
    "\n",
    "### 1.2.1. Entregáveis\n",
    "\n",
    "Modelo em produção no qual seu acesso será feito via API, ou seja, os clientes enviarão suas transações via API para que o seu modelo as classifique como fraudulentas ou legítimas.\n",
    "\n",
    "Além disso, você precisará entregar um relatório reportando a performance e os resultados do seu modelo em relação ao lucro e prejuízo que a empresa terá ao usar o modelo que você produziu. No seu relatório deve conter as respostas para as seguintes perguntas:\n",
    "\n",
    "1. Qual a Precisão e Acurácia do modelo?\n",
    "2. Qual a Confiabilidade do modelo em classificar as transações como legítimas ou fraudulentas?\n",
    "3. Qual o Faturamento Esperado pela Empresa se classificarmos 100% das transações com o modelo?\n",
    "4. Qual o Prejuízo Esperado pela Empresa em caso de falha do modelo?\n",
    "5. Qual o Lucro Esperado pela Blocker Fraud Company ao utilizar o modelo?\n"
   ]
  },
  {
   "cell_type": "markdown",
   "id": "ef472ae8",
   "metadata": {},
   "source": [
    "# 2. Imports"
   ]
  },
  {
   "cell_type": "code",
   "execution_count": 1,
   "id": "be62b7af",
   "metadata": {
    "ExecuteTime": {
     "end_time": "2022-05-17T13:24:41.043505Z",
     "start_time": "2022-05-17T13:24:40.023434Z"
    }
   },
   "outputs": [],
   "source": [
    "import numpy as np\n",
    "import pandas as pd\n",
    "import matplotlib.pyplot as plt\n",
    "import seaborn as sns\n",
    "import joblib\n",
    "\n",
    "#display\n",
    "pd.set_option('display.float_format', lambda x: '%.5f' % x)\n",
    "\n",
    "#ignore warnings\n",
    "import warnings\n",
    "warnings.filterwarnings(\"ignore\")\n",
    "\n",
    "from sklearn import model_selection\n",
    "from sklearn import ensemble\n",
    "from sklearn import tree\n",
    "from sklearn import linear_model\n",
    "from sklearn import pipeline\n",
    "from sklearn import preprocessing\n",
    "\n",
    "from feature_engine import imputation\n",
    "from feature_engine import encoding\n",
    "from feature_engine import discretisation\n",
    "from feature_engine import wrappers "
   ]
  },
  {
   "cell_type": "markdown",
   "id": "f60674db",
   "metadata": {},
   "source": [
    "## 2.1. Utils functions"
   ]
  },
  {
   "cell_type": "markdown",
   "id": "04cb3a11",
   "metadata": {},
   "source": [
    "# 3. Data"
   ]
  },
  {
   "cell_type": "markdown",
   "id": "f49dc166",
   "metadata": {},
   "source": [
    "## 3.1. Load dataset"
   ]
  },
  {
   "cell_type": "code",
   "execution_count": 2,
   "id": "5128588c",
   "metadata": {
    "ExecuteTime": {
     "end_time": "2022-05-17T13:24:46.427171Z",
     "start_time": "2022-05-17T13:24:41.044587Z"
    }
   },
   "outputs": [],
   "source": [
    "df = pd.read_parquet('../data/raw/df_applied_features.parquet.gzip') "
   ]
  },
  {
   "cell_type": "code",
   "execution_count": 3,
   "id": "08d89079",
   "metadata": {
    "ExecuteTime": {
     "end_time": "2022-05-17T13:24:46.440964Z",
     "start_time": "2022-05-17T13:24:46.428896Z"
    }
   },
   "outputs": [
    {
     "data": {
      "text/html": [
       "<div>\n",
       "<style scoped>\n",
       "    .dataframe tbody tr th:only-of-type {\n",
       "        vertical-align: middle;\n",
       "    }\n",
       "\n",
       "    .dataframe tbody tr th {\n",
       "        vertical-align: top;\n",
       "    }\n",
       "\n",
       "    .dataframe thead th {\n",
       "        text-align: right;\n",
       "    }\n",
       "</style>\n",
       "<table border=\"1\" class=\"dataframe\">\n",
       "  <thead>\n",
       "    <tr style=\"text-align: right;\">\n",
       "      <th></th>\n",
       "      <th>step</th>\n",
       "      <th>type</th>\n",
       "      <th>amount</th>\n",
       "      <th>nameOrig</th>\n",
       "      <th>oldbalanceOrg</th>\n",
       "      <th>newbalanceOrig</th>\n",
       "      <th>nameDest</th>\n",
       "      <th>oldbalanceDest</th>\n",
       "      <th>newbalanceDest</th>\n",
       "      <th>isFraud</th>\n",
       "      <th>isFlaggedFraud</th>\n",
       "      <th>is_high_amount</th>\n",
       "      <th>is_M_customer</th>\n",
       "      <th>is_new_balance_orig_zero</th>\n",
       "      <th>is_new_balance_dest_zero</th>\n",
       "      <th>diff_orig</th>\n",
       "      <th>diff_dest</th>\n",
       "      <th>is_orig_old_balance_greater_new</th>\n",
       "      <th>is_dest_old_balance_greater_new</th>\n",
       "    </tr>\n",
       "  </thead>\n",
       "  <tbody>\n",
       "    <tr>\n",
       "      <th>0</th>\n",
       "      <td>1</td>\n",
       "      <td>PAYMENT</td>\n",
       "      <td>9839.64000</td>\n",
       "      <td>C1231006815</td>\n",
       "      <td>170136.00000</td>\n",
       "      <td>160296.36000</td>\n",
       "      <td>M1979787155</td>\n",
       "      <td>0.00000</td>\n",
       "      <td>0.00000</td>\n",
       "      <td>0</td>\n",
       "      <td>0</td>\n",
       "      <td>0</td>\n",
       "      <td>1</td>\n",
       "      <td>0</td>\n",
       "      <td>1</td>\n",
       "      <td>9839.64000</td>\n",
       "      <td>0.00000</td>\n",
       "      <td>1</td>\n",
       "      <td>0</td>\n",
       "    </tr>\n",
       "    <tr>\n",
       "      <th>1</th>\n",
       "      <td>1</td>\n",
       "      <td>PAYMENT</td>\n",
       "      <td>1864.28000</td>\n",
       "      <td>C1666544295</td>\n",
       "      <td>21249.00000</td>\n",
       "      <td>19384.72000</td>\n",
       "      <td>M2044282225</td>\n",
       "      <td>0.00000</td>\n",
       "      <td>0.00000</td>\n",
       "      <td>0</td>\n",
       "      <td>0</td>\n",
       "      <td>0</td>\n",
       "      <td>1</td>\n",
       "      <td>0</td>\n",
       "      <td>1</td>\n",
       "      <td>1864.28000</td>\n",
       "      <td>0.00000</td>\n",
       "      <td>1</td>\n",
       "      <td>0</td>\n",
       "    </tr>\n",
       "    <tr>\n",
       "      <th>2</th>\n",
       "      <td>1</td>\n",
       "      <td>TRANSFER</td>\n",
       "      <td>181.00000</td>\n",
       "      <td>C1305486145</td>\n",
       "      <td>181.00000</td>\n",
       "      <td>0.00000</td>\n",
       "      <td>C553264065</td>\n",
       "      <td>0.00000</td>\n",
       "      <td>0.00000</td>\n",
       "      <td>1</td>\n",
       "      <td>0</td>\n",
       "      <td>0</td>\n",
       "      <td>0</td>\n",
       "      <td>1</td>\n",
       "      <td>1</td>\n",
       "      <td>181.00000</td>\n",
       "      <td>0.00000</td>\n",
       "      <td>1</td>\n",
       "      <td>0</td>\n",
       "    </tr>\n",
       "    <tr>\n",
       "      <th>3</th>\n",
       "      <td>1</td>\n",
       "      <td>CASH_OUT</td>\n",
       "      <td>181.00000</td>\n",
       "      <td>C840083671</td>\n",
       "      <td>181.00000</td>\n",
       "      <td>0.00000</td>\n",
       "      <td>C38997010</td>\n",
       "      <td>21182.00000</td>\n",
       "      <td>0.00000</td>\n",
       "      <td>1</td>\n",
       "      <td>0</td>\n",
       "      <td>0</td>\n",
       "      <td>0</td>\n",
       "      <td>1</td>\n",
       "      <td>1</td>\n",
       "      <td>181.00000</td>\n",
       "      <td>21182.00000</td>\n",
       "      <td>1</td>\n",
       "      <td>1</td>\n",
       "    </tr>\n",
       "    <tr>\n",
       "      <th>4</th>\n",
       "      <td>1</td>\n",
       "      <td>PAYMENT</td>\n",
       "      <td>11668.14000</td>\n",
       "      <td>C2048537720</td>\n",
       "      <td>41554.00000</td>\n",
       "      <td>29885.86000</td>\n",
       "      <td>M1230701703</td>\n",
       "      <td>0.00000</td>\n",
       "      <td>0.00000</td>\n",
       "      <td>0</td>\n",
       "      <td>0</td>\n",
       "      <td>0</td>\n",
       "      <td>1</td>\n",
       "      <td>0</td>\n",
       "      <td>1</td>\n",
       "      <td>11668.14000</td>\n",
       "      <td>0.00000</td>\n",
       "      <td>1</td>\n",
       "      <td>0</td>\n",
       "    </tr>\n",
       "  </tbody>\n",
       "</table>\n",
       "</div>"
      ],
      "text/plain": [
       "   step      type      amount     nameOrig  oldbalanceOrg  newbalanceOrig  \\\n",
       "0     1   PAYMENT  9839.64000  C1231006815   170136.00000    160296.36000   \n",
       "1     1   PAYMENT  1864.28000  C1666544295    21249.00000     19384.72000   \n",
       "2     1  TRANSFER   181.00000  C1305486145      181.00000         0.00000   \n",
       "3     1  CASH_OUT   181.00000   C840083671      181.00000         0.00000   \n",
       "4     1   PAYMENT 11668.14000  C2048537720    41554.00000     29885.86000   \n",
       "\n",
       "      nameDest  oldbalanceDest  newbalanceDest  isFraud  isFlaggedFraud  \\\n",
       "0  M1979787155         0.00000         0.00000        0               0   \n",
       "1  M2044282225         0.00000         0.00000        0               0   \n",
       "2   C553264065         0.00000         0.00000        1               0   \n",
       "3    C38997010     21182.00000         0.00000        1               0   \n",
       "4  M1230701703         0.00000         0.00000        0               0   \n",
       "\n",
       "   is_high_amount  is_M_customer  is_new_balance_orig_zero  \\\n",
       "0               0              1                         0   \n",
       "1               0              1                         0   \n",
       "2               0              0                         1   \n",
       "3               0              0                         1   \n",
       "4               0              1                         0   \n",
       "\n",
       "   is_new_balance_dest_zero   diff_orig   diff_dest  \\\n",
       "0                         1  9839.64000     0.00000   \n",
       "1                         1  1864.28000     0.00000   \n",
       "2                         1   181.00000     0.00000   \n",
       "3                         1   181.00000 21182.00000   \n",
       "4                         1 11668.14000     0.00000   \n",
       "\n",
       "   is_orig_old_balance_greater_new  is_dest_old_balance_greater_new  \n",
       "0                                1                                0  \n",
       "1                                1                                0  \n",
       "2                                1                                0  \n",
       "3                                1                                1  \n",
       "4                                1                                0  "
      ]
     },
     "execution_count": 3,
     "metadata": {},
     "output_type": "execute_result"
    }
   ],
   "source": [
    "df.head()"
   ]
  },
  {
   "cell_type": "markdown",
   "id": "02fe42a3",
   "metadata": {},
   "source": [
    "# 4. Data preparation"
   ]
  },
  {
   "cell_type": "markdown",
   "id": "c0a40a44",
   "metadata": {},
   "source": [
    "Para os dados númericos iremos atuar como a discretisation, que é o processo de transformar variáveis contínuas em discretas criando intervalos contíguos que espalha os intervalos dos valores das variáveis, criando assim uma variável mais normal.\n",
    "\n",
    "Além disso, também trataremos as variáveis categóricas, algumas serão transformadas em raras auxiliando o modelo."
   ]
  },
  {
   "cell_type": "markdown",
   "id": "4cffb143",
   "metadata": {},
   "source": [
    "## 4.1. Define feature and target"
   ]
  },
  {
   "cell_type": "code",
   "execution_count": 4,
   "id": "ab22409c",
   "metadata": {
    "ExecuteTime": {
     "end_time": "2022-05-17T13:24:46.831318Z",
     "start_time": "2022-05-17T13:24:46.442080Z"
    }
   },
   "outputs": [],
   "source": [
    "features = df.drop('isFraud', axis=1).columns.tolist()\n",
    "target = 'isFraud'"
   ]
  },
  {
   "cell_type": "markdown",
   "id": "36363c34",
   "metadata": {},
   "source": [
    "## 4.2. Split data into train and valid"
   ]
  },
  {
   "cell_type": "code",
   "execution_count": 5,
   "id": "469e41dc",
   "metadata": {
    "ExecuteTime": {
     "end_time": "2022-05-17T13:24:51.497447Z",
     "start_time": "2022-05-17T13:24:46.832450Z"
    }
   },
   "outputs": [],
   "source": [
    "X = df[features]\n",
    "y = df[target].values\n",
    "\n",
    "X_train, X_valid, y_train, y_valid = model_selection.train_test_split(X,\n",
    "                                                                    y,\n",
    "                                                                    random_state=42,\n",
    "                                                                    test_size=0.3,\n",
    "                                                                     stratify=y)"
   ]
  },
  {
   "cell_type": "code",
   "execution_count": 6,
   "id": "cc75645d",
   "metadata": {
    "ExecuteTime": {
     "end_time": "2022-05-17T13:24:52.323611Z",
     "start_time": "2022-05-17T13:24:51.498730Z"
    }
   },
   "outputs": [],
   "source": [
    "cols_to_include = ['isFlaggedFraud', 'is_high_amount', 'is_M_customer', \n",
    "                   'is_new_balance_orig_zero', 'is_orig_old_balance_greater_new',\n",
    "                   'is_new_balance_dest_zero', 'is_dest_old_balance_greater_new']\n",
    "\n",
    "columns_drop = ['nameOrig', 'nameDest']\n",
    "\n",
    "for col in cols_to_include:\n",
    "    X_train[col] = X_train[col].astype('category')\n",
    "    X_valid[col] = X_valid[col].astype('category')\n",
    "    \n",
    "X_train.drop(columns_drop, axis=1, inplace=True)\n",
    "X_valid.drop(columns_drop, axis=1, inplace=True)"
   ]
  },
  {
   "cell_type": "markdown",
   "id": "0087923c",
   "metadata": {},
   "source": [
    "## 4.3. Pipeline"
   ]
  },
  {
   "cell_type": "code",
   "execution_count": 7,
   "id": "a2226070",
   "metadata": {
    "ExecuteTime": {
     "end_time": "2022-05-17T13:24:52.327443Z",
     "start_time": "2022-05-17T13:24:52.324710Z"
    }
   },
   "outputs": [],
   "source": [
    "cat_features = ['is_new_balance_dest_zero',\n",
    "                'type',\n",
    "                'is_orig_old_balance_greater_new',\n",
    "                'is_M_customer',\n",
    "                'is_high_amount',\n",
    "                'is_new_balance_orig_zero',\n",
    "                'is_dest_old_balance_greater_new',\n",
    "                'isFlaggedFraud']\n",
    "num_features = ['amount',\n",
    "                'oldbalanceOrg',\n",
    "                'newbalanceOrig',\n",
    "                'oldbalanceDest',\n",
    "                'newbalanceDest',\n",
    "                'diff_orig',\n",
    "                'diff_dest']"
   ]
  },
  {
   "cell_type": "code",
   "execution_count": 8,
   "id": "4cb7f5c3",
   "metadata": {
    "ExecuteTime": {
     "end_time": "2022-05-17T13:24:52.331703Z",
     "start_time": "2022-05-17T13:24:52.329547Z"
    }
   },
   "outputs": [],
   "source": [
    "rf_clf = ensemble.RandomForestClassifier(n_jobs=-1,\n",
    "                                         random_state=42)"
   ]
  },
  {
   "cell_type": "code",
   "execution_count": 9,
   "id": "90c523cc",
   "metadata": {
    "ExecuteTime": {
     "end_time": "2022-05-17T13:24:52.334927Z",
     "start_time": "2022-05-17T13:24:52.332716Z"
    }
   },
   "outputs": [],
   "source": [
    "cat_enc = encoding.CountFrequencyEncoder(variables=cat_features)\n",
    "rare_enc = encoding.RareLabelEncoder(variables=['type', 'isFlaggedFraud'])\n",
    "numerical_enc = wrappers.SklearnTransformerWrapper(transformer = preprocessing.StandardScaler(),\n",
    "                                                   variables = num_features)"
   ]
  },
  {
   "cell_type": "code",
   "execution_count": 10,
   "id": "82173e16",
   "metadata": {
    "ExecuteTime": {
     "end_time": "2022-05-17T13:24:52.337949Z",
     "start_time": "2022-05-17T13:24:52.335806Z"
    }
   },
   "outputs": [],
   "source": [
    "pipe = pipeline.Pipeline(steps = [(\"enconding_rare\", rare_enc),\n",
    "                                  (\"enconding_cat\", cat_enc),\n",
    "                                  (\"enconding_num\", numerical_enc),\n",
    "                                  (\"model\", rf_clf)])"
   ]
  },
  {
   "cell_type": "code",
   "execution_count": 11,
   "id": "9316c64b",
   "metadata": {
    "ExecuteTime": {
     "end_time": "2022-05-17T13:27:53.143385Z",
     "start_time": "2022-05-17T13:24:52.338879Z"
    }
   },
   "outputs": [
    {
     "data": {
      "text/plain": [
       "Pipeline(steps=[('enconding_rare',\n",
       "                 RareLabelEncoder(variables=['type', 'isFlaggedFraud'])),\n",
       "                ('enconding_cat',\n",
       "                 CountFrequencyEncoder(variables=['is_new_balance_dest_zero',\n",
       "                                                  'type',\n",
       "                                                  'is_orig_old_balance_greater_new',\n",
       "                                                  'is_M_customer',\n",
       "                                                  'is_high_amount',\n",
       "                                                  'is_new_balance_orig_zero',\n",
       "                                                  'is_dest_old_balance_greater_new',\n",
       "                                                  'isFlaggedFraud'])),\n",
       "                ('enconding_num',\n",
       "                 SklearnTransformerWrapper(transformer=StandardScaler(),\n",
       "                                           variables=['amount', 'oldbalanceOrg',\n",
       "                                                      'newbalanceOrig',\n",
       "                                                      'oldbalanceDest',\n",
       "                                                      'newbalanceDest',\n",
       "                                                      'diff_orig',\n",
       "                                                      'diff_dest'])),\n",
       "                ('model', RandomForestClassifier(n_jobs=-1, random_state=42))])"
      ]
     },
     "execution_count": 11,
     "metadata": {},
     "output_type": "execute_result"
    }
   ],
   "source": [
    "pipe.fit(X_train, y_train)"
   ]
  },
  {
   "cell_type": "markdown",
   "id": "c39576c5",
   "metadata": {},
   "source": [
    "## 4.4. Persist pipeline"
   ]
  },
  {
   "cell_type": "code",
   "execution_count": 13,
   "id": "3ea2d637",
   "metadata": {
    "ExecuteTime": {
     "end_time": "2022-05-17T13:30:04.500366Z",
     "start_time": "2022-05-17T13:30:04.318446Z"
    }
   },
   "outputs": [
    {
     "data": {
      "text/plain": [
       "['../models/model_cicle_1.pkl']"
      ]
     },
     "execution_count": 13,
     "metadata": {},
     "output_type": "execute_result"
    }
   ],
   "source": [
    "joblib.dump(pipe, '../models/model_cicle_1.pkl', compress = 1)"
   ]
  },
  {
   "cell_type": "markdown",
   "id": "7d215daa",
   "metadata": {},
   "source": [
    "# 5. Conclusion"
   ]
  },
  {
   "cell_type": "markdown",
   "id": "9845069c",
   "metadata": {},
   "source": [
    "Nessa etapa fizemos o preprocessamento e treinamento do modelo que será utilizado adiante, para tal definimos quais são as variável categóricas e as númericas e dividimos os dados em treino e validação. Vimos que a variável alvo é bem desbalanceada, porém por enquanto não iremos atuar nesse quesito, deixando para os próximos ciclos.\n",
    "\n",
    "Na etapa anterior verificamos algumas variáveis que continha poucos valores distintos (type e isFlaggedFraud), portanto iremos transformar esses valores em Raro para auxiliar o modelo nas observações que possuem uma porcentagem baixo de categorias. Para as restantes das categóricas, usamos `CountFrequencyEncoder` onde substitui as categorias pela contagem ou pela porcentagem de observações por categoria da variável.\n",
    "\n",
    "As númericas, que vimos serem contínuas, será transformada pelo `StandardScaler` onde é feito a transformação dessas variável para uma média igual a zero e escala a variância a uma unidade. Isso significa que para cada feature, a média seria 0, e o Desvio Padrão seria 1\n",
    "\n",
    "O algoritmo escolhido para as predições é o RandomForest, é um bom algoritmo para esse primeiro ciclo para entendermos se é possível utilizar ele para as predições, e além disso podemos extrair informações valiosas para o negócio, esse modelo é possível saber quais as variáveis que levaram à fraude."
   ]
  }
 ],
 "metadata": {
  "kernelspec": {
   "display_name": "Python 3 (ipykernel)",
   "language": "python",
   "name": "python3"
  },
  "language_info": {
   "codemirror_mode": {
    "name": "ipython",
    "version": 3
   },
   "file_extension": ".py",
   "mimetype": "text/x-python",
   "name": "python",
   "nbconvert_exporter": "python",
   "pygments_lexer": "ipython3",
   "version": "3.9.7"
  },
  "notify_time": "5",
  "toc": {
   "base_numbering": 1,
   "nav_menu": {},
   "number_sections": true,
   "sideBar": true,
   "skip_h1_title": false,
   "title_cell": "Table of Contents",
   "title_sidebar": "Contents",
   "toc_cell": false,
   "toc_position": {},
   "toc_section_display": true,
   "toc_window_display": false
  },
  "varInspector": {
   "cols": {
    "lenName": 16,
    "lenType": 16,
    "lenVar": 40
   },
   "kernels_config": {
    "python": {
     "delete_cmd_postfix": "",
     "delete_cmd_prefix": "del ",
     "library": "var_list.py",
     "varRefreshCmd": "print(var_dic_list())"
    },
    "r": {
     "delete_cmd_postfix": ") ",
     "delete_cmd_prefix": "rm(",
     "library": "var_list.r",
     "varRefreshCmd": "cat(var_dic_list()) "
    }
   },
   "types_to_exclude": [
    "module",
    "function",
    "builtin_function_or_method",
    "instance",
    "_Feature"
   ],
   "window_display": false
  }
 },
 "nbformat": 4,
 "nbformat_minor": 5
}
